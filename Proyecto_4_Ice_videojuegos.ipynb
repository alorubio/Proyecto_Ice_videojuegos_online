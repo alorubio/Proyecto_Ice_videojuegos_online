{
 "cells": [
  {
   "cell_type": "markdown",
   "metadata": {
    "tags": [
     "e5c1f0c2-db9f-43a0-99b9-4875c52427e8"
    ]
   },
   "source": [
    "# Proyecto tienda online Ice\n",
    "\n",
    "Trabajas para la tienda online Ice que vende videojuegos por todo el mundo. Las reseñas de usuarios y expertos, los géneros, las plataformas (por ejemplo, Xbox o PlayStation) y los datos históricos sobre las ventas de juegos están disponibles en fuentes abiertas. \n",
    "\n",
    "## Objetivo\n",
    "\n",
    "Identificar patrones que determinen si un juego tiene éxito o no, para lograr detectar proyectos prometedores y planificar campañas publicitarias para el 2017.\n",
    "\n",
    "Para lograr el objetivo, se trabajará con la base de datos proporcionada con la empresa, y se examinará la información obtenida del año 2016, para realizar las estrategias adecuadas para el próximo año 2017."
   ]
  },
  {
   "cell_type": "markdown",
   "metadata": {},
   "source": [
    "## Inicialización"
   ]
  },
  {
   "cell_type": "code",
   "execution_count": 1,
   "metadata": {},
   "outputs": [],
   "source": [
    "#Se cargan las librerías\n",
    "\n",
    "import pandas as pd\n",
    "import numpy as np\n",
    "from scipy import stats as st\n",
    "from matplotlib import pyplot as plt\n",
    "import pandas as pd\n",
    "import warnings\n",
    "\n",
    "warnings.filterwarnings('ignore')"
   ]
  },
  {
   "cell_type": "markdown",
   "metadata": {},
   "source": [
    "## Carga de datos"
   ]
  },
  {
   "cell_type": "code",
   "execution_count": 2,
   "metadata": {},
   "outputs": [],
   "source": [
    "#Se cargan los dataframes que se van a trabajar\n",
    "\n",
    "df_games = pd.read_csv('/datasets/games.csv')"
   ]
  },
  {
   "cell_type": "markdown",
   "metadata": {},
   "source": [
    "## Revisión de datos"
   ]
  },
  {
   "cell_type": "code",
   "execution_count": 3,
   "metadata": {},
   "outputs": [
    {
     "name": "stdout",
     "output_type": "stream",
     "text": [
      "<class 'pandas.core.frame.DataFrame'>\n",
      "RangeIndex: 16715 entries, 0 to 16714\n",
      "Data columns (total 11 columns):\n",
      " #   Column           Non-Null Count  Dtype  \n",
      "---  ------           --------------  -----  \n",
      " 0   Name             16713 non-null  object \n",
      " 1   Platform         16715 non-null  object \n",
      " 2   Year_of_Release  16446 non-null  float64\n",
      " 3   Genre            16713 non-null  object \n",
      " 4   NA_sales         16715 non-null  float64\n",
      " 5   EU_sales         16715 non-null  float64\n",
      " 6   JP_sales         16715 non-null  float64\n",
      " 7   Other_sales      16715 non-null  float64\n",
      " 8   Critic_Score     8137 non-null   float64\n",
      " 9   User_Score       10014 non-null  object \n",
      " 10  Rating           9949 non-null   object \n",
      "dtypes: float64(6), object(5)\n",
      "memory usage: 1.4+ MB\n"
     ]
    }
   ],
   "source": [
    "#Se imprime la información general del df\n",
    "\n",
    "df_games.info()"
   ]
  },
  {
   "cell_type": "code",
   "execution_count": 4,
   "metadata": {},
   "outputs": [
    {
     "data": {
      "text/html": [
       "<div>\n",
       "<style scoped>\n",
       "    .dataframe tbody tr th:only-of-type {\n",
       "        vertical-align: middle;\n",
       "    }\n",
       "\n",
       "    .dataframe tbody tr th {\n",
       "        vertical-align: top;\n",
       "    }\n",
       "\n",
       "    .dataframe thead th {\n",
       "        text-align: right;\n",
       "    }\n",
       "</style>\n",
       "<table border=\"1\" class=\"dataframe\">\n",
       "  <thead>\n",
       "    <tr style=\"text-align: right;\">\n",
       "      <th></th>\n",
       "      <th>Name</th>\n",
       "      <th>Platform</th>\n",
       "      <th>Year_of_Release</th>\n",
       "      <th>Genre</th>\n",
       "      <th>NA_sales</th>\n",
       "      <th>EU_sales</th>\n",
       "      <th>JP_sales</th>\n",
       "      <th>Other_sales</th>\n",
       "      <th>Critic_Score</th>\n",
       "      <th>User_Score</th>\n",
       "      <th>Rating</th>\n",
       "    </tr>\n",
       "  </thead>\n",
       "  <tbody>\n",
       "    <tr>\n",
       "      <th>13769</th>\n",
       "      <td>Metal Gear Solid: Digital Graphic Novel</td>\n",
       "      <td>PSP</td>\n",
       "      <td>2006.0</td>\n",
       "      <td>Misc</td>\n",
       "      <td>0.02</td>\n",
       "      <td>0.00</td>\n",
       "      <td>0.02</td>\n",
       "      <td>0.00</td>\n",
       "      <td>78.0</td>\n",
       "      <td>7.2</td>\n",
       "      <td>M</td>\n",
       "    </tr>\n",
       "    <tr>\n",
       "      <th>745</th>\n",
       "      <td>High School Musical: Makin' the Cut!</td>\n",
       "      <td>DS</td>\n",
       "      <td>2007.0</td>\n",
       "      <td>Puzzle</td>\n",
       "      <td>1.06</td>\n",
       "      <td>0.90</td>\n",
       "      <td>0.00</td>\n",
       "      <td>0.23</td>\n",
       "      <td>NaN</td>\n",
       "      <td>NaN</td>\n",
       "      <td>NaN</td>\n",
       "    </tr>\n",
       "    <tr>\n",
       "      <th>16164</th>\n",
       "      <td>SeaWorld Adventure Parks: Shamu's Deep Sea Adv...</td>\n",
       "      <td>XB</td>\n",
       "      <td>2005.0</td>\n",
       "      <td>Adventure</td>\n",
       "      <td>0.01</td>\n",
       "      <td>0.00</td>\n",
       "      <td>0.00</td>\n",
       "      <td>0.00</td>\n",
       "      <td>NaN</td>\n",
       "      <td>NaN</td>\n",
       "      <td>NaN</td>\n",
       "    </tr>\n",
       "    <tr>\n",
       "      <th>4477</th>\n",
       "      <td>Spec Ops: Covert Assault</td>\n",
       "      <td>PS</td>\n",
       "      <td>2001.0</td>\n",
       "      <td>Shooter</td>\n",
       "      <td>0.24</td>\n",
       "      <td>0.16</td>\n",
       "      <td>0.00</td>\n",
       "      <td>0.03</td>\n",
       "      <td>NaN</td>\n",
       "      <td>tbd</td>\n",
       "      <td>T</td>\n",
       "    </tr>\n",
       "    <tr>\n",
       "      <th>6826</th>\n",
       "      <td>Dynasty Warriors 7</td>\n",
       "      <td>X360</td>\n",
       "      <td>2011.0</td>\n",
       "      <td>Action</td>\n",
       "      <td>0.16</td>\n",
       "      <td>0.06</td>\n",
       "      <td>0.00</td>\n",
       "      <td>0.02</td>\n",
       "      <td>58.0</td>\n",
       "      <td>8</td>\n",
       "      <td>T</td>\n",
       "    </tr>\n",
       "    <tr>\n",
       "      <th>2125</th>\n",
       "      <td>FIFA Soccer 2005</td>\n",
       "      <td>XB</td>\n",
       "      <td>2004.0</td>\n",
       "      <td>Sports</td>\n",
       "      <td>0.33</td>\n",
       "      <td>0.60</td>\n",
       "      <td>0.00</td>\n",
       "      <td>0.04</td>\n",
       "      <td>81.0</td>\n",
       "      <td>8.7</td>\n",
       "      <td>E</td>\n",
       "    </tr>\n",
       "    <tr>\n",
       "      <th>8945</th>\n",
       "      <td>The Wizard of Oz: Beyond The Yellow Brick Road</td>\n",
       "      <td>DS</td>\n",
       "      <td>2008.0</td>\n",
       "      <td>Role-Playing</td>\n",
       "      <td>0.13</td>\n",
       "      <td>0.00</td>\n",
       "      <td>0.00</td>\n",
       "      <td>0.01</td>\n",
       "      <td>68.0</td>\n",
       "      <td>6</td>\n",
       "      <td>E</td>\n",
       "    </tr>\n",
       "    <tr>\n",
       "      <th>5128</th>\n",
       "      <td>Slime MoriMori Dragon Quest: Shougeki No Shipp...</td>\n",
       "      <td>GBA</td>\n",
       "      <td>2003.0</td>\n",
       "      <td>Adventure</td>\n",
       "      <td>0.00</td>\n",
       "      <td>0.00</td>\n",
       "      <td>0.36</td>\n",
       "      <td>0.01</td>\n",
       "      <td>NaN</td>\n",
       "      <td>NaN</td>\n",
       "      <td>NaN</td>\n",
       "    </tr>\n",
       "    <tr>\n",
       "      <th>12909</th>\n",
       "      <td>Front Mission Evolved</td>\n",
       "      <td>PC</td>\n",
       "      <td>2010.0</td>\n",
       "      <td>Shooter</td>\n",
       "      <td>0.05</td>\n",
       "      <td>0.00</td>\n",
       "      <td>0.00</td>\n",
       "      <td>0.00</td>\n",
       "      <td>63.0</td>\n",
       "      <td>5.1</td>\n",
       "      <td>T</td>\n",
       "    </tr>\n",
       "    <tr>\n",
       "      <th>4108</th>\n",
       "      <td>The Saboteur</td>\n",
       "      <td>PS3</td>\n",
       "      <td>2009.0</td>\n",
       "      <td>Action</td>\n",
       "      <td>0.20</td>\n",
       "      <td>0.21</td>\n",
       "      <td>0.00</td>\n",
       "      <td>0.07</td>\n",
       "      <td>72.0</td>\n",
       "      <td>8.1</td>\n",
       "      <td>M</td>\n",
       "    </tr>\n",
       "  </tbody>\n",
       "</table>\n",
       "</div>"
      ],
      "text/plain": [
       "                                                    Name Platform  \\\n",
       "13769            Metal Gear Solid: Digital Graphic Novel      PSP   \n",
       "745                 High School Musical: Makin' the Cut!       DS   \n",
       "16164  SeaWorld Adventure Parks: Shamu's Deep Sea Adv...       XB   \n",
       "4477                            Spec Ops: Covert Assault       PS   \n",
       "6826                                  Dynasty Warriors 7     X360   \n",
       "2125                                    FIFA Soccer 2005       XB   \n",
       "8945      The Wizard of Oz: Beyond The Yellow Brick Road       DS   \n",
       "5128   Slime MoriMori Dragon Quest: Shougeki No Shipp...      GBA   \n",
       "12909                              Front Mission Evolved       PC   \n",
       "4108                                        The Saboteur      PS3   \n",
       "\n",
       "       Year_of_Release         Genre  NA_sales  EU_sales  JP_sales  \\\n",
       "13769           2006.0          Misc      0.02      0.00      0.02   \n",
       "745             2007.0        Puzzle      1.06      0.90      0.00   \n",
       "16164           2005.0     Adventure      0.01      0.00      0.00   \n",
       "4477            2001.0       Shooter      0.24      0.16      0.00   \n",
       "6826            2011.0        Action      0.16      0.06      0.00   \n",
       "2125            2004.0        Sports      0.33      0.60      0.00   \n",
       "8945            2008.0  Role-Playing      0.13      0.00      0.00   \n",
       "5128            2003.0     Adventure      0.00      0.00      0.36   \n",
       "12909           2010.0       Shooter      0.05      0.00      0.00   \n",
       "4108            2009.0        Action      0.20      0.21      0.00   \n",
       "\n",
       "       Other_sales  Critic_Score User_Score Rating  \n",
       "13769         0.00          78.0        7.2      M  \n",
       "745           0.23           NaN        NaN    NaN  \n",
       "16164         0.00           NaN        NaN    NaN  \n",
       "4477          0.03           NaN        tbd      T  \n",
       "6826          0.02          58.0          8      T  \n",
       "2125          0.04          81.0        8.7      E  \n",
       "8945          0.01          68.0          6      E  \n",
       "5128          0.01           NaN        NaN    NaN  \n",
       "12909         0.00          63.0        5.1      T  \n",
       "4108          0.07          72.0        8.1      M  "
      ]
     },
     "execution_count": 4,
     "metadata": {},
     "output_type": "execute_result"
    }
   ],
   "source": [
    "#Se imprime una muestra para visualizar como se encuentra capturada la información\n",
    "\n",
    "df_games.sample(10)"
   ]
  },
  {
   "cell_type": "markdown",
   "metadata": {},
   "source": [
    "Podemos observar que hay varios detalles que se deben de tratar en el dataframe, como lo son tipos de datos incorrectos que se tienen que ajustar al correspondiente, también visualizamos que hay valores ausentes en varias columnas, también es necesario definir si tratarlos o no, y en caso de tratarlos, analizar la mejor manera de tratarlos. También es necesario analizar si se encuentran valores duplicados, para que sean tratados y que esto no vaya a entorpecer al momento de realizar el análisis de la información, poner los nombres de las columnas en minúsculas, unificar nos nombres de la columna name y pasarlos a mayúsculas para una mejor práctica"
   ]
  },
  {
   "cell_type": "markdown",
   "metadata": {},
   "source": [
    "## Corrección de datos"
   ]
  },
  {
   "cell_type": "code",
   "execution_count": 5,
   "metadata": {},
   "outputs": [
    {
     "data": {
      "text/html": [
       "<div>\n",
       "<style scoped>\n",
       "    .dataframe tbody tr th:only-of-type {\n",
       "        vertical-align: middle;\n",
       "    }\n",
       "\n",
       "    .dataframe tbody tr th {\n",
       "        vertical-align: top;\n",
       "    }\n",
       "\n",
       "    .dataframe thead th {\n",
       "        text-align: right;\n",
       "    }\n",
       "</style>\n",
       "<table border=\"1\" class=\"dataframe\">\n",
       "  <thead>\n",
       "    <tr style=\"text-align: right;\">\n",
       "      <th></th>\n",
       "      <th>name</th>\n",
       "      <th>platform</th>\n",
       "      <th>year_of_release</th>\n",
       "      <th>genre</th>\n",
       "      <th>na_sales</th>\n",
       "      <th>eu_sales</th>\n",
       "      <th>jp_sales</th>\n",
       "      <th>other_sales</th>\n",
       "      <th>critic_score</th>\n",
       "      <th>user_score</th>\n",
       "      <th>rating</th>\n",
       "    </tr>\n",
       "  </thead>\n",
       "  <tbody>\n",
       "    <tr>\n",
       "      <th>0</th>\n",
       "      <td>Wii Sports</td>\n",
       "      <td>Wii</td>\n",
       "      <td>2006.0</td>\n",
       "      <td>Sports</td>\n",
       "      <td>41.36</td>\n",
       "      <td>28.96</td>\n",
       "      <td>3.77</td>\n",
       "      <td>8.45</td>\n",
       "      <td>76.0</td>\n",
       "      <td>8</td>\n",
       "      <td>E</td>\n",
       "    </tr>\n",
       "    <tr>\n",
       "      <th>1</th>\n",
       "      <td>Super Mario Bros.</td>\n",
       "      <td>NES</td>\n",
       "      <td>1985.0</td>\n",
       "      <td>Platform</td>\n",
       "      <td>29.08</td>\n",
       "      <td>3.58</td>\n",
       "      <td>6.81</td>\n",
       "      <td>0.77</td>\n",
       "      <td>NaN</td>\n",
       "      <td>NaN</td>\n",
       "      <td>NaN</td>\n",
       "    </tr>\n",
       "    <tr>\n",
       "      <th>2</th>\n",
       "      <td>Mario Kart Wii</td>\n",
       "      <td>Wii</td>\n",
       "      <td>2008.0</td>\n",
       "      <td>Racing</td>\n",
       "      <td>15.68</td>\n",
       "      <td>12.76</td>\n",
       "      <td>3.79</td>\n",
       "      <td>3.29</td>\n",
       "      <td>82.0</td>\n",
       "      <td>8.3</td>\n",
       "      <td>E</td>\n",
       "    </tr>\n",
       "    <tr>\n",
       "      <th>3</th>\n",
       "      <td>Wii Sports Resort</td>\n",
       "      <td>Wii</td>\n",
       "      <td>2009.0</td>\n",
       "      <td>Sports</td>\n",
       "      <td>15.61</td>\n",
       "      <td>10.93</td>\n",
       "      <td>3.28</td>\n",
       "      <td>2.95</td>\n",
       "      <td>80.0</td>\n",
       "      <td>8</td>\n",
       "      <td>E</td>\n",
       "    </tr>\n",
       "    <tr>\n",
       "      <th>4</th>\n",
       "      <td>Pokemon Red/Pokemon Blue</td>\n",
       "      <td>GB</td>\n",
       "      <td>1996.0</td>\n",
       "      <td>Role-Playing</td>\n",
       "      <td>11.27</td>\n",
       "      <td>8.89</td>\n",
       "      <td>10.22</td>\n",
       "      <td>1.00</td>\n",
       "      <td>NaN</td>\n",
       "      <td>NaN</td>\n",
       "      <td>NaN</td>\n",
       "    </tr>\n",
       "    <tr>\n",
       "      <th>...</th>\n",
       "      <td>...</td>\n",
       "      <td>...</td>\n",
       "      <td>...</td>\n",
       "      <td>...</td>\n",
       "      <td>...</td>\n",
       "      <td>...</td>\n",
       "      <td>...</td>\n",
       "      <td>...</td>\n",
       "      <td>...</td>\n",
       "      <td>...</td>\n",
       "      <td>...</td>\n",
       "    </tr>\n",
       "    <tr>\n",
       "      <th>16710</th>\n",
       "      <td>Samurai Warriors: Sanada Maru</td>\n",
       "      <td>PS3</td>\n",
       "      <td>2016.0</td>\n",
       "      <td>Action</td>\n",
       "      <td>0.00</td>\n",
       "      <td>0.00</td>\n",
       "      <td>0.01</td>\n",
       "      <td>0.00</td>\n",
       "      <td>NaN</td>\n",
       "      <td>NaN</td>\n",
       "      <td>NaN</td>\n",
       "    </tr>\n",
       "    <tr>\n",
       "      <th>16711</th>\n",
       "      <td>LMA Manager 2007</td>\n",
       "      <td>X360</td>\n",
       "      <td>2006.0</td>\n",
       "      <td>Sports</td>\n",
       "      <td>0.00</td>\n",
       "      <td>0.01</td>\n",
       "      <td>0.00</td>\n",
       "      <td>0.00</td>\n",
       "      <td>NaN</td>\n",
       "      <td>NaN</td>\n",
       "      <td>NaN</td>\n",
       "    </tr>\n",
       "    <tr>\n",
       "      <th>16712</th>\n",
       "      <td>Haitaka no Psychedelica</td>\n",
       "      <td>PSV</td>\n",
       "      <td>2016.0</td>\n",
       "      <td>Adventure</td>\n",
       "      <td>0.00</td>\n",
       "      <td>0.00</td>\n",
       "      <td>0.01</td>\n",
       "      <td>0.00</td>\n",
       "      <td>NaN</td>\n",
       "      <td>NaN</td>\n",
       "      <td>NaN</td>\n",
       "    </tr>\n",
       "    <tr>\n",
       "      <th>16713</th>\n",
       "      <td>Spirits &amp; Spells</td>\n",
       "      <td>GBA</td>\n",
       "      <td>2003.0</td>\n",
       "      <td>Platform</td>\n",
       "      <td>0.01</td>\n",
       "      <td>0.00</td>\n",
       "      <td>0.00</td>\n",
       "      <td>0.00</td>\n",
       "      <td>NaN</td>\n",
       "      <td>NaN</td>\n",
       "      <td>NaN</td>\n",
       "    </tr>\n",
       "    <tr>\n",
       "      <th>16714</th>\n",
       "      <td>Winning Post 8 2016</td>\n",
       "      <td>PSV</td>\n",
       "      <td>2016.0</td>\n",
       "      <td>Simulation</td>\n",
       "      <td>0.00</td>\n",
       "      <td>0.00</td>\n",
       "      <td>0.01</td>\n",
       "      <td>0.00</td>\n",
       "      <td>NaN</td>\n",
       "      <td>NaN</td>\n",
       "      <td>NaN</td>\n",
       "    </tr>\n",
       "  </tbody>\n",
       "</table>\n",
       "<p>16715 rows × 11 columns</p>\n",
       "</div>"
      ],
      "text/plain": [
       "                                name platform  year_of_release         genre  \\\n",
       "0                         Wii Sports      Wii           2006.0        Sports   \n",
       "1                  Super Mario Bros.      NES           1985.0      Platform   \n",
       "2                     Mario Kart Wii      Wii           2008.0        Racing   \n",
       "3                  Wii Sports Resort      Wii           2009.0        Sports   \n",
       "4           Pokemon Red/Pokemon Blue       GB           1996.0  Role-Playing   \n",
       "...                              ...      ...              ...           ...   \n",
       "16710  Samurai Warriors: Sanada Maru      PS3           2016.0        Action   \n",
       "16711               LMA Manager 2007     X360           2006.0        Sports   \n",
       "16712        Haitaka no Psychedelica      PSV           2016.0     Adventure   \n",
       "16713               Spirits & Spells      GBA           2003.0      Platform   \n",
       "16714            Winning Post 8 2016      PSV           2016.0    Simulation   \n",
       "\n",
       "       na_sales  eu_sales  jp_sales  other_sales  critic_score user_score  \\\n",
       "0         41.36     28.96      3.77         8.45          76.0          8   \n",
       "1         29.08      3.58      6.81         0.77           NaN        NaN   \n",
       "2         15.68     12.76      3.79         3.29          82.0        8.3   \n",
       "3         15.61     10.93      3.28         2.95          80.0          8   \n",
       "4         11.27      8.89     10.22         1.00           NaN        NaN   \n",
       "...         ...       ...       ...          ...           ...        ...   \n",
       "16710      0.00      0.00      0.01         0.00           NaN        NaN   \n",
       "16711      0.00      0.01      0.00         0.00           NaN        NaN   \n",
       "16712      0.00      0.00      0.01         0.00           NaN        NaN   \n",
       "16713      0.01      0.00      0.00         0.00           NaN        NaN   \n",
       "16714      0.00      0.00      0.01         0.00           NaN        NaN   \n",
       "\n",
       "      rating  \n",
       "0          E  \n",
       "1        NaN  \n",
       "2          E  \n",
       "3          E  \n",
       "4        NaN  \n",
       "...      ...  \n",
       "16710    NaN  \n",
       "16711    NaN  \n",
       "16712    NaN  \n",
       "16713    NaN  \n",
       "16714    NaN  \n",
       "\n",
       "[16715 rows x 11 columns]"
      ]
     },
     "execution_count": 5,
     "metadata": {},
     "output_type": "execute_result"
    }
   ],
   "source": [
    "#Se pasan los nombres de las columnas a minúsculas\n",
    "\n",
    "df_games.columns = [a.lower() for a in df_games.columns]\n",
    "df_games"
   ]
  },
  {
   "cell_type": "code",
   "execution_count": 6,
   "metadata": {},
   "outputs": [
    {
     "data": {
      "text/plain": [
       "NEED FOR SPEED MOST WANTED                      12\n",
       "LEGO MARVEL SUPER HEROES                         9\n",
       "RATATOUILLE                                      9\n",
       "FIFA 14                                          9\n",
       "MADDEN NFL 07                                    9\n",
       "                                                ..\n",
       "THE NIGHTMARE OF DRUAGA FUSHIGINO DUNGEON        1\n",
       "CIEL NOSURGE USHINAWARETA HOSHI E SASAGU UTA     1\n",
       "SHAMAN KING SOUL FIGHT                           1\n",
       "NANO ASSAULT                                     1\n",
       "CRIME KILLER                                     1\n",
       "Name: name, Length: 11547, dtype: int64"
      ]
     },
     "execution_count": 6,
     "metadata": {},
     "output_type": "execute_result"
    }
   ],
   "source": [
    "#Se pasan los strings de la columna name a mayúculas, se eliminan espacios y signos no deseados\n",
    "\n",
    "df_games['name']=df_games['name'].str.upper()\n",
    "df_games['name']=df_games['name'].str.strip()\n",
    "df_games['name']=df_games['name'].str.replace(\":\",\"\").str.replace(\";\",\"\").str.replace(\",\",\"\").str.replace(\".\",\"\")\n",
    "df_games['name'].value_counts(dropna=False).sort_values(ascending=False)"
   ]
  },
  {
   "cell_type": "code",
   "execution_count": 7,
   "metadata": {},
   "outputs": [
    {
     "data": {
      "text/html": [
       "<div>\n",
       "<style scoped>\n",
       "    .dataframe tbody tr th:only-of-type {\n",
       "        vertical-align: middle;\n",
       "    }\n",
       "\n",
       "    .dataframe tbody tr th {\n",
       "        vertical-align: top;\n",
       "    }\n",
       "\n",
       "    .dataframe thead th {\n",
       "        text-align: right;\n",
       "    }\n",
       "</style>\n",
       "<table border=\"1\" class=\"dataframe\">\n",
       "  <thead>\n",
       "    <tr style=\"text-align: right;\">\n",
       "      <th></th>\n",
       "      <th>name</th>\n",
       "      <th>platform</th>\n",
       "      <th>year_of_release</th>\n",
       "      <th>genre</th>\n",
       "      <th>na_sales</th>\n",
       "      <th>eu_sales</th>\n",
       "      <th>jp_sales</th>\n",
       "      <th>other_sales</th>\n",
       "      <th>critic_score</th>\n",
       "      <th>user_score</th>\n",
       "      <th>rating</th>\n",
       "    </tr>\n",
       "  </thead>\n",
       "  <tbody>\n",
       "    <tr>\n",
       "      <th>659</th>\n",
       "      <td>NaN</td>\n",
       "      <td>GEN</td>\n",
       "      <td>1993.0</td>\n",
       "      <td>NaN</td>\n",
       "      <td>1.78</td>\n",
       "      <td>0.53</td>\n",
       "      <td>0.00</td>\n",
       "      <td>0.08</td>\n",
       "      <td>NaN</td>\n",
       "      <td>NaN</td>\n",
       "      <td>NaN</td>\n",
       "    </tr>\n",
       "    <tr>\n",
       "      <th>14244</th>\n",
       "      <td>NaN</td>\n",
       "      <td>GEN</td>\n",
       "      <td>1993.0</td>\n",
       "      <td>NaN</td>\n",
       "      <td>0.00</td>\n",
       "      <td>0.00</td>\n",
       "      <td>0.03</td>\n",
       "      <td>0.00</td>\n",
       "      <td>NaN</td>\n",
       "      <td>NaN</td>\n",
       "      <td>NaN</td>\n",
       "    </tr>\n",
       "  </tbody>\n",
       "</table>\n",
       "</div>"
      ],
      "text/plain": [
       "      name platform  year_of_release genre  na_sales  eu_sales  jp_sales  \\\n",
       "659    NaN      GEN           1993.0   NaN      1.78      0.53      0.00   \n",
       "14244  NaN      GEN           1993.0   NaN      0.00      0.00      0.03   \n",
       "\n",
       "       other_sales  critic_score user_score rating  \n",
       "659           0.08           NaN        NaN    NaN  \n",
       "14244         0.00           NaN        NaN    NaN  "
      ]
     },
     "execution_count": 7,
     "metadata": {},
     "output_type": "execute_result"
    }
   ],
   "source": [
    "#Revisar valores perdidos\n",
    "\n",
    "df_games[df_games['name'].isna()]"
   ]
  },
  {
   "cell_type": "code",
   "execution_count": 8,
   "metadata": {},
   "outputs": [
    {
     "data": {
      "text/html": [
       "<div>\n",
       "<style scoped>\n",
       "    .dataframe tbody tr th:only-of-type {\n",
       "        vertical-align: middle;\n",
       "    }\n",
       "\n",
       "    .dataframe tbody tr th {\n",
       "        vertical-align: top;\n",
       "    }\n",
       "\n",
       "    .dataframe thead th {\n",
       "        text-align: right;\n",
       "    }\n",
       "</style>\n",
       "<table border=\"1\" class=\"dataframe\">\n",
       "  <thead>\n",
       "    <tr style=\"text-align: right;\">\n",
       "      <th></th>\n",
       "      <th>name</th>\n",
       "      <th>platform</th>\n",
       "      <th>year_of_release</th>\n",
       "      <th>genre</th>\n",
       "      <th>na_sales</th>\n",
       "      <th>eu_sales</th>\n",
       "      <th>jp_sales</th>\n",
       "      <th>other_sales</th>\n",
       "      <th>critic_score</th>\n",
       "      <th>user_score</th>\n",
       "      <th>rating</th>\n",
       "    </tr>\n",
       "  </thead>\n",
       "  <tbody>\n",
       "    <tr>\n",
       "      <th>659</th>\n",
       "      <td>UNKNOWN</td>\n",
       "      <td>GEN</td>\n",
       "      <td>1993.0</td>\n",
       "      <td>NaN</td>\n",
       "      <td>1.78</td>\n",
       "      <td>0.53</td>\n",
       "      <td>0.00</td>\n",
       "      <td>0.08</td>\n",
       "      <td>NaN</td>\n",
       "      <td>NaN</td>\n",
       "      <td>NaN</td>\n",
       "    </tr>\n",
       "    <tr>\n",
       "      <th>14244</th>\n",
       "      <td>UNKNOWN</td>\n",
       "      <td>GEN</td>\n",
       "      <td>1993.0</td>\n",
       "      <td>NaN</td>\n",
       "      <td>0.00</td>\n",
       "      <td>0.00</td>\n",
       "      <td>0.03</td>\n",
       "      <td>0.00</td>\n",
       "      <td>NaN</td>\n",
       "      <td>NaN</td>\n",
       "      <td>NaN</td>\n",
       "    </tr>\n",
       "  </tbody>\n",
       "</table>\n",
       "</div>"
      ],
      "text/plain": [
       "          name platform  year_of_release genre  na_sales  eu_sales  jp_sales  \\\n",
       "659    UNKNOWN      GEN           1993.0   NaN      1.78      0.53      0.00   \n",
       "14244  UNKNOWN      GEN           1993.0   NaN      0.00      0.00      0.03   \n",
       "\n",
       "       other_sales  critic_score user_score rating  \n",
       "659           0.08           NaN        NaN    NaN  \n",
       "14244         0.00           NaN        NaN    NaN  "
      ]
     },
     "execution_count": 8,
     "metadata": {},
     "output_type": "execute_result"
    }
   ],
   "source": [
    "#Tratar los valores perdidos en columna name\n",
    "\n",
    "df_games['name'] = df_games['name'].fillna('UNKNOWN')\n",
    "df_games[df_games['name'] == 'UNKNOWN']"
   ]
  },
  {
   "cell_type": "code",
   "execution_count": 9,
   "metadata": {},
   "outputs": [
    {
     "data": {
      "text/html": [
       "<div>\n",
       "<style scoped>\n",
       "    .dataframe tbody tr th:only-of-type {\n",
       "        vertical-align: middle;\n",
       "    }\n",
       "\n",
       "    .dataframe tbody tr th {\n",
       "        vertical-align: top;\n",
       "    }\n",
       "\n",
       "    .dataframe thead th {\n",
       "        text-align: right;\n",
       "    }\n",
       "</style>\n",
       "<table border=\"1\" class=\"dataframe\">\n",
       "  <thead>\n",
       "    <tr style=\"text-align: right;\">\n",
       "      <th></th>\n",
       "      <th>name</th>\n",
       "      <th>platform</th>\n",
       "      <th>year_of_release</th>\n",
       "      <th>genre</th>\n",
       "      <th>na_sales</th>\n",
       "      <th>eu_sales</th>\n",
       "      <th>jp_sales</th>\n",
       "      <th>other_sales</th>\n",
       "      <th>critic_score</th>\n",
       "      <th>user_score</th>\n",
       "      <th>rating</th>\n",
       "      <th>group_platform</th>\n",
       "    </tr>\n",
       "  </thead>\n",
       "  <tbody>\n",
       "    <tr>\n",
       "      <th>15533</th>\n",
       "      <td>BATTLE PRINCESS OF ARCADIAS</td>\n",
       "      <td>PS3</td>\n",
       "      <td>2013.0</td>\n",
       "      <td>Role-Playing</td>\n",
       "      <td>0.00</td>\n",
       "      <td>0.00</td>\n",
       "      <td>0.02</td>\n",
       "      <td>0.00</td>\n",
       "      <td>69.0</td>\n",
       "      <td>7.9</td>\n",
       "      <td>T</td>\n",
       "      <td>PlayStation</td>\n",
       "    </tr>\n",
       "    <tr>\n",
       "      <th>16076</th>\n",
       "      <td>KING'S QUEST THE COMPLETE COLLECTION</td>\n",
       "      <td>PS4</td>\n",
       "      <td>2016.0</td>\n",
       "      <td>Adventure</td>\n",
       "      <td>0.01</td>\n",
       "      <td>0.00</td>\n",
       "      <td>0.00</td>\n",
       "      <td>0.00</td>\n",
       "      <td>NaN</td>\n",
       "      <td>tbd</td>\n",
       "      <td>E10+</td>\n",
       "      <td>PlayStation</td>\n",
       "    </tr>\n",
       "    <tr>\n",
       "      <th>16545</th>\n",
       "      <td>MADAGASCAR ESCAPE 2 AFRICA</td>\n",
       "      <td>PC</td>\n",
       "      <td>2008.0</td>\n",
       "      <td>Action</td>\n",
       "      <td>0.01</td>\n",
       "      <td>0.00</td>\n",
       "      <td>0.00</td>\n",
       "      <td>0.00</td>\n",
       "      <td>58.0</td>\n",
       "      <td>8</td>\n",
       "      <td>E10+</td>\n",
       "      <td>PC</td>\n",
       "    </tr>\n",
       "    <tr>\n",
       "      <th>15123</th>\n",
       "      <td>MAJOR DREAM MAJOR DS DREAM BASEBALL</td>\n",
       "      <td>DS</td>\n",
       "      <td>2008.0</td>\n",
       "      <td>Sports</td>\n",
       "      <td>0.00</td>\n",
       "      <td>0.00</td>\n",
       "      <td>0.02</td>\n",
       "      <td>0.00</td>\n",
       "      <td>NaN</td>\n",
       "      <td>NaN</td>\n",
       "      <td>NaN</td>\n",
       "      <td>Nintendo</td>\n",
       "    </tr>\n",
       "    <tr>\n",
       "      <th>8992</th>\n",
       "      <td>DERBY STALLION GOLD</td>\n",
       "      <td>3DS</td>\n",
       "      <td>2014.0</td>\n",
       "      <td>Sports</td>\n",
       "      <td>0.00</td>\n",
       "      <td>0.00</td>\n",
       "      <td>0.14</td>\n",
       "      <td>0.00</td>\n",
       "      <td>NaN</td>\n",
       "      <td>NaN</td>\n",
       "      <td>NaN</td>\n",
       "      <td>Nintendo</td>\n",
       "    </tr>\n",
       "    <tr>\n",
       "      <th>6055</th>\n",
       "      <td>LOONEY TUNES RACING</td>\n",
       "      <td>PS</td>\n",
       "      <td>2000.0</td>\n",
       "      <td>Racing</td>\n",
       "      <td>0.16</td>\n",
       "      <td>0.11</td>\n",
       "      <td>0.00</td>\n",
       "      <td>0.02</td>\n",
       "      <td>71.0</td>\n",
       "      <td>tbd</td>\n",
       "      <td>E</td>\n",
       "      <td>PlayStation</td>\n",
       "    </tr>\n",
       "    <tr>\n",
       "      <th>3420</th>\n",
       "      <td>NARUTO THE BROKEN BOND</td>\n",
       "      <td>X360</td>\n",
       "      <td>2008.0</td>\n",
       "      <td>Action</td>\n",
       "      <td>0.24</td>\n",
       "      <td>0.28</td>\n",
       "      <td>0.00</td>\n",
       "      <td>0.06</td>\n",
       "      <td>80.0</td>\n",
       "      <td>7.8</td>\n",
       "      <td>T</td>\n",
       "      <td>XBox</td>\n",
       "    </tr>\n",
       "    <tr>\n",
       "      <th>14369</th>\n",
       "      <td>MAJESTY 2 THE FANTASY KINGDOM SIM</td>\n",
       "      <td>X360</td>\n",
       "      <td>NaN</td>\n",
       "      <td>Simulation</td>\n",
       "      <td>0.03</td>\n",
       "      <td>0.00</td>\n",
       "      <td>0.00</td>\n",
       "      <td>0.00</td>\n",
       "      <td>NaN</td>\n",
       "      <td>NaN</td>\n",
       "      <td>NaN</td>\n",
       "      <td>XBox</td>\n",
       "    </tr>\n",
       "    <tr>\n",
       "      <th>8579</th>\n",
       "      <td>DESTRUCTION DERBY 64</td>\n",
       "      <td>N64</td>\n",
       "      <td>1999.0</td>\n",
       "      <td>Racing</td>\n",
       "      <td>0.13</td>\n",
       "      <td>0.03</td>\n",
       "      <td>0.00</td>\n",
       "      <td>0.00</td>\n",
       "      <td>NaN</td>\n",
       "      <td>NaN</td>\n",
       "      <td>NaN</td>\n",
       "      <td>Nintendo</td>\n",
       "    </tr>\n",
       "    <tr>\n",
       "      <th>1661</th>\n",
       "      <td>THE MAGICAL QUEST STARRING MICKEY MOUSE</td>\n",
       "      <td>SNES</td>\n",
       "      <td>1992.0</td>\n",
       "      <td>Platform</td>\n",
       "      <td>0.66</td>\n",
       "      <td>0.17</td>\n",
       "      <td>0.35</td>\n",
       "      <td>0.03</td>\n",
       "      <td>NaN</td>\n",
       "      <td>NaN</td>\n",
       "      <td>NaN</td>\n",
       "      <td>Nintendo</td>\n",
       "    </tr>\n",
       "  </tbody>\n",
       "</table>\n",
       "</div>"
      ],
      "text/plain": [
       "                                          name platform  year_of_release  \\\n",
       "15533              BATTLE PRINCESS OF ARCADIAS      PS3           2013.0   \n",
       "16076     KING'S QUEST THE COMPLETE COLLECTION      PS4           2016.0   \n",
       "16545               MADAGASCAR ESCAPE 2 AFRICA       PC           2008.0   \n",
       "15123      MAJOR DREAM MAJOR DS DREAM BASEBALL       DS           2008.0   \n",
       "8992                       DERBY STALLION GOLD      3DS           2014.0   \n",
       "6055                       LOONEY TUNES RACING       PS           2000.0   \n",
       "3420                    NARUTO THE BROKEN BOND     X360           2008.0   \n",
       "14369        MAJESTY 2 THE FANTASY KINGDOM SIM     X360              NaN   \n",
       "8579                      DESTRUCTION DERBY 64      N64           1999.0   \n",
       "1661   THE MAGICAL QUEST STARRING MICKEY MOUSE     SNES           1992.0   \n",
       "\n",
       "              genre  na_sales  eu_sales  jp_sales  other_sales  critic_score  \\\n",
       "15533  Role-Playing      0.00      0.00      0.02         0.00          69.0   \n",
       "16076     Adventure      0.01      0.00      0.00         0.00           NaN   \n",
       "16545        Action      0.01      0.00      0.00         0.00          58.0   \n",
       "15123        Sports      0.00      0.00      0.02         0.00           NaN   \n",
       "8992         Sports      0.00      0.00      0.14         0.00           NaN   \n",
       "6055         Racing      0.16      0.11      0.00         0.02          71.0   \n",
       "3420         Action      0.24      0.28      0.00         0.06          80.0   \n",
       "14369    Simulation      0.03      0.00      0.00         0.00           NaN   \n",
       "8579         Racing      0.13      0.03      0.00         0.00           NaN   \n",
       "1661       Platform      0.66      0.17      0.35         0.03           NaN   \n",
       "\n",
       "      user_score rating group_platform  \n",
       "15533        7.9      T    PlayStation  \n",
       "16076        tbd   E10+    PlayStation  \n",
       "16545          8   E10+             PC  \n",
       "15123        NaN    NaN       Nintendo  \n",
       "8992         NaN    NaN       Nintendo  \n",
       "6055         tbd      E    PlayStation  \n",
       "3420         7.8      T           XBox  \n",
       "14369        NaN    NaN           XBox  \n",
       "8579         NaN    NaN       Nintendo  \n",
       "1661         NaN    NaN       Nintendo  "
      ]
     },
     "execution_count": 9,
     "metadata": {},
     "output_type": "execute_result"
    }
   ],
   "source": [
    "#Se realiza una función para agrupar los nombres de las plataformas en \"secciones\", para una mejor práctica por si se \n",
    "#llega a requerir en algún análisis\n",
    "\n",
    "def group_platform (x):\n",
    "    if x in ['3DS','DS','GB','GBA','GC','N64','NES','SNES','Wii','WiiU']:\n",
    "        return 'Nintendo'\n",
    "    elif x in ['PC','PCFX']:\n",
    "        return 'PC'\n",
    "    elif x in ['PS','PS2','PS3','PS4','PSP','PSV']:\n",
    "        return 'PlayStation'\n",
    "    elif x in ['X360','XB','XOne']:\n",
    "        return 'XBox'\n",
    "    else:\n",
    "        return 'Other'\n",
    "\n",
    "df_games['group_platform'] = df_games['platform'].apply(group_platform)\n",
    "df_games.sample(10)"
   ]
  },
  {
   "cell_type": "code",
   "execution_count": 10,
   "metadata": {},
   "outputs": [
    {
     "data": {
      "text/html": [
       "<div>\n",
       "<style scoped>\n",
       "    .dataframe tbody tr th:only-of-type {\n",
       "        vertical-align: middle;\n",
       "    }\n",
       "\n",
       "    .dataframe tbody tr th {\n",
       "        vertical-align: top;\n",
       "    }\n",
       "\n",
       "    .dataframe thead th {\n",
       "        text-align: right;\n",
       "    }\n",
       "</style>\n",
       "<table border=\"1\" class=\"dataframe\">\n",
       "  <thead>\n",
       "    <tr style=\"text-align: right;\">\n",
       "      <th></th>\n",
       "      <th>name</th>\n",
       "      <th>platform</th>\n",
       "      <th>year_of_release</th>\n",
       "      <th>genre</th>\n",
       "      <th>na_sales</th>\n",
       "      <th>eu_sales</th>\n",
       "      <th>jp_sales</th>\n",
       "      <th>other_sales</th>\n",
       "      <th>critic_score</th>\n",
       "      <th>user_score</th>\n",
       "      <th>rating</th>\n",
       "      <th>group_platform</th>\n",
       "    </tr>\n",
       "  </thead>\n",
       "  <tbody>\n",
       "    <tr>\n",
       "      <th>183</th>\n",
       "      <td>MADDEN NFL 2004</td>\n",
       "      <td>PS2</td>\n",
       "      <td>NaN</td>\n",
       "      <td>Sports</td>\n",
       "      <td>4.26</td>\n",
       "      <td>0.26</td>\n",
       "      <td>0.01</td>\n",
       "      <td>0.71</td>\n",
       "      <td>94.0</td>\n",
       "      <td>8.5</td>\n",
       "      <td>E</td>\n",
       "      <td>PlayStation</td>\n",
       "    </tr>\n",
       "    <tr>\n",
       "      <th>377</th>\n",
       "      <td>FIFA SOCCER 2004</td>\n",
       "      <td>PS2</td>\n",
       "      <td>NaN</td>\n",
       "      <td>Sports</td>\n",
       "      <td>0.59</td>\n",
       "      <td>2.36</td>\n",
       "      <td>0.04</td>\n",
       "      <td>0.51</td>\n",
       "      <td>84.0</td>\n",
       "      <td>6.4</td>\n",
       "      <td>E</td>\n",
       "      <td>PlayStation</td>\n",
       "    </tr>\n",
       "    <tr>\n",
       "      <th>456</th>\n",
       "      <td>LEGO BATMAN THE VIDEOGAME</td>\n",
       "      <td>Wii</td>\n",
       "      <td>NaN</td>\n",
       "      <td>Action</td>\n",
       "      <td>1.80</td>\n",
       "      <td>0.97</td>\n",
       "      <td>0.00</td>\n",
       "      <td>0.29</td>\n",
       "      <td>74.0</td>\n",
       "      <td>7.9</td>\n",
       "      <td>E10+</td>\n",
       "      <td>Nintendo</td>\n",
       "    </tr>\n",
       "    <tr>\n",
       "      <th>475</th>\n",
       "      <td>WWE SMACKDOWN VS RAW 2006</td>\n",
       "      <td>PS2</td>\n",
       "      <td>NaN</td>\n",
       "      <td>Fighting</td>\n",
       "      <td>1.57</td>\n",
       "      <td>1.02</td>\n",
       "      <td>0.00</td>\n",
       "      <td>0.41</td>\n",
       "      <td>NaN</td>\n",
       "      <td>NaN</td>\n",
       "      <td>NaN</td>\n",
       "      <td>PlayStation</td>\n",
       "    </tr>\n",
       "    <tr>\n",
       "      <th>609</th>\n",
       "      <td>SPACE INVADERS</td>\n",
       "      <td>2600</td>\n",
       "      <td>NaN</td>\n",
       "      <td>Shooter</td>\n",
       "      <td>2.36</td>\n",
       "      <td>0.14</td>\n",
       "      <td>0.00</td>\n",
       "      <td>0.03</td>\n",
       "      <td>NaN</td>\n",
       "      <td>NaN</td>\n",
       "      <td>NaN</td>\n",
       "      <td>Other</td>\n",
       "    </tr>\n",
       "    <tr>\n",
       "      <th>...</th>\n",
       "      <td>...</td>\n",
       "      <td>...</td>\n",
       "      <td>...</td>\n",
       "      <td>...</td>\n",
       "      <td>...</td>\n",
       "      <td>...</td>\n",
       "      <td>...</td>\n",
       "      <td>...</td>\n",
       "      <td>...</td>\n",
       "      <td>...</td>\n",
       "      <td>...</td>\n",
       "      <td>...</td>\n",
       "    </tr>\n",
       "    <tr>\n",
       "      <th>16373</th>\n",
       "      <td>PDC WORLD CHAMPIONSHIP DARTS 2008</td>\n",
       "      <td>PSP</td>\n",
       "      <td>NaN</td>\n",
       "      <td>Sports</td>\n",
       "      <td>0.01</td>\n",
       "      <td>0.00</td>\n",
       "      <td>0.00</td>\n",
       "      <td>0.00</td>\n",
       "      <td>43.0</td>\n",
       "      <td>tbd</td>\n",
       "      <td>E10+</td>\n",
       "      <td>PlayStation</td>\n",
       "    </tr>\n",
       "    <tr>\n",
       "      <th>16405</th>\n",
       "      <td>FREAKY FLYERS</td>\n",
       "      <td>GC</td>\n",
       "      <td>NaN</td>\n",
       "      <td>Racing</td>\n",
       "      <td>0.01</td>\n",
       "      <td>0.00</td>\n",
       "      <td>0.00</td>\n",
       "      <td>0.00</td>\n",
       "      <td>69.0</td>\n",
       "      <td>6.5</td>\n",
       "      <td>T</td>\n",
       "      <td>Nintendo</td>\n",
       "    </tr>\n",
       "    <tr>\n",
       "      <th>16448</th>\n",
       "      <td>INVERSION</td>\n",
       "      <td>PC</td>\n",
       "      <td>NaN</td>\n",
       "      <td>Shooter</td>\n",
       "      <td>0.01</td>\n",
       "      <td>0.00</td>\n",
       "      <td>0.00</td>\n",
       "      <td>0.00</td>\n",
       "      <td>59.0</td>\n",
       "      <td>6.7</td>\n",
       "      <td>M</td>\n",
       "      <td>PC</td>\n",
       "    </tr>\n",
       "    <tr>\n",
       "      <th>16458</th>\n",
       "      <td>HAKUOUKI SHINSENGUMI KITAN</td>\n",
       "      <td>PS3</td>\n",
       "      <td>NaN</td>\n",
       "      <td>Adventure</td>\n",
       "      <td>0.01</td>\n",
       "      <td>0.00</td>\n",
       "      <td>0.00</td>\n",
       "      <td>0.00</td>\n",
       "      <td>NaN</td>\n",
       "      <td>NaN</td>\n",
       "      <td>NaN</td>\n",
       "      <td>PlayStation</td>\n",
       "    </tr>\n",
       "    <tr>\n",
       "      <th>16522</th>\n",
       "      <td>VIRTUA QUEST</td>\n",
       "      <td>GC</td>\n",
       "      <td>NaN</td>\n",
       "      <td>Role-Playing</td>\n",
       "      <td>0.01</td>\n",
       "      <td>0.00</td>\n",
       "      <td>0.00</td>\n",
       "      <td>0.00</td>\n",
       "      <td>55.0</td>\n",
       "      <td>5.5</td>\n",
       "      <td>T</td>\n",
       "      <td>Nintendo</td>\n",
       "    </tr>\n",
       "  </tbody>\n",
       "</table>\n",
       "<p>269 rows × 12 columns</p>\n",
       "</div>"
      ],
      "text/plain": [
       "                                    name platform  year_of_release  \\\n",
       "183                      MADDEN NFL 2004      PS2              NaN   \n",
       "377                     FIFA SOCCER 2004      PS2              NaN   \n",
       "456            LEGO BATMAN THE VIDEOGAME      Wii              NaN   \n",
       "475            WWE SMACKDOWN VS RAW 2006      PS2              NaN   \n",
       "609                       SPACE INVADERS     2600              NaN   \n",
       "...                                  ...      ...              ...   \n",
       "16373  PDC WORLD CHAMPIONSHIP DARTS 2008      PSP              NaN   \n",
       "16405                      FREAKY FLYERS       GC              NaN   \n",
       "16448                          INVERSION       PC              NaN   \n",
       "16458         HAKUOUKI SHINSENGUMI KITAN      PS3              NaN   \n",
       "16522                       VIRTUA QUEST       GC              NaN   \n",
       "\n",
       "              genre  na_sales  eu_sales  jp_sales  other_sales  critic_score  \\\n",
       "183          Sports      4.26      0.26      0.01         0.71          94.0   \n",
       "377          Sports      0.59      2.36      0.04         0.51          84.0   \n",
       "456          Action      1.80      0.97      0.00         0.29          74.0   \n",
       "475        Fighting      1.57      1.02      0.00         0.41           NaN   \n",
       "609         Shooter      2.36      0.14      0.00         0.03           NaN   \n",
       "...             ...       ...       ...       ...          ...           ...   \n",
       "16373        Sports      0.01      0.00      0.00         0.00          43.0   \n",
       "16405        Racing      0.01      0.00      0.00         0.00          69.0   \n",
       "16448       Shooter      0.01      0.00      0.00         0.00          59.0   \n",
       "16458     Adventure      0.01      0.00      0.00         0.00           NaN   \n",
       "16522  Role-Playing      0.01      0.00      0.00         0.00          55.0   \n",
       "\n",
       "      user_score rating group_platform  \n",
       "183          8.5      E    PlayStation  \n",
       "377          6.4      E    PlayStation  \n",
       "456          7.9   E10+       Nintendo  \n",
       "475          NaN    NaN    PlayStation  \n",
       "609          NaN    NaN          Other  \n",
       "...          ...    ...            ...  \n",
       "16373        tbd   E10+    PlayStation  \n",
       "16405        6.5      T       Nintendo  \n",
       "16448        6.7      M             PC  \n",
       "16458        NaN    NaN    PlayStation  \n",
       "16522        5.5      T       Nintendo  \n",
       "\n",
       "[269 rows x 12 columns]"
      ]
     },
     "execution_count": 10,
     "metadata": {},
     "output_type": "execute_result"
    }
   ],
   "source": [
    "#Revisar valores perdidos en columna year of release\n",
    "\n",
    "df_games[df_games['year_of_release'].isna()]"
   ]
  },
  {
   "cell_type": "code",
   "execution_count": 11,
   "metadata": {},
   "outputs": [
    {
     "data": {
      "text/plain": [
       "count    16446.000000\n",
       "mean      2006.484616\n",
       "std          5.877050\n",
       "min       1980.000000\n",
       "25%       2003.000000\n",
       "50%       2007.000000\n",
       "75%       2010.000000\n",
       "max       2016.000000\n",
       "Name: year_of_release, dtype: float64"
      ]
     },
     "execution_count": 11,
     "metadata": {},
     "output_type": "execute_result"
    }
   ],
   "source": [
    "#Eliminar valores perdidos en columna year of release\n",
    "\n",
    "df_games = df_games.dropna(subset=[\"year_of_release\"])\n",
    "df_games['year_of_release'].describe()"
   ]
  },
  {
   "cell_type": "code",
   "execution_count": 12,
   "metadata": {},
   "outputs": [
    {
     "data": {
      "text/html": [
       "<div>\n",
       "<style scoped>\n",
       "    .dataframe tbody tr th:only-of-type {\n",
       "        vertical-align: middle;\n",
       "    }\n",
       "\n",
       "    .dataframe tbody tr th {\n",
       "        vertical-align: top;\n",
       "    }\n",
       "\n",
       "    .dataframe thead th {\n",
       "        text-align: right;\n",
       "    }\n",
       "</style>\n",
       "<table border=\"1\" class=\"dataframe\">\n",
       "  <thead>\n",
       "    <tr style=\"text-align: right;\">\n",
       "      <th></th>\n",
       "      <th>name</th>\n",
       "      <th>platform</th>\n",
       "      <th>year_of_release</th>\n",
       "      <th>genre</th>\n",
       "      <th>na_sales</th>\n",
       "      <th>eu_sales</th>\n",
       "      <th>jp_sales</th>\n",
       "      <th>other_sales</th>\n",
       "      <th>critic_score</th>\n",
       "      <th>user_score</th>\n",
       "      <th>rating</th>\n",
       "      <th>group_platform</th>\n",
       "    </tr>\n",
       "  </thead>\n",
       "  <tbody>\n",
       "    <tr>\n",
       "      <th>659</th>\n",
       "      <td>UNKNOWN</td>\n",
       "      <td>GEN</td>\n",
       "      <td>1993.0</td>\n",
       "      <td>NaN</td>\n",
       "      <td>1.78</td>\n",
       "      <td>0.53</td>\n",
       "      <td>0.00</td>\n",
       "      <td>0.08</td>\n",
       "      <td>NaN</td>\n",
       "      <td>NaN</td>\n",
       "      <td>NaN</td>\n",
       "      <td>Other</td>\n",
       "    </tr>\n",
       "    <tr>\n",
       "      <th>14244</th>\n",
       "      <td>UNKNOWN</td>\n",
       "      <td>GEN</td>\n",
       "      <td>1993.0</td>\n",
       "      <td>NaN</td>\n",
       "      <td>0.00</td>\n",
       "      <td>0.00</td>\n",
       "      <td>0.03</td>\n",
       "      <td>0.00</td>\n",
       "      <td>NaN</td>\n",
       "      <td>NaN</td>\n",
       "      <td>NaN</td>\n",
       "      <td>Other</td>\n",
       "    </tr>\n",
       "  </tbody>\n",
       "</table>\n",
       "</div>"
      ],
      "text/plain": [
       "          name platform  year_of_release genre  na_sales  eu_sales  jp_sales  \\\n",
       "659    UNKNOWN      GEN           1993.0   NaN      1.78      0.53      0.00   \n",
       "14244  UNKNOWN      GEN           1993.0   NaN      0.00      0.00      0.03   \n",
       "\n",
       "       other_sales  critic_score user_score rating group_platform  \n",
       "659           0.08           NaN        NaN    NaN          Other  \n",
       "14244         0.00           NaN        NaN    NaN          Other  "
      ]
     },
     "execution_count": 12,
     "metadata": {},
     "output_type": "execute_result"
    }
   ],
   "source": [
    "#Revisar valores perdidos en columna genre\n",
    "\n",
    "df_games[df_games['genre'].isna()]"
   ]
  },
  {
   "cell_type": "code",
   "execution_count": 13,
   "metadata": {},
   "outputs": [
    {
     "data": {
      "text/html": [
       "<div>\n",
       "<style scoped>\n",
       "    .dataframe tbody tr th:only-of-type {\n",
       "        vertical-align: middle;\n",
       "    }\n",
       "\n",
       "    .dataframe tbody tr th {\n",
       "        vertical-align: top;\n",
       "    }\n",
       "\n",
       "    .dataframe thead th {\n",
       "        text-align: right;\n",
       "    }\n",
       "</style>\n",
       "<table border=\"1\" class=\"dataframe\">\n",
       "  <thead>\n",
       "    <tr style=\"text-align: right;\">\n",
       "      <th></th>\n",
       "      <th>name</th>\n",
       "      <th>platform</th>\n",
       "      <th>year_of_release</th>\n",
       "      <th>genre</th>\n",
       "      <th>na_sales</th>\n",
       "      <th>eu_sales</th>\n",
       "      <th>jp_sales</th>\n",
       "      <th>other_sales</th>\n",
       "      <th>critic_score</th>\n",
       "      <th>user_score</th>\n",
       "      <th>rating</th>\n",
       "      <th>group_platform</th>\n",
       "    </tr>\n",
       "  </thead>\n",
       "  <tbody>\n",
       "    <tr>\n",
       "      <th>659</th>\n",
       "      <td>UNKNOWN</td>\n",
       "      <td>GEN</td>\n",
       "      <td>1993.0</td>\n",
       "      <td>Unknown</td>\n",
       "      <td>1.78</td>\n",
       "      <td>0.53</td>\n",
       "      <td>0.00</td>\n",
       "      <td>0.08</td>\n",
       "      <td>NaN</td>\n",
       "      <td>NaN</td>\n",
       "      <td>NaN</td>\n",
       "      <td>Other</td>\n",
       "    </tr>\n",
       "    <tr>\n",
       "      <th>14244</th>\n",
       "      <td>UNKNOWN</td>\n",
       "      <td>GEN</td>\n",
       "      <td>1993.0</td>\n",
       "      <td>Unknown</td>\n",
       "      <td>0.00</td>\n",
       "      <td>0.00</td>\n",
       "      <td>0.03</td>\n",
       "      <td>0.00</td>\n",
       "      <td>NaN</td>\n",
       "      <td>NaN</td>\n",
       "      <td>NaN</td>\n",
       "      <td>Other</td>\n",
       "    </tr>\n",
       "  </tbody>\n",
       "</table>\n",
       "</div>"
      ],
      "text/plain": [
       "          name platform  year_of_release    genre  na_sales  eu_sales  \\\n",
       "659    UNKNOWN      GEN           1993.0  Unknown      1.78      0.53   \n",
       "14244  UNKNOWN      GEN           1993.0  Unknown      0.00      0.00   \n",
       "\n",
       "       jp_sales  other_sales  critic_score user_score rating group_platform  \n",
       "659        0.00         0.08           NaN        NaN    NaN          Other  \n",
       "14244      0.03         0.00           NaN        NaN    NaN          Other  "
      ]
     },
     "execution_count": 13,
     "metadata": {},
     "output_type": "execute_result"
    }
   ],
   "source": [
    "#Tratar valores perdidos en columna genre\n",
    "\n",
    "df_games['genre']=df_games['genre'].fillna('Unknown')\n",
    "df_games[df_games['genre'] == 'Unknown']"
   ]
  },
  {
   "cell_type": "code",
   "execution_count": 14,
   "metadata": {},
   "outputs": [
    {
     "data": {
      "text/html": [
       "<div>\n",
       "<style scoped>\n",
       "    .dataframe tbody tr th:only-of-type {\n",
       "        vertical-align: middle;\n",
       "    }\n",
       "\n",
       "    .dataframe tbody tr th {\n",
       "        vertical-align: top;\n",
       "    }\n",
       "\n",
       "    .dataframe thead th {\n",
       "        text-align: right;\n",
       "    }\n",
       "</style>\n",
       "<table border=\"1\" class=\"dataframe\">\n",
       "  <thead>\n",
       "    <tr style=\"text-align: right;\">\n",
       "      <th></th>\n",
       "      <th>name</th>\n",
       "      <th>platform</th>\n",
       "      <th>year_of_release</th>\n",
       "      <th>genre</th>\n",
       "      <th>na_sales</th>\n",
       "      <th>eu_sales</th>\n",
       "      <th>jp_sales</th>\n",
       "      <th>other_sales</th>\n",
       "      <th>critic_score</th>\n",
       "      <th>user_score</th>\n",
       "      <th>rating</th>\n",
       "      <th>group_platform</th>\n",
       "    </tr>\n",
       "  </thead>\n",
       "  <tbody>\n",
       "    <tr>\n",
       "      <th>0</th>\n",
       "      <td>WII SPORTS</td>\n",
       "      <td>Wii</td>\n",
       "      <td>2006.0</td>\n",
       "      <td>Sports</td>\n",
       "      <td>41.36</td>\n",
       "      <td>28.96</td>\n",
       "      <td>3.77</td>\n",
       "      <td>8.45</td>\n",
       "      <td>76.0</td>\n",
       "      <td>80.0</td>\n",
       "      <td>E</td>\n",
       "      <td>Nintendo</td>\n",
       "    </tr>\n",
       "    <tr>\n",
       "      <th>1</th>\n",
       "      <td>SUPER MARIO BROS</td>\n",
       "      <td>NES</td>\n",
       "      <td>1985.0</td>\n",
       "      <td>Platform</td>\n",
       "      <td>29.08</td>\n",
       "      <td>3.58</td>\n",
       "      <td>6.81</td>\n",
       "      <td>0.77</td>\n",
       "      <td>NaN</td>\n",
       "      <td>NaN</td>\n",
       "      <td>NaN</td>\n",
       "      <td>Nintendo</td>\n",
       "    </tr>\n",
       "    <tr>\n",
       "      <th>2</th>\n",
       "      <td>MARIO KART WII</td>\n",
       "      <td>Wii</td>\n",
       "      <td>2008.0</td>\n",
       "      <td>Racing</td>\n",
       "      <td>15.68</td>\n",
       "      <td>12.76</td>\n",
       "      <td>3.79</td>\n",
       "      <td>3.29</td>\n",
       "      <td>82.0</td>\n",
       "      <td>83.0</td>\n",
       "      <td>E</td>\n",
       "      <td>Nintendo</td>\n",
       "    </tr>\n",
       "    <tr>\n",
       "      <th>3</th>\n",
       "      <td>WII SPORTS RESORT</td>\n",
       "      <td>Wii</td>\n",
       "      <td>2009.0</td>\n",
       "      <td>Sports</td>\n",
       "      <td>15.61</td>\n",
       "      <td>10.93</td>\n",
       "      <td>3.28</td>\n",
       "      <td>2.95</td>\n",
       "      <td>80.0</td>\n",
       "      <td>80.0</td>\n",
       "      <td>E</td>\n",
       "      <td>Nintendo</td>\n",
       "    </tr>\n",
       "    <tr>\n",
       "      <th>4</th>\n",
       "      <td>POKEMON RED/POKEMON BLUE</td>\n",
       "      <td>GB</td>\n",
       "      <td>1996.0</td>\n",
       "      <td>Role-Playing</td>\n",
       "      <td>11.27</td>\n",
       "      <td>8.89</td>\n",
       "      <td>10.22</td>\n",
       "      <td>1.00</td>\n",
       "      <td>NaN</td>\n",
       "      <td>NaN</td>\n",
       "      <td>NaN</td>\n",
       "      <td>Nintendo</td>\n",
       "    </tr>\n",
       "    <tr>\n",
       "      <th>...</th>\n",
       "      <td>...</td>\n",
       "      <td>...</td>\n",
       "      <td>...</td>\n",
       "      <td>...</td>\n",
       "      <td>...</td>\n",
       "      <td>...</td>\n",
       "      <td>...</td>\n",
       "      <td>...</td>\n",
       "      <td>...</td>\n",
       "      <td>...</td>\n",
       "      <td>...</td>\n",
       "      <td>...</td>\n",
       "    </tr>\n",
       "    <tr>\n",
       "      <th>16710</th>\n",
       "      <td>SAMURAI WARRIORS SANADA MARU</td>\n",
       "      <td>PS3</td>\n",
       "      <td>2016.0</td>\n",
       "      <td>Action</td>\n",
       "      <td>0.00</td>\n",
       "      <td>0.00</td>\n",
       "      <td>0.01</td>\n",
       "      <td>0.00</td>\n",
       "      <td>NaN</td>\n",
       "      <td>NaN</td>\n",
       "      <td>NaN</td>\n",
       "      <td>PlayStation</td>\n",
       "    </tr>\n",
       "    <tr>\n",
       "      <th>16711</th>\n",
       "      <td>LMA MANAGER 2007</td>\n",
       "      <td>X360</td>\n",
       "      <td>2006.0</td>\n",
       "      <td>Sports</td>\n",
       "      <td>0.00</td>\n",
       "      <td>0.01</td>\n",
       "      <td>0.00</td>\n",
       "      <td>0.00</td>\n",
       "      <td>NaN</td>\n",
       "      <td>NaN</td>\n",
       "      <td>NaN</td>\n",
       "      <td>XBox</td>\n",
       "    </tr>\n",
       "    <tr>\n",
       "      <th>16712</th>\n",
       "      <td>HAITAKA NO PSYCHEDELICA</td>\n",
       "      <td>PSV</td>\n",
       "      <td>2016.0</td>\n",
       "      <td>Adventure</td>\n",
       "      <td>0.00</td>\n",
       "      <td>0.00</td>\n",
       "      <td>0.01</td>\n",
       "      <td>0.00</td>\n",
       "      <td>NaN</td>\n",
       "      <td>NaN</td>\n",
       "      <td>NaN</td>\n",
       "      <td>PlayStation</td>\n",
       "    </tr>\n",
       "    <tr>\n",
       "      <th>16713</th>\n",
       "      <td>SPIRITS &amp; SPELLS</td>\n",
       "      <td>GBA</td>\n",
       "      <td>2003.0</td>\n",
       "      <td>Platform</td>\n",
       "      <td>0.01</td>\n",
       "      <td>0.00</td>\n",
       "      <td>0.00</td>\n",
       "      <td>0.00</td>\n",
       "      <td>NaN</td>\n",
       "      <td>NaN</td>\n",
       "      <td>NaN</td>\n",
       "      <td>Nintendo</td>\n",
       "    </tr>\n",
       "    <tr>\n",
       "      <th>16714</th>\n",
       "      <td>WINNING POST 8 2016</td>\n",
       "      <td>PSV</td>\n",
       "      <td>2016.0</td>\n",
       "      <td>Simulation</td>\n",
       "      <td>0.00</td>\n",
       "      <td>0.00</td>\n",
       "      <td>0.01</td>\n",
       "      <td>0.00</td>\n",
       "      <td>NaN</td>\n",
       "      <td>NaN</td>\n",
       "      <td>NaN</td>\n",
       "      <td>PlayStation</td>\n",
       "    </tr>\n",
       "  </tbody>\n",
       "</table>\n",
       "<p>16446 rows × 12 columns</p>\n",
       "</div>"
      ],
      "text/plain": [
       "                               name platform  year_of_release         genre  \\\n",
       "0                        WII SPORTS      Wii           2006.0        Sports   \n",
       "1                  SUPER MARIO BROS      NES           1985.0      Platform   \n",
       "2                    MARIO KART WII      Wii           2008.0        Racing   \n",
       "3                 WII SPORTS RESORT      Wii           2009.0        Sports   \n",
       "4          POKEMON RED/POKEMON BLUE       GB           1996.0  Role-Playing   \n",
       "...                             ...      ...              ...           ...   \n",
       "16710  SAMURAI WARRIORS SANADA MARU      PS3           2016.0        Action   \n",
       "16711              LMA MANAGER 2007     X360           2006.0        Sports   \n",
       "16712       HAITAKA NO PSYCHEDELICA      PSV           2016.0     Adventure   \n",
       "16713              SPIRITS & SPELLS      GBA           2003.0      Platform   \n",
       "16714           WINNING POST 8 2016      PSV           2016.0    Simulation   \n",
       "\n",
       "       na_sales  eu_sales  jp_sales  other_sales  critic_score  user_score  \\\n",
       "0         41.36     28.96      3.77         8.45          76.0        80.0   \n",
       "1         29.08      3.58      6.81         0.77           NaN         NaN   \n",
       "2         15.68     12.76      3.79         3.29          82.0        83.0   \n",
       "3         15.61     10.93      3.28         2.95          80.0        80.0   \n",
       "4         11.27      8.89     10.22         1.00           NaN         NaN   \n",
       "...         ...       ...       ...          ...           ...         ...   \n",
       "16710      0.00      0.00      0.01         0.00           NaN         NaN   \n",
       "16711      0.00      0.01      0.00         0.00           NaN         NaN   \n",
       "16712      0.00      0.00      0.01         0.00           NaN         NaN   \n",
       "16713      0.01      0.00      0.00         0.00           NaN         NaN   \n",
       "16714      0.00      0.00      0.01         0.00           NaN         NaN   \n",
       "\n",
       "      rating group_platform  \n",
       "0          E       Nintendo  \n",
       "1        NaN       Nintendo  \n",
       "2          E       Nintendo  \n",
       "3          E       Nintendo  \n",
       "4        NaN       Nintendo  \n",
       "...      ...            ...  \n",
       "16710    NaN    PlayStation  \n",
       "16711    NaN           XBox  \n",
       "16712    NaN    PlayStation  \n",
       "16713    NaN       Nintendo  \n",
       "16714    NaN    PlayStation  \n",
       "\n",
       "[16446 rows x 12 columns]"
      ]
     },
     "execution_count": 14,
     "metadata": {},
     "output_type": "execute_result"
    }
   ],
   "source": [
    "#Reemplazar tbd en columna user score\n",
    "\n",
    "df_games.loc[df_games['user_score'] == \"tbd\",'user_score'] = np.nan\n",
    "\n",
    "#Se cambia el tipo de datos de la columna a tipo float\n",
    "df_games['user_score'] = df_games['user_score'].astype(float)\n",
    "\n",
    "#Se unifica el tipo de evaluación para que sea comparable con critic score\n",
    "df_games['user_score'] = df_games['user_score'] * 10\n",
    "\n",
    "df_games"
   ]
  },
  {
   "cell_type": "code",
   "execution_count": 15,
   "metadata": {
    "scrolled": true
   },
   "outputs": [
    {
     "data": {
      "text/html": [
       "<div>\n",
       "<style scoped>\n",
       "    .dataframe tbody tr th:only-of-type {\n",
       "        vertical-align: middle;\n",
       "    }\n",
       "\n",
       "    .dataframe tbody tr th {\n",
       "        vertical-align: top;\n",
       "    }\n",
       "\n",
       "    .dataframe thead th {\n",
       "        text-align: right;\n",
       "    }\n",
       "</style>\n",
       "<table border=\"1\" class=\"dataframe\">\n",
       "  <thead>\n",
       "    <tr style=\"text-align: right;\">\n",
       "      <th></th>\n",
       "      <th>name</th>\n",
       "      <th>platform</th>\n",
       "      <th>year_of_release</th>\n",
       "      <th>genre</th>\n",
       "      <th>na_sales</th>\n",
       "      <th>eu_sales</th>\n",
       "      <th>jp_sales</th>\n",
       "      <th>other_sales</th>\n",
       "      <th>critic_score</th>\n",
       "      <th>user_score</th>\n",
       "      <th>rating</th>\n",
       "      <th>group_platform</th>\n",
       "      <th>rating_definition</th>\n",
       "    </tr>\n",
       "  </thead>\n",
       "  <tbody>\n",
       "    <tr>\n",
       "      <th>5278</th>\n",
       "      <td>GUITAR HERO SMASH HITS</td>\n",
       "      <td>PS3</td>\n",
       "      <td>2009.0</td>\n",
       "      <td>Misc</td>\n",
       "      <td>0.20</td>\n",
       "      <td>0.11</td>\n",
       "      <td>0.00</td>\n",
       "      <td>0.05</td>\n",
       "      <td>73.0</td>\n",
       "      <td>72.0</td>\n",
       "      <td>T</td>\n",
       "      <td>PlayStation</td>\n",
       "      <td>Teens</td>\n",
       "    </tr>\n",
       "    <tr>\n",
       "      <th>3472</th>\n",
       "      <td>FINAL FANTASY THE 4 HEROES OF LIGHT</td>\n",
       "      <td>DS</td>\n",
       "      <td>2009.0</td>\n",
       "      <td>Role-Playing</td>\n",
       "      <td>0.22</td>\n",
       "      <td>0.10</td>\n",
       "      <td>0.23</td>\n",
       "      <td>0.03</td>\n",
       "      <td>71.0</td>\n",
       "      <td>71.0</td>\n",
       "      <td>E10+</td>\n",
       "      <td>Nintendo</td>\n",
       "      <td>Everyone 10y+</td>\n",
       "    </tr>\n",
       "    <tr>\n",
       "      <th>665</th>\n",
       "      <td>HALF-LIFE 2</td>\n",
       "      <td>PC</td>\n",
       "      <td>2004.0</td>\n",
       "      <td>Shooter</td>\n",
       "      <td>2.28</td>\n",
       "      <td>0.02</td>\n",
       "      <td>0.08</td>\n",
       "      <td>0.00</td>\n",
       "      <td>96.0</td>\n",
       "      <td>91.0</td>\n",
       "      <td>M</td>\n",
       "      <td>PC</td>\n",
       "      <td>Mature</td>\n",
       "    </tr>\n",
       "    <tr>\n",
       "      <th>11095</th>\n",
       "      <td>MYSTIC HEROES</td>\n",
       "      <td>GC</td>\n",
       "      <td>2002.0</td>\n",
       "      <td>Action</td>\n",
       "      <td>0.03</td>\n",
       "      <td>0.01</td>\n",
       "      <td>0.04</td>\n",
       "      <td>0.00</td>\n",
       "      <td>67.0</td>\n",
       "      <td>85.0</td>\n",
       "      <td>T</td>\n",
       "      <td>Nintendo</td>\n",
       "      <td>Teens</td>\n",
       "    </tr>\n",
       "    <tr>\n",
       "      <th>5715</th>\n",
       "      <td>NBA INSIDE DRIVE 2003</td>\n",
       "      <td>XB</td>\n",
       "      <td>2002.0</td>\n",
       "      <td>Sports</td>\n",
       "      <td>0.23</td>\n",
       "      <td>0.07</td>\n",
       "      <td>0.00</td>\n",
       "      <td>0.01</td>\n",
       "      <td>72.0</td>\n",
       "      <td>78.0</td>\n",
       "      <td>E</td>\n",
       "      <td>XBox</td>\n",
       "      <td>Everyone</td>\n",
       "    </tr>\n",
       "    <tr>\n",
       "      <th>12014</th>\n",
       "      <td>WALLACE &amp; GROMIT IN PROJECT ZOO</td>\n",
       "      <td>GC</td>\n",
       "      <td>2003.0</td>\n",
       "      <td>Platform</td>\n",
       "      <td>0.05</td>\n",
       "      <td>0.01</td>\n",
       "      <td>0.00</td>\n",
       "      <td>0.00</td>\n",
       "      <td>NaN</td>\n",
       "      <td>NaN</td>\n",
       "      <td>NaN</td>\n",
       "      <td>Nintendo</td>\n",
       "      <td>Pending</td>\n",
       "    </tr>\n",
       "    <tr>\n",
       "      <th>14373</th>\n",
       "      <td>BIG ICHIGEKI! PACHI-SLOT TAIKOURYKU UNIVERSAL ...</td>\n",
       "      <td>SAT</td>\n",
       "      <td>1996.0</td>\n",
       "      <td>Misc</td>\n",
       "      <td>0.00</td>\n",
       "      <td>0.00</td>\n",
       "      <td>0.03</td>\n",
       "      <td>0.00</td>\n",
       "      <td>NaN</td>\n",
       "      <td>NaN</td>\n",
       "      <td>NaN</td>\n",
       "      <td>Other</td>\n",
       "      <td>Pending</td>\n",
       "    </tr>\n",
       "    <tr>\n",
       "      <th>2363</th>\n",
       "      <td>DISSIDIA 012 DUODECIM FINAL FANTASY</td>\n",
       "      <td>PSP</td>\n",
       "      <td>2011.0</td>\n",
       "      <td>Fighting</td>\n",
       "      <td>0.21</td>\n",
       "      <td>0.12</td>\n",
       "      <td>0.46</td>\n",
       "      <td>0.08</td>\n",
       "      <td>78.0</td>\n",
       "      <td>83.0</td>\n",
       "      <td>T</td>\n",
       "      <td>PlayStation</td>\n",
       "      <td>Teens</td>\n",
       "    </tr>\n",
       "    <tr>\n",
       "      <th>5500</th>\n",
       "      <td>ETRIAN ODYSSEY</td>\n",
       "      <td>DS</td>\n",
       "      <td>2007.0</td>\n",
       "      <td>Role-Playing</td>\n",
       "      <td>0.19</td>\n",
       "      <td>0.02</td>\n",
       "      <td>0.09</td>\n",
       "      <td>0.02</td>\n",
       "      <td>75.0</td>\n",
       "      <td>85.0</td>\n",
       "      <td>T</td>\n",
       "      <td>Nintendo</td>\n",
       "      <td>Teens</td>\n",
       "    </tr>\n",
       "    <tr>\n",
       "      <th>8237</th>\n",
       "      <td>PROFESSIONAL FISHERMAN'S TOUR NORTHERN HEMISPHERE</td>\n",
       "      <td>DS</td>\n",
       "      <td>2007.0</td>\n",
       "      <td>Sports</td>\n",
       "      <td>0.16</td>\n",
       "      <td>0.00</td>\n",
       "      <td>0.00</td>\n",
       "      <td>0.01</td>\n",
       "      <td>NaN</td>\n",
       "      <td>NaN</td>\n",
       "      <td>E</td>\n",
       "      <td>Nintendo</td>\n",
       "      <td>Everyone</td>\n",
       "    </tr>\n",
       "    <tr>\n",
       "      <th>6801</th>\n",
       "      <td>ATELIER MERURU ALCHEMIST OF ARLAND 3</td>\n",
       "      <td>PS3</td>\n",
       "      <td>2011.0</td>\n",
       "      <td>Role-Playing</td>\n",
       "      <td>0.05</td>\n",
       "      <td>0.00</td>\n",
       "      <td>0.18</td>\n",
       "      <td>0.01</td>\n",
       "      <td>NaN</td>\n",
       "      <td>NaN</td>\n",
       "      <td>NaN</td>\n",
       "      <td>PlayStation</td>\n",
       "      <td>Pending</td>\n",
       "    </tr>\n",
       "    <tr>\n",
       "      <th>14075</th>\n",
       "      <td>NEGIMA!? 3-JIKANME ~KOI TO MAHOU TO SEKAIJU DE...</td>\n",
       "      <td>PS2</td>\n",
       "      <td>2006.0</td>\n",
       "      <td>Adventure</td>\n",
       "      <td>0.00</td>\n",
       "      <td>0.00</td>\n",
       "      <td>0.04</td>\n",
       "      <td>0.00</td>\n",
       "      <td>NaN</td>\n",
       "      <td>NaN</td>\n",
       "      <td>NaN</td>\n",
       "      <td>PlayStation</td>\n",
       "      <td>Pending</td>\n",
       "    </tr>\n",
       "    <tr>\n",
       "      <th>5885</th>\n",
       "      <td>SUPER BOMBERMAN 5</td>\n",
       "      <td>SNES</td>\n",
       "      <td>1997.0</td>\n",
       "      <td>Puzzle</td>\n",
       "      <td>0.00</td>\n",
       "      <td>0.00</td>\n",
       "      <td>0.30</td>\n",
       "      <td>0.00</td>\n",
       "      <td>NaN</td>\n",
       "      <td>NaN</td>\n",
       "      <td>NaN</td>\n",
       "      <td>Nintendo</td>\n",
       "      <td>Pending</td>\n",
       "    </tr>\n",
       "    <tr>\n",
       "      <th>11720</th>\n",
       "      <td>10 MINUTE SOLUTION</td>\n",
       "      <td>Wii</td>\n",
       "      <td>2010.0</td>\n",
       "      <td>Sports</td>\n",
       "      <td>0.06</td>\n",
       "      <td>0.01</td>\n",
       "      <td>0.00</td>\n",
       "      <td>0.01</td>\n",
       "      <td>NaN</td>\n",
       "      <td>NaN</td>\n",
       "      <td>E</td>\n",
       "      <td>Nintendo</td>\n",
       "      <td>Everyone</td>\n",
       "    </tr>\n",
       "    <tr>\n",
       "      <th>1824</th>\n",
       "      <td>ROCKSMITH</td>\n",
       "      <td>PS3</td>\n",
       "      <td>2011.0</td>\n",
       "      <td>Misc</td>\n",
       "      <td>0.53</td>\n",
       "      <td>0.36</td>\n",
       "      <td>0.09</td>\n",
       "      <td>0.15</td>\n",
       "      <td>80.0</td>\n",
       "      <td>83.0</td>\n",
       "      <td>T</td>\n",
       "      <td>PlayStation</td>\n",
       "      <td>Teens</td>\n",
       "    </tr>\n",
       "  </tbody>\n",
       "</table>\n",
       "</div>"
      ],
      "text/plain": [
       "                                                    name platform  \\\n",
       "5278                              GUITAR HERO SMASH HITS      PS3   \n",
       "3472                 FINAL FANTASY THE 4 HEROES OF LIGHT       DS   \n",
       "665                                          HALF-LIFE 2       PC   \n",
       "11095                                      MYSTIC HEROES       GC   \n",
       "5715                               NBA INSIDE DRIVE 2003       XB   \n",
       "12014                    WALLACE & GROMIT IN PROJECT ZOO       GC   \n",
       "14373  BIG ICHIGEKI! PACHI-SLOT TAIKOURYKU UNIVERSAL ...      SAT   \n",
       "2363                 DISSIDIA 012 DUODECIM FINAL FANTASY      PSP   \n",
       "5500                                      ETRIAN ODYSSEY       DS   \n",
       "8237   PROFESSIONAL FISHERMAN'S TOUR NORTHERN HEMISPHERE       DS   \n",
       "6801                ATELIER MERURU ALCHEMIST OF ARLAND 3      PS3   \n",
       "14075  NEGIMA!? 3-JIKANME ~KOI TO MAHOU TO SEKAIJU DE...      PS2   \n",
       "5885                                   SUPER BOMBERMAN 5     SNES   \n",
       "11720                                 10 MINUTE SOLUTION      Wii   \n",
       "1824                                           ROCKSMITH      PS3   \n",
       "\n",
       "       year_of_release         genre  na_sales  eu_sales  jp_sales  \\\n",
       "5278            2009.0          Misc      0.20      0.11      0.00   \n",
       "3472            2009.0  Role-Playing      0.22      0.10      0.23   \n",
       "665             2004.0       Shooter      2.28      0.02      0.08   \n",
       "11095           2002.0        Action      0.03      0.01      0.04   \n",
       "5715            2002.0        Sports      0.23      0.07      0.00   \n",
       "12014           2003.0      Platform      0.05      0.01      0.00   \n",
       "14373           1996.0          Misc      0.00      0.00      0.03   \n",
       "2363            2011.0      Fighting      0.21      0.12      0.46   \n",
       "5500            2007.0  Role-Playing      0.19      0.02      0.09   \n",
       "8237            2007.0        Sports      0.16      0.00      0.00   \n",
       "6801            2011.0  Role-Playing      0.05      0.00      0.18   \n",
       "14075           2006.0     Adventure      0.00      0.00      0.04   \n",
       "5885            1997.0        Puzzle      0.00      0.00      0.30   \n",
       "11720           2010.0        Sports      0.06      0.01      0.00   \n",
       "1824            2011.0          Misc      0.53      0.36      0.09   \n",
       "\n",
       "       other_sales  critic_score  user_score rating group_platform  \\\n",
       "5278          0.05          73.0        72.0      T    PlayStation   \n",
       "3472          0.03          71.0        71.0   E10+       Nintendo   \n",
       "665           0.00          96.0        91.0      M             PC   \n",
       "11095         0.00          67.0        85.0      T       Nintendo   \n",
       "5715          0.01          72.0        78.0      E           XBox   \n",
       "12014         0.00           NaN         NaN    NaN       Nintendo   \n",
       "14373         0.00           NaN         NaN    NaN          Other   \n",
       "2363          0.08          78.0        83.0      T    PlayStation   \n",
       "5500          0.02          75.0        85.0      T       Nintendo   \n",
       "8237          0.01           NaN         NaN      E       Nintendo   \n",
       "6801          0.01           NaN         NaN    NaN    PlayStation   \n",
       "14075         0.00           NaN         NaN    NaN    PlayStation   \n",
       "5885          0.00           NaN         NaN    NaN       Nintendo   \n",
       "11720         0.01           NaN         NaN      E       Nintendo   \n",
       "1824          0.15          80.0        83.0      T    PlayStation   \n",
       "\n",
       "      rating_definition  \n",
       "5278              Teens  \n",
       "3472      Everyone 10y+  \n",
       "665              Mature  \n",
       "11095             Teens  \n",
       "5715           Everyone  \n",
       "12014           Pending  \n",
       "14373           Pending  \n",
       "2363              Teens  \n",
       "5500              Teens  \n",
       "8237           Everyone  \n",
       "6801            Pending  \n",
       "14075           Pending  \n",
       "5885            Pending  \n",
       "11720          Everyone  \n",
       "1824              Teens  "
      ]
     },
     "execution_count": 15,
     "metadata": {},
     "output_type": "execute_result"
    }
   ],
   "source": [
    "#Crear columna para visualizar de manera sencilla el rating\n",
    "\n",
    "def rating_def (x):\n",
    "    if x == 'E' or x == 'K-A':\n",
    "        return 'Everyone'\n",
    "    elif x == 'T':\n",
    "        return 'Teens'\n",
    "    elif x == 'M':\n",
    "        return 'Mature'\n",
    "    elif x == 'E10+':\n",
    "        return 'Everyone 10y+'\n",
    "    elif x == 'EC':\n",
    "        return 'Early Childhood'\n",
    "    elif x== 'RP':\n",
    "        return 'Pending'\n",
    "    elif x == 'AO':\n",
    "        return 'Adults Only'\n",
    "    else:\n",
    "        return 'Pending'\n",
    "    \n",
    "df_games['rating_definition'] = df_games['rating'].apply(rating_def)\n",
    "df_games.sample(15)"
   ]
  },
  {
   "cell_type": "code",
   "execution_count": 16,
   "metadata": {},
   "outputs": [
    {
     "data": {
      "text/html": [
       "<div>\n",
       "<style scoped>\n",
       "    .dataframe tbody tr th:only-of-type {\n",
       "        vertical-align: middle;\n",
       "    }\n",
       "\n",
       "    .dataframe tbody tr th {\n",
       "        vertical-align: top;\n",
       "    }\n",
       "\n",
       "    .dataframe thead th {\n",
       "        text-align: right;\n",
       "    }\n",
       "</style>\n",
       "<table border=\"1\" class=\"dataframe\">\n",
       "  <thead>\n",
       "    <tr style=\"text-align: right;\">\n",
       "      <th></th>\n",
       "      <th>name</th>\n",
       "      <th>platform</th>\n",
       "      <th>year_of_release</th>\n",
       "      <th>genre</th>\n",
       "      <th>na_sales</th>\n",
       "      <th>eu_sales</th>\n",
       "      <th>jp_sales</th>\n",
       "      <th>other_sales</th>\n",
       "      <th>critic_score</th>\n",
       "      <th>user_score</th>\n",
       "      <th>rating</th>\n",
       "      <th>group_platform</th>\n",
       "      <th>rating_definition</th>\n",
       "      <th>total_sales</th>\n",
       "    </tr>\n",
       "  </thead>\n",
       "  <tbody>\n",
       "    <tr>\n",
       "      <th>0</th>\n",
       "      <td>WII SPORTS</td>\n",
       "      <td>Wii</td>\n",
       "      <td>2006.0</td>\n",
       "      <td>Sports</td>\n",
       "      <td>41.36</td>\n",
       "      <td>28.96</td>\n",
       "      <td>3.77</td>\n",
       "      <td>8.45</td>\n",
       "      <td>76.0</td>\n",
       "      <td>80.0</td>\n",
       "      <td>E</td>\n",
       "      <td>Nintendo</td>\n",
       "      <td>Everyone</td>\n",
       "      <td>82.54</td>\n",
       "    </tr>\n",
       "    <tr>\n",
       "      <th>1</th>\n",
       "      <td>SUPER MARIO BROS</td>\n",
       "      <td>NES</td>\n",
       "      <td>1985.0</td>\n",
       "      <td>Platform</td>\n",
       "      <td>29.08</td>\n",
       "      <td>3.58</td>\n",
       "      <td>6.81</td>\n",
       "      <td>0.77</td>\n",
       "      <td>NaN</td>\n",
       "      <td>NaN</td>\n",
       "      <td>NaN</td>\n",
       "      <td>Nintendo</td>\n",
       "      <td>Pending</td>\n",
       "      <td>40.24</td>\n",
       "    </tr>\n",
       "    <tr>\n",
       "      <th>2</th>\n",
       "      <td>MARIO KART WII</td>\n",
       "      <td>Wii</td>\n",
       "      <td>2008.0</td>\n",
       "      <td>Racing</td>\n",
       "      <td>15.68</td>\n",
       "      <td>12.76</td>\n",
       "      <td>3.79</td>\n",
       "      <td>3.29</td>\n",
       "      <td>82.0</td>\n",
       "      <td>83.0</td>\n",
       "      <td>E</td>\n",
       "      <td>Nintendo</td>\n",
       "      <td>Everyone</td>\n",
       "      <td>35.52</td>\n",
       "    </tr>\n",
       "    <tr>\n",
       "      <th>3</th>\n",
       "      <td>WII SPORTS RESORT</td>\n",
       "      <td>Wii</td>\n",
       "      <td>2009.0</td>\n",
       "      <td>Sports</td>\n",
       "      <td>15.61</td>\n",
       "      <td>10.93</td>\n",
       "      <td>3.28</td>\n",
       "      <td>2.95</td>\n",
       "      <td>80.0</td>\n",
       "      <td>80.0</td>\n",
       "      <td>E</td>\n",
       "      <td>Nintendo</td>\n",
       "      <td>Everyone</td>\n",
       "      <td>32.77</td>\n",
       "    </tr>\n",
       "    <tr>\n",
       "      <th>4</th>\n",
       "      <td>POKEMON RED/POKEMON BLUE</td>\n",
       "      <td>GB</td>\n",
       "      <td>1996.0</td>\n",
       "      <td>Role-Playing</td>\n",
       "      <td>11.27</td>\n",
       "      <td>8.89</td>\n",
       "      <td>10.22</td>\n",
       "      <td>1.00</td>\n",
       "      <td>NaN</td>\n",
       "      <td>NaN</td>\n",
       "      <td>NaN</td>\n",
       "      <td>Nintendo</td>\n",
       "      <td>Pending</td>\n",
       "      <td>31.38</td>\n",
       "    </tr>\n",
       "    <tr>\n",
       "      <th>5</th>\n",
       "      <td>TETRIS</td>\n",
       "      <td>GB</td>\n",
       "      <td>1989.0</td>\n",
       "      <td>Puzzle</td>\n",
       "      <td>23.20</td>\n",
       "      <td>2.26</td>\n",
       "      <td>4.22</td>\n",
       "      <td>0.58</td>\n",
       "      <td>NaN</td>\n",
       "      <td>NaN</td>\n",
       "      <td>NaN</td>\n",
       "      <td>Nintendo</td>\n",
       "      <td>Pending</td>\n",
       "      <td>30.26</td>\n",
       "    </tr>\n",
       "    <tr>\n",
       "      <th>6</th>\n",
       "      <td>NEW SUPER MARIO BROS</td>\n",
       "      <td>DS</td>\n",
       "      <td>2006.0</td>\n",
       "      <td>Platform</td>\n",
       "      <td>11.28</td>\n",
       "      <td>9.14</td>\n",
       "      <td>6.50</td>\n",
       "      <td>2.88</td>\n",
       "      <td>89.0</td>\n",
       "      <td>85.0</td>\n",
       "      <td>E</td>\n",
       "      <td>Nintendo</td>\n",
       "      <td>Everyone</td>\n",
       "      <td>29.80</td>\n",
       "    </tr>\n",
       "    <tr>\n",
       "      <th>7</th>\n",
       "      <td>WII PLAY</td>\n",
       "      <td>Wii</td>\n",
       "      <td>2006.0</td>\n",
       "      <td>Misc</td>\n",
       "      <td>13.96</td>\n",
       "      <td>9.18</td>\n",
       "      <td>2.93</td>\n",
       "      <td>2.84</td>\n",
       "      <td>58.0</td>\n",
       "      <td>66.0</td>\n",
       "      <td>E</td>\n",
       "      <td>Nintendo</td>\n",
       "      <td>Everyone</td>\n",
       "      <td>28.91</td>\n",
       "    </tr>\n",
       "    <tr>\n",
       "      <th>8</th>\n",
       "      <td>NEW SUPER MARIO BROS WII</td>\n",
       "      <td>Wii</td>\n",
       "      <td>2009.0</td>\n",
       "      <td>Platform</td>\n",
       "      <td>14.44</td>\n",
       "      <td>6.94</td>\n",
       "      <td>4.70</td>\n",
       "      <td>2.24</td>\n",
       "      <td>87.0</td>\n",
       "      <td>84.0</td>\n",
       "      <td>E</td>\n",
       "      <td>Nintendo</td>\n",
       "      <td>Everyone</td>\n",
       "      <td>28.32</td>\n",
       "    </tr>\n",
       "    <tr>\n",
       "      <th>9</th>\n",
       "      <td>DUCK HUNT</td>\n",
       "      <td>NES</td>\n",
       "      <td>1984.0</td>\n",
       "      <td>Shooter</td>\n",
       "      <td>26.93</td>\n",
       "      <td>0.63</td>\n",
       "      <td>0.28</td>\n",
       "      <td>0.47</td>\n",
       "      <td>NaN</td>\n",
       "      <td>NaN</td>\n",
       "      <td>NaN</td>\n",
       "      <td>Nintendo</td>\n",
       "      <td>Pending</td>\n",
       "      <td>28.31</td>\n",
       "    </tr>\n",
       "  </tbody>\n",
       "</table>\n",
       "</div>"
      ],
      "text/plain": [
       "                       name platform  year_of_release         genre  na_sales  \\\n",
       "0                WII SPORTS      Wii           2006.0        Sports     41.36   \n",
       "1          SUPER MARIO BROS      NES           1985.0      Platform     29.08   \n",
       "2            MARIO KART WII      Wii           2008.0        Racing     15.68   \n",
       "3         WII SPORTS RESORT      Wii           2009.0        Sports     15.61   \n",
       "4  POKEMON RED/POKEMON BLUE       GB           1996.0  Role-Playing     11.27   \n",
       "5                    TETRIS       GB           1989.0        Puzzle     23.20   \n",
       "6      NEW SUPER MARIO BROS       DS           2006.0      Platform     11.28   \n",
       "7                  WII PLAY      Wii           2006.0          Misc     13.96   \n",
       "8  NEW SUPER MARIO BROS WII      Wii           2009.0      Platform     14.44   \n",
       "9                 DUCK HUNT      NES           1984.0       Shooter     26.93   \n",
       "\n",
       "   eu_sales  jp_sales  other_sales  critic_score  user_score rating  \\\n",
       "0     28.96      3.77         8.45          76.0        80.0      E   \n",
       "1      3.58      6.81         0.77           NaN         NaN    NaN   \n",
       "2     12.76      3.79         3.29          82.0        83.0      E   \n",
       "3     10.93      3.28         2.95          80.0        80.0      E   \n",
       "4      8.89     10.22         1.00           NaN         NaN    NaN   \n",
       "5      2.26      4.22         0.58           NaN         NaN    NaN   \n",
       "6      9.14      6.50         2.88          89.0        85.0      E   \n",
       "7      9.18      2.93         2.84          58.0        66.0      E   \n",
       "8      6.94      4.70         2.24          87.0        84.0      E   \n",
       "9      0.63      0.28         0.47           NaN         NaN    NaN   \n",
       "\n",
       "  group_platform rating_definition  total_sales  \n",
       "0       Nintendo          Everyone        82.54  \n",
       "1       Nintendo           Pending        40.24  \n",
       "2       Nintendo          Everyone        35.52  \n",
       "3       Nintendo          Everyone        32.77  \n",
       "4       Nintendo           Pending        31.38  \n",
       "5       Nintendo           Pending        30.26  \n",
       "6       Nintendo          Everyone        29.80  \n",
       "7       Nintendo          Everyone        28.91  \n",
       "8       Nintendo          Everyone        28.32  \n",
       "9       Nintendo           Pending        28.31  "
      ]
     },
     "execution_count": 16,
     "metadata": {},
     "output_type": "execute_result"
    }
   ],
   "source": [
    "#Calcular las ventas totales de columna total sales\n",
    "\n",
    "df_games['total_sales'] = df_games[['na_sales','eu_sales','jp_sales','other_sales']].sum(axis=1)\n",
    "df_games.head(10)"
   ]
  },
  {
   "cell_type": "code",
   "execution_count": 17,
   "metadata": {},
   "outputs": [
    {
     "data": {
      "text/html": [
       "<div>\n",
       "<style scoped>\n",
       "    .dataframe tbody tr th:only-of-type {\n",
       "        vertical-align: middle;\n",
       "    }\n",
       "\n",
       "    .dataframe tbody tr th {\n",
       "        vertical-align: top;\n",
       "    }\n",
       "\n",
       "    .dataframe thead th {\n",
       "        text-align: right;\n",
       "    }\n",
       "</style>\n",
       "<table border=\"1\" class=\"dataframe\">\n",
       "  <thead>\n",
       "    <tr style=\"text-align: right;\">\n",
       "      <th></th>\n",
       "      <th>name</th>\n",
       "      <th>platform</th>\n",
       "      <th>year_of_release</th>\n",
       "      <th>genre</th>\n",
       "      <th>na_sales</th>\n",
       "      <th>eu_sales</th>\n",
       "      <th>jp_sales</th>\n",
       "      <th>other_sales</th>\n",
       "      <th>critic_score</th>\n",
       "      <th>user_score</th>\n",
       "      <th>rating</th>\n",
       "      <th>group_platform</th>\n",
       "      <th>rating_definition</th>\n",
       "      <th>total_sales</th>\n",
       "    </tr>\n",
       "  </thead>\n",
       "  <tbody>\n",
       "    <tr>\n",
       "      <th>14244</th>\n",
       "      <td>UNKNOWN</td>\n",
       "      <td>GEN</td>\n",
       "      <td>1993.0</td>\n",
       "      <td>Unknown</td>\n",
       "      <td>0.0</td>\n",
       "      <td>0.00</td>\n",
       "      <td>0.03</td>\n",
       "      <td>0.0</td>\n",
       "      <td>NaN</td>\n",
       "      <td>NaN</td>\n",
       "      <td>NaN</td>\n",
       "      <td>Other</td>\n",
       "      <td>Pending</td>\n",
       "      <td>0.03</td>\n",
       "    </tr>\n",
       "    <tr>\n",
       "      <th>16230</th>\n",
       "      <td>MADDEN NFL 13</td>\n",
       "      <td>PS3</td>\n",
       "      <td>2012.0</td>\n",
       "      <td>Sports</td>\n",
       "      <td>0.0</td>\n",
       "      <td>0.01</td>\n",
       "      <td>0.00</td>\n",
       "      <td>0.0</td>\n",
       "      <td>83.0</td>\n",
       "      <td>55.0</td>\n",
       "      <td>E</td>\n",
       "      <td>PlayStation</td>\n",
       "      <td>Everyone</td>\n",
       "      <td>0.01</td>\n",
       "    </tr>\n",
       "  </tbody>\n",
       "</table>\n",
       "</div>"
      ],
      "text/plain": [
       "                name platform  year_of_release    genre  na_sales  eu_sales  \\\n",
       "14244        UNKNOWN      GEN           1993.0  Unknown       0.0      0.00   \n",
       "16230  MADDEN NFL 13      PS3           2012.0   Sports       0.0      0.01   \n",
       "\n",
       "       jp_sales  other_sales  critic_score  user_score rating group_platform  \\\n",
       "14244      0.03          0.0           NaN         NaN    NaN          Other   \n",
       "16230      0.00          0.0          83.0        55.0      E    PlayStation   \n",
       "\n",
       "      rating_definition  total_sales  \n",
       "14244           Pending         0.03  \n",
       "16230          Everyone         0.01  "
      ]
     },
     "execution_count": 17,
     "metadata": {},
     "output_type": "execute_result"
    }
   ],
   "source": [
    "#Revisar valores duplicados\n",
    "\n",
    "df_games[df_games[['name','platform','year_of_release']].duplicated()]"
   ]
  },
  {
   "cell_type": "code",
   "execution_count": 18,
   "metadata": {},
   "outputs": [
    {
     "name": "stdout",
     "output_type": "stream",
     "text": [
      "<class 'pandas.core.frame.DataFrame'>\n",
      "RangeIndex: 16444 entries, 0 to 16443\n",
      "Data columns (total 14 columns):\n",
      " #   Column             Non-Null Count  Dtype  \n",
      "---  ------             --------------  -----  \n",
      " 0   name               16444 non-null  object \n",
      " 1   platform           16444 non-null  object \n",
      " 2   year_of_release    16444 non-null  float64\n",
      " 3   genre              16444 non-null  object \n",
      " 4   na_sales           16444 non-null  float64\n",
      " 5   eu_sales           16444 non-null  float64\n",
      " 6   jp_sales           16444 non-null  float64\n",
      " 7   other_sales        16444 non-null  float64\n",
      " 8   critic_score       7982 non-null   float64\n",
      " 9   user_score         7462 non-null   float64\n",
      " 10  rating             9767 non-null   object \n",
      " 11  group_platform     16444 non-null  object \n",
      " 12  rating_definition  16444 non-null  object \n",
      " 13  total_sales        16444 non-null  float64\n",
      "dtypes: float64(8), object(6)\n",
      "memory usage: 1.8+ MB\n"
     ]
    }
   ],
   "source": [
    "#Eliminar valores duplicados detectados\n",
    "\n",
    "df_games = df_games.drop([13290,14291]).reset_index(drop=True)\n",
    "df_games.info()"
   ]
  },
  {
   "cell_type": "markdown",
   "metadata": {},
   "source": [
    "## Análisis de información"
   ]
  },
  {
   "cell_type": "code",
   "execution_count": 19,
   "metadata": {},
   "outputs": [
    {
     "data": {
      "text/plain": [
       "year_of_release\n",
       "1980.0       9\n",
       "1981.0      46\n",
       "1982.0      36\n",
       "1983.0      17\n",
       "1984.0      14\n",
       "1985.0      14\n",
       "1986.0      21\n",
       "1987.0      16\n",
       "1988.0      15\n",
       "1989.0      17\n",
       "1990.0      16\n",
       "1991.0      41\n",
       "1992.0      43\n",
       "1993.0      62\n",
       "1994.0     121\n",
       "1995.0     219\n",
       "1996.0     263\n",
       "1997.0     289\n",
       "1998.0     378\n",
       "1999.0     338\n",
       "2000.0     350\n",
       "2001.0     482\n",
       "2002.0     829\n",
       "2003.0     775\n",
       "2004.0     762\n",
       "2005.0     939\n",
       "2006.0    1005\n",
       "2007.0    1197\n",
       "2008.0    1427\n",
       "2009.0    1426\n",
       "2010.0    1255\n",
       "2011.0    1136\n",
       "2012.0     653\n",
       "2013.0     544\n",
       "2014.0     581\n",
       "2015.0     606\n",
       "2016.0     502\n",
       "Name: name, dtype: int64"
      ]
     },
     "execution_count": 19,
     "metadata": {},
     "output_type": "execute_result"
    }
   ],
   "source": [
    "#Revisar cuantos juegos fueron lanzados por año\n",
    "\n",
    "games_per_year = df_games.groupby('year_of_release')['name'].count()\n",
    "games_per_year"
   ]
  },
  {
   "cell_type": "code",
   "execution_count": 20,
   "metadata": {},
   "outputs": [
    {
     "data": {
      "text/plain": [
       "<function matplotlib.pyplot.show(close=None, block=None)>"
      ]
     },
     "execution_count": 20,
     "metadata": {},
     "output_type": "execute_result"
    },
    {
     "data": {
      "image/png": "[encoded data removed]",
      "text/plain": [
       "<Figure size 640x480 with 1 Axes>"
      ]
     },
     "metadata": {},
     "output_type": "display_data"
    }
   ],
   "source": [
    "games_per_year.plot(kind='line', xlabel='Year', ylabel='Games', title='Games per year')\n",
    "plt.show"
   ]
  },
  {
   "cell_type": "markdown",
   "metadata": {},
   "source": [
    "Podemos visualizar que aproximadamente a partir del año 1995 es cuando comienza a reflejarse ventas significativas, por lo que a partir de este año se tomarán los datos para realizar los análisis correspondientes"
   ]
  },
  {
   "cell_type": "code",
   "execution_count": 21,
   "metadata": {},
   "outputs": [
    {
     "data": {
      "text/html": [
       "<div>\n",
       "<style scoped>\n",
       "    .dataframe tbody tr th:only-of-type {\n",
       "        vertical-align: middle;\n",
       "    }\n",
       "\n",
       "    .dataframe tbody tr th {\n",
       "        vertical-align: top;\n",
       "    }\n",
       "\n",
       "    .dataframe thead th {\n",
       "        text-align: right;\n",
       "    }\n",
       "</style>\n",
       "<table border=\"1\" class=\"dataframe\">\n",
       "  <thead>\n",
       "    <tr style=\"text-align: right;\">\n",
       "      <th></th>\n",
       "      <th>name</th>\n",
       "      <th>platform</th>\n",
       "      <th>year_of_release</th>\n",
       "      <th>genre</th>\n",
       "      <th>na_sales</th>\n",
       "      <th>eu_sales</th>\n",
       "      <th>jp_sales</th>\n",
       "      <th>other_sales</th>\n",
       "      <th>critic_score</th>\n",
       "      <th>user_score</th>\n",
       "      <th>rating</th>\n",
       "      <th>group_platform</th>\n",
       "      <th>rating_definition</th>\n",
       "      <th>total_sales</th>\n",
       "    </tr>\n",
       "  </thead>\n",
       "  <tbody>\n",
       "    <tr>\n",
       "      <th>9202</th>\n",
       "      <td>VAMPIRE MOON THE MYSTERY OF THE HIDDEN SUN</td>\n",
       "      <td>DS</td>\n",
       "      <td>2010.0</td>\n",
       "      <td>Adventure</td>\n",
       "      <td>0.12</td>\n",
       "      <td>0.01</td>\n",
       "      <td>0.0</td>\n",
       "      <td>0.01</td>\n",
       "      <td>50.0</td>\n",
       "      <td>NaN</td>\n",
       "      <td>E</td>\n",
       "      <td>Nintendo</td>\n",
       "      <td>Everyone</td>\n",
       "      <td>0.14</td>\n",
       "    </tr>\n",
       "    <tr>\n",
       "      <th>1177</th>\n",
       "      <td>FIGHT NIGHT ROUND 3</td>\n",
       "      <td>PS2</td>\n",
       "      <td>2006.0</td>\n",
       "      <td>Fighting</td>\n",
       "      <td>1.07</td>\n",
       "      <td>0.40</td>\n",
       "      <td>0.0</td>\n",
       "      <td>0.10</td>\n",
       "      <td>84.0</td>\n",
       "      <td>81.0</td>\n",
       "      <td>T</td>\n",
       "      <td>PlayStation</td>\n",
       "      <td>Teens</td>\n",
       "      <td>1.57</td>\n",
       "    </tr>\n",
       "    <tr>\n",
       "      <th>14218</th>\n",
       "      <td>GARFIELD A TALE OF TWO KITTIES</td>\n",
       "      <td>DS</td>\n",
       "      <td>2006.0</td>\n",
       "      <td>Platform</td>\n",
       "      <td>0.03</td>\n",
       "      <td>0.00</td>\n",
       "      <td>0.0</td>\n",
       "      <td>0.00</td>\n",
       "      <td>59.0</td>\n",
       "      <td>NaN</td>\n",
       "      <td>E</td>\n",
       "      <td>Nintendo</td>\n",
       "      <td>Everyone</td>\n",
       "      <td>0.03</td>\n",
       "    </tr>\n",
       "    <tr>\n",
       "      <th>13413</th>\n",
       "      <td>KIDS LEARN MUSIC A+ EDITION</td>\n",
       "      <td>DS</td>\n",
       "      <td>2011.0</td>\n",
       "      <td>Misc</td>\n",
       "      <td>0.04</td>\n",
       "      <td>0.00</td>\n",
       "      <td>0.0</td>\n",
       "      <td>0.00</td>\n",
       "      <td>NaN</td>\n",
       "      <td>NaN</td>\n",
       "      <td>NaN</td>\n",
       "      <td>Nintendo</td>\n",
       "      <td>Pending</td>\n",
       "      <td>0.04</td>\n",
       "    </tr>\n",
       "    <tr>\n",
       "      <th>3588</th>\n",
       "      <td>BATMAN VENGEANCE</td>\n",
       "      <td>PS2</td>\n",
       "      <td>2001.0</td>\n",
       "      <td>Adventure</td>\n",
       "      <td>0.27</td>\n",
       "      <td>0.21</td>\n",
       "      <td>0.0</td>\n",
       "      <td>0.07</td>\n",
       "      <td>68.0</td>\n",
       "      <td>67.0</td>\n",
       "      <td>T</td>\n",
       "      <td>PlayStation</td>\n",
       "      <td>Teens</td>\n",
       "      <td>0.55</td>\n",
       "    </tr>\n",
       "    <tr>\n",
       "      <th>13932</th>\n",
       "      <td>MX WORLD TOUR FEATURING JAMIE LITTLE</td>\n",
       "      <td>XB</td>\n",
       "      <td>2005.0</td>\n",
       "      <td>Racing</td>\n",
       "      <td>0.03</td>\n",
       "      <td>0.01</td>\n",
       "      <td>0.0</td>\n",
       "      <td>0.00</td>\n",
       "      <td>51.0</td>\n",
       "      <td>NaN</td>\n",
       "      <td>E</td>\n",
       "      <td>XBox</td>\n",
       "      <td>Everyone</td>\n",
       "      <td>0.04</td>\n",
       "    </tr>\n",
       "    <tr>\n",
       "      <th>205</th>\n",
       "      <td>WARZONE 2100</td>\n",
       "      <td>PS</td>\n",
       "      <td>1999.0</td>\n",
       "      <td>Strategy</td>\n",
       "      <td>2.79</td>\n",
       "      <td>1.89</td>\n",
       "      <td>0.0</td>\n",
       "      <td>0.33</td>\n",
       "      <td>NaN</td>\n",
       "      <td>NaN</td>\n",
       "      <td>NaN</td>\n",
       "      <td>PlayStation</td>\n",
       "      <td>Pending</td>\n",
       "      <td>5.01</td>\n",
       "    </tr>\n",
       "    <tr>\n",
       "      <th>11580</th>\n",
       "      <td>IMAGINE MY RESTAURANT</td>\n",
       "      <td>DS</td>\n",
       "      <td>2009.0</td>\n",
       "      <td>Simulation</td>\n",
       "      <td>0.00</td>\n",
       "      <td>0.07</td>\n",
       "      <td>0.0</td>\n",
       "      <td>0.01</td>\n",
       "      <td>NaN</td>\n",
       "      <td>NaN</td>\n",
       "      <td>NaN</td>\n",
       "      <td>Nintendo</td>\n",
       "      <td>Pending</td>\n",
       "      <td>0.08</td>\n",
       "    </tr>\n",
       "    <tr>\n",
       "      <th>7304</th>\n",
       "      <td>GI JOE THE RISE OF COBRA</td>\n",
       "      <td>PS3</td>\n",
       "      <td>2009.0</td>\n",
       "      <td>Action</td>\n",
       "      <td>0.11</td>\n",
       "      <td>0.07</td>\n",
       "      <td>0.0</td>\n",
       "      <td>0.03</td>\n",
       "      <td>43.0</td>\n",
       "      <td>48.0</td>\n",
       "      <td>T</td>\n",
       "      <td>PlayStation</td>\n",
       "      <td>Teens</td>\n",
       "      <td>0.21</td>\n",
       "    </tr>\n",
       "    <tr>\n",
       "      <th>4147</th>\n",
       "      <td>GODZILLA SAVE THE EARTH</td>\n",
       "      <td>PS2</td>\n",
       "      <td>2004.0</td>\n",
       "      <td>Fighting</td>\n",
       "      <td>0.23</td>\n",
       "      <td>0.18</td>\n",
       "      <td>0.0</td>\n",
       "      <td>0.06</td>\n",
       "      <td>62.0</td>\n",
       "      <td>87.0</td>\n",
       "      <td>T</td>\n",
       "      <td>PlayStation</td>\n",
       "      <td>Teens</td>\n",
       "      <td>0.47</td>\n",
       "    </tr>\n",
       "  </tbody>\n",
       "</table>\n",
       "</div>"
      ],
      "text/plain": [
       "                                             name platform  year_of_release  \\\n",
       "9202   VAMPIRE MOON THE MYSTERY OF THE HIDDEN SUN       DS           2010.0   \n",
       "1177                          FIGHT NIGHT ROUND 3      PS2           2006.0   \n",
       "14218              GARFIELD A TALE OF TWO KITTIES       DS           2006.0   \n",
       "13413                 KIDS LEARN MUSIC A+ EDITION       DS           2011.0   \n",
       "3588                             BATMAN VENGEANCE      PS2           2001.0   \n",
       "13932        MX WORLD TOUR FEATURING JAMIE LITTLE       XB           2005.0   \n",
       "205                                  WARZONE 2100       PS           1999.0   \n",
       "11580                       IMAGINE MY RESTAURANT       DS           2009.0   \n",
       "7304                     GI JOE THE RISE OF COBRA      PS3           2009.0   \n",
       "4147                      GODZILLA SAVE THE EARTH      PS2           2004.0   \n",
       "\n",
       "            genre  na_sales  eu_sales  jp_sales  other_sales  critic_score  \\\n",
       "9202    Adventure      0.12      0.01       0.0         0.01          50.0   \n",
       "1177     Fighting      1.07      0.40       0.0         0.10          84.0   \n",
       "14218    Platform      0.03      0.00       0.0         0.00          59.0   \n",
       "13413        Misc      0.04      0.00       0.0         0.00           NaN   \n",
       "3588    Adventure      0.27      0.21       0.0         0.07          68.0   \n",
       "13932      Racing      0.03      0.01       0.0         0.00          51.0   \n",
       "205      Strategy      2.79      1.89       0.0         0.33           NaN   \n",
       "11580  Simulation      0.00      0.07       0.0         0.01           NaN   \n",
       "7304       Action      0.11      0.07       0.0         0.03          43.0   \n",
       "4147     Fighting      0.23      0.18       0.0         0.06          62.0   \n",
       "\n",
       "       user_score rating group_platform rating_definition  total_sales  \n",
       "9202          NaN      E       Nintendo          Everyone         0.14  \n",
       "1177         81.0      T    PlayStation             Teens         1.57  \n",
       "14218         NaN      E       Nintendo          Everyone         0.03  \n",
       "13413         NaN    NaN       Nintendo           Pending         0.04  \n",
       "3588         67.0      T    PlayStation             Teens         0.55  \n",
       "13932         NaN      E           XBox          Everyone         0.04  \n",
       "205           NaN    NaN    PlayStation           Pending         5.01  \n",
       "11580         NaN    NaN       Nintendo           Pending         0.08  \n",
       "7304         48.0      T    PlayStation             Teens         0.21  \n",
       "4147         87.0      T    PlayStation             Teens         0.47  "
      ]
     },
     "execution_count": 21,
     "metadata": {},
     "output_type": "execute_result"
    }
   ],
   "source": [
    "#Seleccionar los años con mayores ventas que son las que se trabajarán y analizarán y se quitan los años con \n",
    "#ventas no significativas\n",
    "\n",
    "df_games.query('year_of_release >= 1995', inplace=True)\n",
    "df_games.sample(10)"
   ]
  },
  {
   "cell_type": "code",
   "execution_count": 22,
   "metadata": {},
   "outputs": [
    {
     "data": {
      "image/png": "[encoded data removed]",
      "text/plain": [
       "<Figure size 640x480 with 1 Axes>"
      ]
     },
     "metadata": {},
     "output_type": "display_data"
    }
   ],
   "source": [
    "#Observar el comportamiento de las ventas en las diferentes plataformas\n",
    "\n",
    "sales_per_platform = df_games.pivot_table(index='year_of_release', columns='group_platform',values='total_sales', aggfunc='sum', fill_value=0)\n",
    "sales_per_platform.plot(kind='box', xlabel='Group platform', ylabel='Sales', title='Sales per platform')\n",
    "plt.show()"
   ]
  },
  {
   "cell_type": "markdown",
   "metadata": {},
   "source": [
    "Podemos observar claramente que hay plataformas que han tenido un comportamiento bastante aceptable (Nintendo, playstation, xbox) sobre todo, así como unas ventas significativas, por lo que podemos considerar que son las que se encuentran entre las 'favoritas' de los usuarios."
   ]
  },
  {
   "cell_type": "code",
   "execution_count": 23,
   "metadata": {},
   "outputs": [],
   "source": [
    "#Se seleccionan las plataformas potencialmente rentables\n",
    "\n",
    "list_platform = ['Nintendo', 'PlayStation','XBox', 'PC']\n",
    "df_games.query('group_platform == @list_platform', inplace=True)"
   ]
  },
  {
   "cell_type": "code",
   "execution_count": 24,
   "metadata": {},
   "outputs": [
    {
     "name": "stdout",
     "output_type": "stream",
     "text": [
      "Valor p: 0.06\n",
      "Se rechaza la hipótesis nula sobre la igualdad de las varianzas\n"
     ]
    }
   ],
   "source": [
    "#Visualizar diferencias en ventas entre Playstation y Nintendo mediante la prueba de Levene en donde comprobamos si la varianza\n",
    "#es la misma o no\n",
    "\n",
    "nintendo_sales = sales_per_platform['Nintendo']\n",
    "playstation_sales = sales_per_platform['PlayStation']\n",
    "\n",
    "alpha = 0.1\n",
    "p_levene=st.levene(nintendo_sales, playstation_sales).pvalue\n",
    "print(f'Valor p: {round(p_levene,2)}')\n",
    "if p_levene > alpha:\n",
    "    print(\"No se rechaza la hipótesis nula sobre la igualdad de las varianzas\")\n",
    "else:\n",
    "    print('Se rechaza la hipótesis nula sobre la igualdad de las varianzas')"
   ]
  },
  {
   "cell_type": "code",
   "execution_count": 25,
   "metadata": {},
   "outputs": [
    {
     "name": "stdout",
     "output_type": "stream",
     "text": [
      "Valor p: 0.24\n",
      "No se rechaza la hipótesis nula sobre la igualdad de la media de ventas\n"
     ]
    }
   ],
   "source": [
    "#Realizar la hipótesis nula sobre la igualdad en ventas promedio entre playstation y nintendo\n",
    "\n",
    "vta_prom_test = st.ttest_ind(nintendo_sales,playstation_sales,equal_var=False).pvalue\n",
    "print(f'Valor p: {round(vta_prom_test,2)}')\n",
    "if vta_prom_test>alpha:\n",
    "    print('No se rechaza la hipótesis nula sobre la igualdad de la media de ventas')\n",
    "else:\n",
    "    print('Se rechaza la hipótesis nula sobre la igualdad de la media de ventas')"
   ]
  },
  {
   "cell_type": "code",
   "execution_count": 26,
   "metadata": {},
   "outputs": [
    {
     "data": {
      "text/html": [
       "<div>\n",
       "<style scoped>\n",
       "    .dataframe tbody tr th:only-of-type {\n",
       "        vertical-align: middle;\n",
       "    }\n",
       "\n",
       "    .dataframe tbody tr th {\n",
       "        vertical-align: top;\n",
       "    }\n",
       "\n",
       "    .dataframe thead th {\n",
       "        text-align: right;\n",
       "    }\n",
       "</style>\n",
       "<table border=\"1\" class=\"dataframe\">\n",
       "  <thead>\n",
       "    <tr style=\"text-align: right;\">\n",
       "      <th></th>\n",
       "      <th>name</th>\n",
       "      <th>platform</th>\n",
       "      <th>year_of_release</th>\n",
       "      <th>genre</th>\n",
       "      <th>na_sales</th>\n",
       "      <th>eu_sales</th>\n",
       "      <th>jp_sales</th>\n",
       "      <th>other_sales</th>\n",
       "      <th>critic_score</th>\n",
       "      <th>user_score</th>\n",
       "      <th>rating</th>\n",
       "      <th>group_platform</th>\n",
       "      <th>rating_definition</th>\n",
       "      <th>total_sales</th>\n",
       "    </tr>\n",
       "  </thead>\n",
       "  <tbody>\n",
       "    <tr>\n",
       "      <th>14673</th>\n",
       "      <td>JUSTICE LEAGUE HEROES THE FLASH</td>\n",
       "      <td>GBA</td>\n",
       "      <td>2006.0</td>\n",
       "      <td>Action</td>\n",
       "      <td>0.02</td>\n",
       "      <td>0.01</td>\n",
       "      <td>0.00</td>\n",
       "      <td>0.00</td>\n",
       "      <td>72.0</td>\n",
       "      <td>74.0</td>\n",
       "      <td>E10+</td>\n",
       "      <td>Nintendo</td>\n",
       "      <td>Everyone 10y+</td>\n",
       "      <td>0.03</td>\n",
       "    </tr>\n",
       "    <tr>\n",
       "      <th>2709</th>\n",
       "      <td>JUMP ULTIMATE STARS</td>\n",
       "      <td>DS</td>\n",
       "      <td>2006.0</td>\n",
       "      <td>Fighting</td>\n",
       "      <td>0.00</td>\n",
       "      <td>0.00</td>\n",
       "      <td>0.74</td>\n",
       "      <td>0.00</td>\n",
       "      <td>NaN</td>\n",
       "      <td>NaN</td>\n",
       "      <td>NaN</td>\n",
       "      <td>Nintendo</td>\n",
       "      <td>Pending</td>\n",
       "      <td>0.74</td>\n",
       "    </tr>\n",
       "    <tr>\n",
       "      <th>12667</th>\n",
       "      <td>ALVIN AND THE CHIPMUNKS</td>\n",
       "      <td>Wii</td>\n",
       "      <td>2007.0</td>\n",
       "      <td>Misc</td>\n",
       "      <td>0.05</td>\n",
       "      <td>0.00</td>\n",
       "      <td>0.00</td>\n",
       "      <td>0.00</td>\n",
       "      <td>30.0</td>\n",
       "      <td>36.0</td>\n",
       "      <td>E</td>\n",
       "      <td>Nintendo</td>\n",
       "      <td>Everyone</td>\n",
       "      <td>0.05</td>\n",
       "    </tr>\n",
       "    <tr>\n",
       "      <th>10760</th>\n",
       "      <td>ALIEN HOMINID</td>\n",
       "      <td>GC</td>\n",
       "      <td>2004.0</td>\n",
       "      <td>Shooter</td>\n",
       "      <td>0.07</td>\n",
       "      <td>0.02</td>\n",
       "      <td>0.00</td>\n",
       "      <td>0.00</td>\n",
       "      <td>78.0</td>\n",
       "      <td>85.0</td>\n",
       "      <td>T</td>\n",
       "      <td>Nintendo</td>\n",
       "      <td>Teens</td>\n",
       "      <td>0.09</td>\n",
       "    </tr>\n",
       "    <tr>\n",
       "      <th>13998</th>\n",
       "      <td>LANGRISSER REINCARNATION TENSEI</td>\n",
       "      <td>3DS</td>\n",
       "      <td>2015.0</td>\n",
       "      <td>Role-Playing</td>\n",
       "      <td>0.02</td>\n",
       "      <td>0.00</td>\n",
       "      <td>0.01</td>\n",
       "      <td>0.00</td>\n",
       "      <td>NaN</td>\n",
       "      <td>NaN</td>\n",
       "      <td>NaN</td>\n",
       "      <td>Nintendo</td>\n",
       "      <td>Pending</td>\n",
       "      <td>0.03</td>\n",
       "    </tr>\n",
       "    <tr>\n",
       "      <th>8084</th>\n",
       "      <td>SPORTS ILLUSTRATED FOR KIDS BASEBALL</td>\n",
       "      <td>GBA</td>\n",
       "      <td>2001.0</td>\n",
       "      <td>Sports</td>\n",
       "      <td>0.12</td>\n",
       "      <td>0.05</td>\n",
       "      <td>0.00</td>\n",
       "      <td>0.00</td>\n",
       "      <td>39.0</td>\n",
       "      <td>NaN</td>\n",
       "      <td>E</td>\n",
       "      <td>Nintendo</td>\n",
       "      <td>Everyone</td>\n",
       "      <td>0.17</td>\n",
       "    </tr>\n",
       "    <tr>\n",
       "      <th>9402</th>\n",
       "      <td>TOM CLANCY'S SPLINTER CELL DOUBLE AGENT</td>\n",
       "      <td>Wii</td>\n",
       "      <td>2006.0</td>\n",
       "      <td>Action</td>\n",
       "      <td>0.10</td>\n",
       "      <td>0.01</td>\n",
       "      <td>0.00</td>\n",
       "      <td>0.01</td>\n",
       "      <td>61.0</td>\n",
       "      <td>74.0</td>\n",
       "      <td>M</td>\n",
       "      <td>Nintendo</td>\n",
       "      <td>Mature</td>\n",
       "      <td>0.12</td>\n",
       "    </tr>\n",
       "    <tr>\n",
       "      <th>2990</th>\n",
       "      <td>FINAL FANTASY CRYSTAL CHRONICLES RING OF FATES</td>\n",
       "      <td>DS</td>\n",
       "      <td>2007.0</td>\n",
       "      <td>Role-Playing</td>\n",
       "      <td>0.22</td>\n",
       "      <td>0.01</td>\n",
       "      <td>0.42</td>\n",
       "      <td>0.02</td>\n",
       "      <td>77.0</td>\n",
       "      <td>72.0</td>\n",
       "      <td>E10+</td>\n",
       "      <td>Nintendo</td>\n",
       "      <td>Everyone 10y+</td>\n",
       "      <td>0.67</td>\n",
       "    </tr>\n",
       "    <tr>\n",
       "      <th>12367</th>\n",
       "      <td>SCARS</td>\n",
       "      <td>N64</td>\n",
       "      <td>1998.0</td>\n",
       "      <td>Racing</td>\n",
       "      <td>0.05</td>\n",
       "      <td>0.01</td>\n",
       "      <td>0.00</td>\n",
       "      <td>0.00</td>\n",
       "      <td>NaN</td>\n",
       "      <td>NaN</td>\n",
       "      <td>NaN</td>\n",
       "      <td>Nintendo</td>\n",
       "      <td>Pending</td>\n",
       "      <td>0.06</td>\n",
       "    </tr>\n",
       "    <tr>\n",
       "      <th>7456</th>\n",
       "      <td>SUPER DODGE BALL ADVANCE</td>\n",
       "      <td>GBA</td>\n",
       "      <td>2001.0</td>\n",
       "      <td>Sports</td>\n",
       "      <td>0.14</td>\n",
       "      <td>0.05</td>\n",
       "      <td>0.00</td>\n",
       "      <td>0.00</td>\n",
       "      <td>79.0</td>\n",
       "      <td>NaN</td>\n",
       "      <td>E</td>\n",
       "      <td>Nintendo</td>\n",
       "      <td>Everyone</td>\n",
       "      <td>0.19</td>\n",
       "    </tr>\n",
       "  </tbody>\n",
       "</table>\n",
       "</div>"
      ],
      "text/plain": [
       "                                                 name platform  \\\n",
       "14673                 JUSTICE LEAGUE HEROES THE FLASH      GBA   \n",
       "2709                              JUMP ULTIMATE STARS       DS   \n",
       "12667                         ALVIN AND THE CHIPMUNKS      Wii   \n",
       "10760                                   ALIEN HOMINID       GC   \n",
       "13998                 LANGRISSER REINCARNATION TENSEI      3DS   \n",
       "8084             SPORTS ILLUSTRATED FOR KIDS BASEBALL      GBA   \n",
       "9402          TOM CLANCY'S SPLINTER CELL DOUBLE AGENT      Wii   \n",
       "2990   FINAL FANTASY CRYSTAL CHRONICLES RING OF FATES       DS   \n",
       "12367                                           SCARS      N64   \n",
       "7456                         SUPER DODGE BALL ADVANCE      GBA   \n",
       "\n",
       "       year_of_release         genre  na_sales  eu_sales  jp_sales  \\\n",
       "14673           2006.0        Action      0.02      0.01      0.00   \n",
       "2709            2006.0      Fighting      0.00      0.00      0.74   \n",
       "12667           2007.0          Misc      0.05      0.00      0.00   \n",
       "10760           2004.0       Shooter      0.07      0.02      0.00   \n",
       "13998           2015.0  Role-Playing      0.02      0.00      0.01   \n",
       "8084            2001.0        Sports      0.12      0.05      0.00   \n",
       "9402            2006.0        Action      0.10      0.01      0.00   \n",
       "2990            2007.0  Role-Playing      0.22      0.01      0.42   \n",
       "12367           1998.0        Racing      0.05      0.01      0.00   \n",
       "7456            2001.0        Sports      0.14      0.05      0.00   \n",
       "\n",
       "       other_sales  critic_score  user_score rating group_platform  \\\n",
       "14673         0.00          72.0        74.0   E10+       Nintendo   \n",
       "2709          0.00           NaN         NaN    NaN       Nintendo   \n",
       "12667         0.00          30.0        36.0      E       Nintendo   \n",
       "10760         0.00          78.0        85.0      T       Nintendo   \n",
       "13998         0.00           NaN         NaN    NaN       Nintendo   \n",
       "8084          0.00          39.0         NaN      E       Nintendo   \n",
       "9402          0.01          61.0        74.0      M       Nintendo   \n",
       "2990          0.02          77.0        72.0   E10+       Nintendo   \n",
       "12367         0.00           NaN         NaN    NaN       Nintendo   \n",
       "7456          0.00          79.0         NaN      E       Nintendo   \n",
       "\n",
       "      rating_definition  total_sales  \n",
       "14673     Everyone 10y+         0.03  \n",
       "2709            Pending         0.74  \n",
       "12667          Everyone         0.05  \n",
       "10760             Teens         0.09  \n",
       "13998           Pending         0.03  \n",
       "8084           Everyone         0.17  \n",
       "9402             Mature         0.12  \n",
       "2990      Everyone 10y+         0.67  \n",
       "12367           Pending         0.06  \n",
       "7456           Everyone         0.19  "
      ]
     },
     "execution_count": 26,
     "metadata": {},
     "output_type": "execute_result"
    }
   ],
   "source": [
    "#Obtener el rendimiento promedio de los juegos de la plataforma nintendo por los últimos 3 años\n",
    "\n",
    "df_games.query('year_of_release > 2013')\n",
    "rend_nintendo=df_games[df_games['group_platform'] == 'Nintendo']\n",
    "rend_nintendo.sample(10)"
   ]
  },
  {
   "cell_type": "code",
   "execution_count": 27,
   "metadata": {},
   "outputs": [
    {
     "data": {
      "text/html": [
       "<div>\n",
       "<style scoped>\n",
       "    .dataframe tbody tr th:only-of-type {\n",
       "        vertical-align: middle;\n",
       "    }\n",
       "\n",
       "    .dataframe tbody tr th {\n",
       "        vertical-align: top;\n",
       "    }\n",
       "\n",
       "    .dataframe thead th {\n",
       "        text-align: right;\n",
       "    }\n",
       "</style>\n",
       "<table border=\"1\" class=\"dataframe\">\n",
       "  <thead>\n",
       "    <tr style=\"text-align: right;\">\n",
       "      <th></th>\n",
       "      <th>total_sales</th>\n",
       "      <th>critic_score</th>\n",
       "      <th>user_score</th>\n",
       "      <th>average_score</th>\n",
       "    </tr>\n",
       "  </thead>\n",
       "  <tbody>\n",
       "    <tr>\n",
       "      <th>count</th>\n",
       "      <td>1775.000000</td>\n",
       "      <td>1775.000000</td>\n",
       "      <td>1775.000000</td>\n",
       "      <td>1775.000000</td>\n",
       "    </tr>\n",
       "    <tr>\n",
       "      <th>mean</th>\n",
       "      <td>0.857837</td>\n",
       "      <td>67.654085</td>\n",
       "      <td>71.966761</td>\n",
       "      <td>69.810423</td>\n",
       "    </tr>\n",
       "    <tr>\n",
       "      <th>std</th>\n",
       "      <td>3.006003</td>\n",
       "      <td>14.339372</td>\n",
       "      <td>14.834545</td>\n",
       "      <td>13.356517</td>\n",
       "    </tr>\n",
       "    <tr>\n",
       "      <th>min</th>\n",
       "      <td>0.010000</td>\n",
       "      <td>19.000000</td>\n",
       "      <td>7.000000</td>\n",
       "      <td>18.500000</td>\n",
       "    </tr>\n",
       "    <tr>\n",
       "      <th>25%</th>\n",
       "      <td>0.110000</td>\n",
       "      <td>60.000000</td>\n",
       "      <td>65.000000</td>\n",
       "      <td>62.500000</td>\n",
       "    </tr>\n",
       "    <tr>\n",
       "      <th>50%</th>\n",
       "      <td>0.280000</td>\n",
       "      <td>70.000000</td>\n",
       "      <td>75.000000</td>\n",
       "      <td>72.500000</td>\n",
       "    </tr>\n",
       "    <tr>\n",
       "      <th>75%</th>\n",
       "      <td>0.695000</td>\n",
       "      <td>78.000000</td>\n",
       "      <td>83.000000</td>\n",
       "      <td>79.500000</td>\n",
       "    </tr>\n",
       "    <tr>\n",
       "      <th>max</th>\n",
       "      <td>82.540000</td>\n",
       "      <td>97.000000</td>\n",
       "      <td>96.000000</td>\n",
       "      <td>95.000000</td>\n",
       "    </tr>\n",
       "  </tbody>\n",
       "</table>\n",
       "</div>"
      ],
      "text/plain": [
       "       total_sales  critic_score   user_score  average_score\n",
       "count  1775.000000   1775.000000  1775.000000    1775.000000\n",
       "mean      0.857837     67.654085    71.966761      69.810423\n",
       "std       3.006003     14.339372    14.834545      13.356517\n",
       "min       0.010000     19.000000     7.000000      18.500000\n",
       "25%       0.110000     60.000000    65.000000      62.500000\n",
       "50%       0.280000     70.000000    75.000000      72.500000\n",
       "75%       0.695000     78.000000    83.000000      79.500000\n",
       "max      82.540000     97.000000    96.000000      95.000000"
      ]
     },
     "execution_count": 27,
     "metadata": {},
     "output_type": "execute_result"
    }
   ],
   "source": [
    "sales_score=rend_nintendo[['total_sales','critic_score','user_score']].fillna(-1).query('critic_score >= 0 & user_score >= 0')\n",
    "sales_score['average_score']=(sales_score['critic_score'] + sales_score['user_score']) / 2\n",
    "sales_score.describe()"
   ]
  },
  {
   "cell_type": "code",
   "execution_count": 28,
   "metadata": {},
   "outputs": [
    {
     "data": {
      "text/html": [
       "<div>\n",
       "<style scoped>\n",
       "    .dataframe tbody tr th:only-of-type {\n",
       "        vertical-align: middle;\n",
       "    }\n",
       "\n",
       "    .dataframe tbody tr th {\n",
       "        vertical-align: top;\n",
       "    }\n",
       "\n",
       "    .dataframe thead th {\n",
       "        text-align: right;\n",
       "    }\n",
       "</style>\n",
       "<table border=\"1\" class=\"dataframe\">\n",
       "  <thead>\n",
       "    <tr style=\"text-align: right;\">\n",
       "      <th></th>\n",
       "      <th>total_sales</th>\n",
       "      <th>critic_score</th>\n",
       "      <th>user_score</th>\n",
       "      <th>average_score</th>\n",
       "    </tr>\n",
       "  </thead>\n",
       "  <tbody>\n",
       "    <tr>\n",
       "      <th>total_sales</th>\n",
       "      <td>1.000</td>\n",
       "      <td>0.152</td>\n",
       "      <td>0.093</td>\n",
       "      <td>0.133</td>\n",
       "    </tr>\n",
       "    <tr>\n",
       "      <th>critic_score</th>\n",
       "      <td>0.152</td>\n",
       "      <td>1.000</td>\n",
       "      <td>0.677</td>\n",
       "      <td>0.913</td>\n",
       "    </tr>\n",
       "    <tr>\n",
       "      <th>user_score</th>\n",
       "      <td>0.093</td>\n",
       "      <td>0.677</td>\n",
       "      <td>1.000</td>\n",
       "      <td>0.919</td>\n",
       "    </tr>\n",
       "    <tr>\n",
       "      <th>average_score</th>\n",
       "      <td>0.133</td>\n",
       "      <td>0.913</td>\n",
       "      <td>0.919</td>\n",
       "      <td>1.000</td>\n",
       "    </tr>\n",
       "  </tbody>\n",
       "</table>\n",
       "</div>"
      ],
      "text/plain": [
       "               total_sales  critic_score  user_score  average_score\n",
       "total_sales          1.000         0.152       0.093          0.133\n",
       "critic_score         0.152         1.000       0.677          0.913\n",
       "user_score           0.093         0.677       1.000          0.919\n",
       "average_score        0.133         0.913       0.919          1.000"
      ]
     },
     "execution_count": 28,
     "metadata": {},
     "output_type": "execute_result"
    }
   ],
   "source": [
    "#Obtener correlación para visualizar si hay relación entre las ventas y el score de críticos\n",
    "\n",
    "sales_score.corr().round(3)"
   ]
  },
  {
   "cell_type": "code",
   "execution_count": 29,
   "metadata": {},
   "outputs": [
    {
     "data": {
      "image/png": "[encoded data removed]",
      "text/plain": [
       "<Figure size 640x480 with 1 Axes>"
      ]
     },
     "metadata": {},
     "output_type": "display_data"
    }
   ],
   "source": [
    "#Graficar correlación para mejor visión y comprensión\n",
    "\n",
    "sales_score['log_sales']=np.log(sales_score['total_sales'])\n",
    "sales_score.plot(kind='scatter', xlabel='Critic score', ylabel='Sales', x='critic_score', y='log_sales', title='Sales vs Score in Nintendo')\n",
    "plt.show()"
   ]
  },
  {
   "cell_type": "markdown",
   "metadata": {},
   "source": [
    "Se puede visualizar que hay cierta relación entre los scores y las ventas, sobre todo influyen un poco más los score de las críticas por encima del score de los usuarios, por lo que se puede decir, que en cierta parte las ventas se basan también en lo que la crítica señala, ya que un gran porcentaje de población se basa en las críticas de los productos para saber si realizar o no una compra, lo mismo sucede en este caso de los videojuegos."
   ]
  },
  {
   "cell_type": "code",
   "execution_count": 30,
   "metadata": {},
   "outputs": [
    {
     "data": {
      "text/html": [
       "<div>\n",
       "<style scoped>\n",
       "    .dataframe tbody tr th:only-of-type {\n",
       "        vertical-align: middle;\n",
       "    }\n",
       "\n",
       "    .dataframe tbody tr th {\n",
       "        vertical-align: top;\n",
       "    }\n",
       "\n",
       "    .dataframe thead th {\n",
       "        text-align: right;\n",
       "    }\n",
       "</style>\n",
       "<table border=\"1\" class=\"dataframe\">\n",
       "  <thead>\n",
       "    <tr style=\"text-align: right;\">\n",
       "      <th></th>\n",
       "      <th></th>\n",
       "      <th>eu_sales</th>\n",
       "      <th>jp_sales</th>\n",
       "      <th>na_sales</th>\n",
       "    </tr>\n",
       "    <tr>\n",
       "      <th>genre</th>\n",
       "      <th>rating</th>\n",
       "      <th></th>\n",
       "      <th></th>\n",
       "      <th></th>\n",
       "    </tr>\n",
       "  </thead>\n",
       "  <tbody>\n",
       "    <tr>\n",
       "      <th rowspan=\"6\" valign=\"top\">Action</th>\n",
       "      <th>AO</th>\n",
       "      <td>0.034104</td>\n",
       "      <td>0.000000</td>\n",
       "      <td>0.040468</td>\n",
       "    </tr>\n",
       "    <tr>\n",
       "      <th>E</th>\n",
       "      <td>3.277350</td>\n",
       "      <td>2.316345</td>\n",
       "      <td>3.569846</td>\n",
       "    </tr>\n",
       "    <tr>\n",
       "      <th>E10+</th>\n",
       "      <td>3.561924</td>\n",
       "      <td>0.885270</td>\n",
       "      <td>3.644679</td>\n",
       "    </tr>\n",
       "    <tr>\n",
       "      <th>EC</th>\n",
       "      <td>0.000000</td>\n",
       "      <td>0.000000</td>\n",
       "      <td>0.013489</td>\n",
       "    </tr>\n",
       "    <tr>\n",
       "      <th>M</th>\n",
       "      <td>11.007246</td>\n",
       "      <td>8.056178</td>\n",
       "      <td>8.997681</td>\n",
       "    </tr>\n",
       "    <tr>\n",
       "      <th>T</th>\n",
       "      <td>5.787078</td>\n",
       "      <td>6.536354</td>\n",
       "      <td>5.184707</td>\n",
       "    </tr>\n",
       "    <tr>\n",
       "      <th rowspan=\"5\" valign=\"top\">Adventure</th>\n",
       "      <th>E</th>\n",
       "      <td>0.847012</td>\n",
       "      <td>0.508087</td>\n",
       "      <td>1.088458</td>\n",
       "    </tr>\n",
       "    <tr>\n",
       "      <th>E10+</th>\n",
       "      <td>0.214129</td>\n",
       "      <td>0.082093</td>\n",
       "      <td>0.201055</td>\n",
       "    </tr>\n",
       "    <tr>\n",
       "      <th>EC</th>\n",
       "      <td>0.006150</td>\n",
       "      <td>0.000000</td>\n",
       "      <td>0.006745</td>\n",
       "    </tr>\n",
       "    <tr>\n",
       "      <th>M</th>\n",
       "      <td>0.833594</td>\n",
       "      <td>0.736616</td>\n",
       "      <td>0.598347</td>\n",
       "    </tr>\n",
       "    <tr>\n",
       "      <th>T</th>\n",
       "      <td>0.256060</td>\n",
       "      <td>0.610148</td>\n",
       "      <td>0.268501</td>\n",
       "    </tr>\n",
       "    <tr>\n",
       "      <th rowspan=\"4\" valign=\"top\">Fighting</th>\n",
       "      <th>E</th>\n",
       "      <td>0.016773</td>\n",
       "      <td>0.017750</td>\n",
       "      <td>0.021197</td>\n",
       "    </tr>\n",
       "    <tr>\n",
       "      <th>E10+</th>\n",
       "      <td>0.038577</td>\n",
       "      <td>0.137561</td>\n",
       "      <td>0.092819</td>\n",
       "    </tr>\n",
       "    <tr>\n",
       "      <th>M</th>\n",
       "      <td>0.375704</td>\n",
       "      <td>0.188591</td>\n",
       "      <td>0.572332</td>\n",
       "    </tr>\n",
       "    <tr>\n",
       "      <th>T</th>\n",
       "      <td>3.085025</td>\n",
       "      <td>5.702114</td>\n",
       "      <td>3.851836</td>\n",
       "    </tr>\n",
       "    <tr>\n",
       "      <th rowspan=\"6\" valign=\"top\">Misc</th>\n",
       "      <th>E</th>\n",
       "      <td>4.585048</td>\n",
       "      <td>6.432074</td>\n",
       "      <td>4.881840</td>\n",
       "    </tr>\n",
       "    <tr>\n",
       "      <th>E10+</th>\n",
       "      <td>1.892499</td>\n",
       "      <td>0.394932</td>\n",
       "      <td>2.186229</td>\n",
       "    </tr>\n",
       "    <tr>\n",
       "      <th>EC</th>\n",
       "      <td>0.000000</td>\n",
       "      <td>0.000000</td>\n",
       "      <td>0.028906</td>\n",
       "    </tr>\n",
       "    <tr>\n",
       "      <th>K-A</th>\n",
       "      <td>0.008945</td>\n",
       "      <td>0.323933</td>\n",
       "      <td>0.008351</td>\n",
       "    </tr>\n",
       "    <tr>\n",
       "      <th>M</th>\n",
       "      <td>0.050877</td>\n",
       "      <td>0.064343</td>\n",
       "      <td>0.061665</td>\n",
       "    </tr>\n",
       "    <tr>\n",
       "      <th>T</th>\n",
       "      <td>1.568790</td>\n",
       "      <td>0.317277</td>\n",
       "      <td>2.415547</td>\n",
       "    </tr>\n",
       "    <tr>\n",
       "      <th rowspan=\"4\" valign=\"top\">Platform</th>\n",
       "      <th>E</th>\n",
       "      <td>5.219049</td>\n",
       "      <td>8.868230</td>\n",
       "      <td>5.494640</td>\n",
       "    </tr>\n",
       "    <tr>\n",
       "      <th>E10+</th>\n",
       "      <td>1.023124</td>\n",
       "      <td>0.532493</td>\n",
       "      <td>1.002383</td>\n",
       "    </tr>\n",
       "    <tr>\n",
       "      <th>M</th>\n",
       "      <td>0.031868</td>\n",
       "      <td>0.053249</td>\n",
       "      <td>0.019270</td>\n",
       "    </tr>\n",
       "    <tr>\n",
       "      <th>T</th>\n",
       "      <td>0.381295</td>\n",
       "      <td>0.130905</td>\n",
       "      <td>0.448680</td>\n",
       "    </tr>\n",
       "    <tr>\n",
       "      <th rowspan=\"3\" valign=\"top\">Puzzle</th>\n",
       "      <th>E</th>\n",
       "      <td>1.341802</td>\n",
       "      <td>2.671341</td>\n",
       "      <td>1.435325</td>\n",
       "    </tr>\n",
       "    <tr>\n",
       "      <th>E10+</th>\n",
       "      <td>0.462922</td>\n",
       "      <td>0.765459</td>\n",
       "      <td>0.272998</td>\n",
       "    </tr>\n",
       "    <tr>\n",
       "      <th>T</th>\n",
       "      <td>0.038577</td>\n",
       "      <td>0.088749</td>\n",
       "      <td>0.039504</td>\n",
       "    </tr>\n",
       "    <tr>\n",
       "      <th rowspan=\"4\" valign=\"top\">Racing</th>\n",
       "      <th>E</th>\n",
       "      <td>6.744789</td>\n",
       "      <td>5.513523</td>\n",
       "      <td>5.758002</td>\n",
       "    </tr>\n",
       "    <tr>\n",
       "      <th>E10+</th>\n",
       "      <td>1.096364</td>\n",
       "      <td>0.126467</td>\n",
       "      <td>0.875519</td>\n",
       "    </tr>\n",
       "    <tr>\n",
       "      <th>M</th>\n",
       "      <td>0.086658</td>\n",
       "      <td>0.006656</td>\n",
       "      <td>0.094746</td>\n",
       "    </tr>\n",
       "    <tr>\n",
       "      <th>T</th>\n",
       "      <td>1.892499</td>\n",
       "      <td>0.543587</td>\n",
       "      <td>1.515298</td>\n",
       "    </tr>\n",
       "    <tr>\n",
       "      <th rowspan=\"4\" valign=\"top\">Role-Playing</th>\n",
       "      <th>E</th>\n",
       "      <td>0.677051</td>\n",
       "      <td>4.590535</td>\n",
       "      <td>1.113188</td>\n",
       "    </tr>\n",
       "    <tr>\n",
       "      <th>E10+</th>\n",
       "      <td>0.310851</td>\n",
       "      <td>4.870094</td>\n",
       "      <td>0.648450</td>\n",
       "    </tr>\n",
       "    <tr>\n",
       "      <th>M</th>\n",
       "      <td>2.879283</td>\n",
       "      <td>2.203191</td>\n",
       "      <td>2.430964</td>\n",
       "    </tr>\n",
       "    <tr>\n",
       "      <th>T</th>\n",
       "      <td>2.927364</td>\n",
       "      <td>16.054669</td>\n",
       "      <td>2.996872</td>\n",
       "    </tr>\n",
       "    <tr>\n",
       "      <th rowspan=\"4\" valign=\"top\">Shooter</th>\n",
       "      <th>E</th>\n",
       "      <td>0.043609</td>\n",
       "      <td>0.011094</td>\n",
       "      <td>0.101491</td>\n",
       "    </tr>\n",
       "    <tr>\n",
       "      <th>E10+</th>\n",
       "      <td>0.299669</td>\n",
       "      <td>0.403807</td>\n",
       "      <td>0.373846</td>\n",
       "    </tr>\n",
       "    <tr>\n",
       "      <th>M</th>\n",
       "      <td>11.391896</td>\n",
       "      <td>2.695747</td>\n",
       "      <td>10.889715</td>\n",
       "    </tr>\n",
       "    <tr>\n",
       "      <th>T</th>\n",
       "      <td>3.360654</td>\n",
       "      <td>1.113798</td>\n",
       "      <td>3.547363</td>\n",
       "    </tr>\n",
       "    <tr>\n",
       "      <th rowspan=\"4\" valign=\"top\">Simulation</th>\n",
       "      <th>E</th>\n",
       "      <td>2.519232</td>\n",
       "      <td>4.519536</td>\n",
       "      <td>2.612427</td>\n",
       "    </tr>\n",
       "    <tr>\n",
       "      <th>E10+</th>\n",
       "      <td>0.284015</td>\n",
       "      <td>0.268465</td>\n",
       "      <td>0.419774</td>\n",
       "    </tr>\n",
       "    <tr>\n",
       "      <th>M</th>\n",
       "      <td>0.017891</td>\n",
       "      <td>0.046593</td>\n",
       "      <td>0.021519</td>\n",
       "    </tr>\n",
       "    <tr>\n",
       "      <th>T</th>\n",
       "      <td>1.926603</td>\n",
       "      <td>1.297952</td>\n",
       "      <td>1.396142</td>\n",
       "    </tr>\n",
       "    <tr>\n",
       "      <th rowspan=\"4\" valign=\"top\">Sports</th>\n",
       "      <th>E</th>\n",
       "      <td>13.837888</td>\n",
       "      <td>7.949679</td>\n",
       "      <td>14.394363</td>\n",
       "    </tr>\n",
       "    <tr>\n",
       "      <th>E10+</th>\n",
       "      <td>0.694941</td>\n",
       "      <td>0.272903</td>\n",
       "      <td>1.082998</td>\n",
       "    </tr>\n",
       "    <tr>\n",
       "      <th>M</th>\n",
       "      <td>0.035222</td>\n",
       "      <td>0.044374</td>\n",
       "      <td>0.088965</td>\n",
       "    </tr>\n",
       "    <tr>\n",
       "      <th>T</th>\n",
       "      <td>1.455855</td>\n",
       "      <td>0.057687</td>\n",
       "      <td>1.883363</td>\n",
       "    </tr>\n",
       "    <tr>\n",
       "      <th rowspan=\"6\" valign=\"top\">Strategy</th>\n",
       "      <th>E</th>\n",
       "      <td>0.238729</td>\n",
       "      <td>0.468150</td>\n",
       "      <td>0.420738</td>\n",
       "    </tr>\n",
       "    <tr>\n",
       "      <th>E10+</th>\n",
       "      <td>0.370673</td>\n",
       "      <td>0.179716</td>\n",
       "      <td>0.295801</td>\n",
       "    </tr>\n",
       "    <tr>\n",
       "      <th>K-A</th>\n",
       "      <td>0.006150</td>\n",
       "      <td>0.000000</td>\n",
       "      <td>0.073870</td>\n",
       "    </tr>\n",
       "    <tr>\n",
       "      <th>M</th>\n",
       "      <td>0.125794</td>\n",
       "      <td>0.000000</td>\n",
       "      <td>0.083826</td>\n",
       "    </tr>\n",
       "    <tr>\n",
       "      <th>RP</th>\n",
       "      <td>0.001677</td>\n",
       "      <td>0.000000</td>\n",
       "      <td>0.000000</td>\n",
       "    </tr>\n",
       "    <tr>\n",
       "      <th>T</th>\n",
       "      <td>0.829122</td>\n",
       "      <td>0.341683</td>\n",
       "      <td>0.433263</td>\n",
       "    </tr>\n",
       "  </tbody>\n",
       "</table>\n",
       "</div>"
      ],
      "text/plain": [
       "                      eu_sales   jp_sales   na_sales\n",
       "genre        rating                                 \n",
       "Action       AO       0.034104   0.000000   0.040468\n",
       "             E        3.277350   2.316345   3.569846\n",
       "             E10+     3.561924   0.885270   3.644679\n",
       "             EC       0.000000   0.000000   0.013489\n",
       "             M       11.007246   8.056178   8.997681\n",
       "             T        5.787078   6.536354   5.184707\n",
       "Adventure    E        0.847012   0.508087   1.088458\n",
       "             E10+     0.214129   0.082093   0.201055\n",
       "             EC       0.006150   0.000000   0.006745\n",
       "             M        0.833594   0.736616   0.598347\n",
       "             T        0.256060   0.610148   0.268501\n",
       "Fighting     E        0.016773   0.017750   0.021197\n",
       "             E10+     0.038577   0.137561   0.092819\n",
       "             M        0.375704   0.188591   0.572332\n",
       "             T        3.085025   5.702114   3.851836\n",
       "Misc         E        4.585048   6.432074   4.881840\n",
       "             E10+     1.892499   0.394932   2.186229\n",
       "             EC       0.000000   0.000000   0.028906\n",
       "             K-A      0.008945   0.323933   0.008351\n",
       "             M        0.050877   0.064343   0.061665\n",
       "             T        1.568790   0.317277   2.415547\n",
       "Platform     E        5.219049   8.868230   5.494640\n",
       "             E10+     1.023124   0.532493   1.002383\n",
       "             M        0.031868   0.053249   0.019270\n",
       "             T        0.381295   0.130905   0.448680\n",
       "Puzzle       E        1.341802   2.671341   1.435325\n",
       "             E10+     0.462922   0.765459   0.272998\n",
       "             T        0.038577   0.088749   0.039504\n",
       "Racing       E        6.744789   5.513523   5.758002\n",
       "             E10+     1.096364   0.126467   0.875519\n",
       "             M        0.086658   0.006656   0.094746\n",
       "             T        1.892499   0.543587   1.515298\n",
       "Role-Playing E        0.677051   4.590535   1.113188\n",
       "             E10+     0.310851   4.870094   0.648450\n",
       "             M        2.879283   2.203191   2.430964\n",
       "             T        2.927364  16.054669   2.996872\n",
       "Shooter      E        0.043609   0.011094   0.101491\n",
       "             E10+     0.299669   0.403807   0.373846\n",
       "             M       11.391896   2.695747  10.889715\n",
       "             T        3.360654   1.113798   3.547363\n",
       "Simulation   E        2.519232   4.519536   2.612427\n",
       "             E10+     0.284015   0.268465   0.419774\n",
       "             M        0.017891   0.046593   0.021519\n",
       "             T        1.926603   1.297952   1.396142\n",
       "Sports       E       13.837888   7.949679  14.394363\n",
       "             E10+     0.694941   0.272903   1.082998\n",
       "             M        0.035222   0.044374   0.088965\n",
       "             T        1.455855   0.057687   1.883363\n",
       "Strategy     E        0.238729   0.468150   0.420738\n",
       "             E10+     0.370673   0.179716   0.295801\n",
       "             K-A      0.006150   0.000000   0.073870\n",
       "             M        0.125794   0.000000   0.083826\n",
       "             RP       0.001677   0.000000   0.000000\n",
       "             T        0.829122   0.341683   0.433263"
      ]
     },
     "execution_count": 30,
     "metadata": {},
     "output_type": "execute_result"
    }
   ],
   "source": [
    "#Analizar la preferencia de juegos por género en distintas regiones\n",
    "\n",
    "pref_genre = df_games.groupby(['genre','rating'])[['eu_sales', 'jp_sales', 'na_sales']].sum()\n",
    "genre_partic = pref_genre / pref_genre.sum(axis=0) * 100\n",
    "genre_partic"
   ]
  },
  {
   "cell_type": "code",
   "execution_count": 31,
   "metadata": {},
   "outputs": [
    {
     "data": {
      "text/plain": [
       "<AxesSubplot:title={'center':'Sales distribution in NA'}, xlabel='Genre', ylabel='Sales'>"
      ]
     },
     "execution_count": 31,
     "metadata": {},
     "output_type": "execute_result"
    },
    {
     "data": {
      "image/png": "[encoded data removed]",
      "text/plain": [
       "<Figure size 1200x500 with 1 Axes>"
      ]
     },
     "metadata": {},
     "output_type": "display_data"
    }
   ],
   "source": [
    "#Preferencia de generos de juegos en NA en cuanto a ventas\n",
    "\n",
    "pref_genre.na_sales.plot(kind='bar', title='Sales distribution in NA', xlabel='Genre', ylabel='Sales', figsize=(12,5))"
   ]
  },
  {
   "cell_type": "code",
   "execution_count": 32,
   "metadata": {},
   "outputs": [
    {
     "data": {
      "text/plain": [
       "<AxesSubplot:title={'center':'Sales distribution in JP'}, xlabel='Genre', ylabel='Sales'>"
      ]
     },
     "execution_count": 32,
     "metadata": {},
     "output_type": "execute_result"
    },
    {
     "data": {
      "image/png": "[encoded data removed]",
      "text/plain": [
       "<Figure size 1200x500 with 1 Axes>"
      ]
     },
     "metadata": {},
     "output_type": "display_data"
    }
   ],
   "source": [
    "#Preferencia de generos de juegos en JP en cuanto a ventas\n",
    "\n",
    "pref_genre.jp_sales.plot(kind='bar', xlabel='Genre', ylabel='Sales', title='Sales distribution in JP', figsize=(12,5))"
   ]
  },
  {
   "cell_type": "code",
   "execution_count": 33,
   "metadata": {},
   "outputs": [
    {
     "data": {
      "text/plain": [
       "<AxesSubplot:title={'center':'Sales distribution in EU'}, xlabel='Genre', ylabel='Sales'>"
      ]
     },
     "execution_count": 33,
     "metadata": {},
     "output_type": "execute_result"
    },
    {
     "data": {
      "image/png": "[encoded data removed]",
      "text/plain": [
       "<Figure size 1200x500 with 1 Axes>"
      ]
     },
     "metadata": {},
     "output_type": "display_data"
    }
   ],
   "source": [
    "#Preferencia de los géneros de juegos en EU en cuanto a ventas\n",
    "\n",
    "pref_genre.eu_sales.plot(kind='bar', xlabel='Genre', ylabel='Sales', title='Sales distribution in EU', figsize=(12,5))"
   ]
  },
  {
   "cell_type": "markdown",
   "metadata": {},
   "source": [
    "Podemos visualizar que las preferencias de los géneros de juegos en las diferentes regios es muy similar, teniendo como principales las clasificaciones E, E10+, M, T, en la mayoría de las regiones, se puede decir que estos géneros son los que lideran los videojuegos entre los preferidos de los usuarios."
   ]
  },
  {
   "cell_type": "code",
   "execution_count": 34,
   "metadata": {},
   "outputs": [
    {
     "data": {
      "text/html": [
       "<div>\n",
       "<style scoped>\n",
       "    .dataframe tbody tr th:only-of-type {\n",
       "        vertical-align: middle;\n",
       "    }\n",
       "\n",
       "    .dataframe tbody tr th {\n",
       "        vertical-align: top;\n",
       "    }\n",
       "\n",
       "    .dataframe thead th {\n",
       "        text-align: right;\n",
       "    }\n",
       "</style>\n",
       "<table border=\"1\" class=\"dataframe\">\n",
       "  <thead>\n",
       "    <tr style=\"text-align: right;\">\n",
       "      <th></th>\n",
       "      <th>name</th>\n",
       "      <th>platform</th>\n",
       "      <th>year_of_release</th>\n",
       "      <th>genre</th>\n",
       "      <th>na_sales</th>\n",
       "      <th>eu_sales</th>\n",
       "      <th>jp_sales</th>\n",
       "      <th>other_sales</th>\n",
       "      <th>critic_score</th>\n",
       "      <th>user_score</th>\n",
       "      <th>rating</th>\n",
       "      <th>group_platform</th>\n",
       "      <th>rating_definition</th>\n",
       "      <th>total_sales</th>\n",
       "    </tr>\n",
       "  </thead>\n",
       "  <tbody>\n",
       "    <tr>\n",
       "      <th>0</th>\n",
       "      <td>WII SPORTS</td>\n",
       "      <td>Wii</td>\n",
       "      <td>2006.0</td>\n",
       "      <td>Sports</td>\n",
       "      <td>41.36</td>\n",
       "      <td>28.96</td>\n",
       "      <td>3.77</td>\n",
       "      <td>8.45</td>\n",
       "      <td>76.0</td>\n",
       "      <td>80.0</td>\n",
       "      <td>E</td>\n",
       "      <td>Nintendo</td>\n",
       "      <td>Everyone</td>\n",
       "      <td>82.54</td>\n",
       "    </tr>\n",
       "    <tr>\n",
       "      <th>2</th>\n",
       "      <td>MARIO KART WII</td>\n",
       "      <td>Wii</td>\n",
       "      <td>2008.0</td>\n",
       "      <td>Racing</td>\n",
       "      <td>15.68</td>\n",
       "      <td>12.76</td>\n",
       "      <td>3.79</td>\n",
       "      <td>3.29</td>\n",
       "      <td>82.0</td>\n",
       "      <td>83.0</td>\n",
       "      <td>E</td>\n",
       "      <td>Nintendo</td>\n",
       "      <td>Everyone</td>\n",
       "      <td>35.52</td>\n",
       "    </tr>\n",
       "    <tr>\n",
       "      <th>3</th>\n",
       "      <td>WII SPORTS RESORT</td>\n",
       "      <td>Wii</td>\n",
       "      <td>2009.0</td>\n",
       "      <td>Sports</td>\n",
       "      <td>15.61</td>\n",
       "      <td>10.93</td>\n",
       "      <td>3.28</td>\n",
       "      <td>2.95</td>\n",
       "      <td>80.0</td>\n",
       "      <td>80.0</td>\n",
       "      <td>E</td>\n",
       "      <td>Nintendo</td>\n",
       "      <td>Everyone</td>\n",
       "      <td>32.77</td>\n",
       "    </tr>\n",
       "    <tr>\n",
       "      <th>6</th>\n",
       "      <td>NEW SUPER MARIO BROS</td>\n",
       "      <td>DS</td>\n",
       "      <td>2006.0</td>\n",
       "      <td>Platform</td>\n",
       "      <td>11.28</td>\n",
       "      <td>9.14</td>\n",
       "      <td>6.50</td>\n",
       "      <td>2.88</td>\n",
       "      <td>89.0</td>\n",
       "      <td>85.0</td>\n",
       "      <td>E</td>\n",
       "      <td>Nintendo</td>\n",
       "      <td>Everyone</td>\n",
       "      <td>29.80</td>\n",
       "    </tr>\n",
       "    <tr>\n",
       "      <th>7</th>\n",
       "      <td>WII PLAY</td>\n",
       "      <td>Wii</td>\n",
       "      <td>2006.0</td>\n",
       "      <td>Misc</td>\n",
       "      <td>13.96</td>\n",
       "      <td>9.18</td>\n",
       "      <td>2.93</td>\n",
       "      <td>2.84</td>\n",
       "      <td>58.0</td>\n",
       "      <td>66.0</td>\n",
       "      <td>E</td>\n",
       "      <td>Nintendo</td>\n",
       "      <td>Everyone</td>\n",
       "      <td>28.91</td>\n",
       "    </tr>\n",
       "    <tr>\n",
       "      <th>...</th>\n",
       "      <td>...</td>\n",
       "      <td>...</td>\n",
       "      <td>...</td>\n",
       "      <td>...</td>\n",
       "      <td>...</td>\n",
       "      <td>...</td>\n",
       "      <td>...</td>\n",
       "      <td>...</td>\n",
       "      <td>...</td>\n",
       "      <td>...</td>\n",
       "      <td>...</td>\n",
       "      <td>...</td>\n",
       "      <td>...</td>\n",
       "      <td>...</td>\n",
       "    </tr>\n",
       "    <tr>\n",
       "      <th>16410</th>\n",
       "      <td>WORMS 2</td>\n",
       "      <td>PC</td>\n",
       "      <td>1997.0</td>\n",
       "      <td>Strategy</td>\n",
       "      <td>0.00</td>\n",
       "      <td>0.01</td>\n",
       "      <td>0.00</td>\n",
       "      <td>0.00</td>\n",
       "      <td>NaN</td>\n",
       "      <td>81.0</td>\n",
       "      <td>K-A</td>\n",
       "      <td>PC</td>\n",
       "      <td>Everyone</td>\n",
       "      <td>0.01</td>\n",
       "    </tr>\n",
       "    <tr>\n",
       "      <th>16421</th>\n",
       "      <td>METAL GEAR SOLID V GROUND ZEROES</td>\n",
       "      <td>PC</td>\n",
       "      <td>2014.0</td>\n",
       "      <td>Action</td>\n",
       "      <td>0.00</td>\n",
       "      <td>0.01</td>\n",
       "      <td>0.00</td>\n",
       "      <td>0.00</td>\n",
       "      <td>80.0</td>\n",
       "      <td>76.0</td>\n",
       "      <td>M</td>\n",
       "      <td>PC</td>\n",
       "      <td>Mature</td>\n",
       "      <td>0.01</td>\n",
       "    </tr>\n",
       "    <tr>\n",
       "      <th>16425</th>\n",
       "      <td>BREACH</td>\n",
       "      <td>PC</td>\n",
       "      <td>2011.0</td>\n",
       "      <td>Shooter</td>\n",
       "      <td>0.01</td>\n",
       "      <td>0.00</td>\n",
       "      <td>0.00</td>\n",
       "      <td>0.00</td>\n",
       "      <td>61.0</td>\n",
       "      <td>58.0</td>\n",
       "      <td>T</td>\n",
       "      <td>PC</td>\n",
       "      <td>Teens</td>\n",
       "      <td>0.01</td>\n",
       "    </tr>\n",
       "    <tr>\n",
       "      <th>16431</th>\n",
       "      <td>STORM FRONTLINE NATION</td>\n",
       "      <td>PC</td>\n",
       "      <td>2011.0</td>\n",
       "      <td>Strategy</td>\n",
       "      <td>0.00</td>\n",
       "      <td>0.01</td>\n",
       "      <td>0.00</td>\n",
       "      <td>0.00</td>\n",
       "      <td>60.0</td>\n",
       "      <td>72.0</td>\n",
       "      <td>E10+</td>\n",
       "      <td>PC</td>\n",
       "      <td>Everyone 10y+</td>\n",
       "      <td>0.01</td>\n",
       "    </tr>\n",
       "    <tr>\n",
       "      <th>16434</th>\n",
       "      <td>15 DAYS</td>\n",
       "      <td>PC</td>\n",
       "      <td>2009.0</td>\n",
       "      <td>Adventure</td>\n",
       "      <td>0.00</td>\n",
       "      <td>0.01</td>\n",
       "      <td>0.00</td>\n",
       "      <td>0.00</td>\n",
       "      <td>63.0</td>\n",
       "      <td>58.0</td>\n",
       "      <td>NaN</td>\n",
       "      <td>PC</td>\n",
       "      <td>Pending</td>\n",
       "      <td>0.01</td>\n",
       "    </tr>\n",
       "  </tbody>\n",
       "</table>\n",
       "<p>7443 rows × 14 columns</p>\n",
       "</div>"
      ],
      "text/plain": [
       "                                   name platform  year_of_release      genre  \\\n",
       "0                            WII SPORTS      Wii           2006.0     Sports   \n",
       "2                        MARIO KART WII      Wii           2008.0     Racing   \n",
       "3                     WII SPORTS RESORT      Wii           2009.0     Sports   \n",
       "6                  NEW SUPER MARIO BROS       DS           2006.0   Platform   \n",
       "7                              WII PLAY      Wii           2006.0       Misc   \n",
       "...                                 ...      ...              ...        ...   \n",
       "16410                           WORMS 2       PC           1997.0   Strategy   \n",
       "16421  METAL GEAR SOLID V GROUND ZEROES       PC           2014.0     Action   \n",
       "16425                            BREACH       PC           2011.0    Shooter   \n",
       "16431            STORM FRONTLINE NATION       PC           2011.0   Strategy   \n",
       "16434                           15 DAYS       PC           2009.0  Adventure   \n",
       "\n",
       "       na_sales  eu_sales  jp_sales  other_sales  critic_score  user_score  \\\n",
       "0         41.36     28.96      3.77         8.45          76.0        80.0   \n",
       "2         15.68     12.76      3.79         3.29          82.0        83.0   \n",
       "3         15.61     10.93      3.28         2.95          80.0        80.0   \n",
       "6         11.28      9.14      6.50         2.88          89.0        85.0   \n",
       "7         13.96      9.18      2.93         2.84          58.0        66.0   \n",
       "...         ...       ...       ...          ...           ...         ...   \n",
       "16410      0.00      0.01      0.00         0.00           NaN        81.0   \n",
       "16421      0.00      0.01      0.00         0.00          80.0        76.0   \n",
       "16425      0.01      0.00      0.00         0.00          61.0        58.0   \n",
       "16431      0.00      0.01      0.00         0.00          60.0        72.0   \n",
       "16434      0.00      0.01      0.00         0.00          63.0        58.0   \n",
       "\n",
       "      rating group_platform rating_definition  total_sales  \n",
       "0          E       Nintendo          Everyone        82.54  \n",
       "2          E       Nintendo          Everyone        35.52  \n",
       "3          E       Nintendo          Everyone        32.77  \n",
       "6          E       Nintendo          Everyone        29.80  \n",
       "7          E       Nintendo          Everyone        28.91  \n",
       "...      ...            ...               ...          ...  \n",
       "16410    K-A             PC          Everyone         0.01  \n",
       "16421      M             PC            Mature         0.01  \n",
       "16425      T             PC             Teens         0.01  \n",
       "16431   E10+             PC     Everyone 10y+         0.01  \n",
       "16434    NaN             PC           Pending         0.01  \n",
       "\n",
       "[7443 rows x 14 columns]"
      ]
     },
     "execution_count": 34,
     "metadata": {},
     "output_type": "execute_result"
    }
   ],
   "source": [
    "df_hipotesis= df_games[df_games['user_score']>0]\n",
    "df_hipotesis"
   ]
  },
  {
   "cell_type": "code",
   "execution_count": 35,
   "metadata": {},
   "outputs": [
    {
     "name": "stdout",
     "output_type": "stream",
     "text": [
      "Valor p: 3.4429374927756545e-06\n",
      "No se rechaza la hipótesis nula sobre la igualdad de las calificaciones promedio de los usuarios\n"
     ]
    }
   ],
   "source": [
    "# Prueba de hipótesis para comprobar las si son las mismas las calificaciones promedio de los usuarios para las plataformas \n",
    "#Xbox One y PC\n",
    "\n",
    "prom_score_xb= df_hipotesis.query('platform == \"XOne\"')['user_score']\n",
    "prom_score_pc= df_hipotesis.query('platform == \"PC\"')['user_score']\n",
    "\n",
    "alpha=0.05\n",
    "\n",
    "user_score_prom = st.ttest_ind(prom_score_xb,prom_score_pc, equal_var=False)\n",
    "print('Valor p:', user_score_prom.pvalue)\n",
    "if user_score_prom.pvalue < alpha:\n",
    "    print('No se rechaza la hipótesis nula sobre la igualdad de las calificaciones promedio de los usuarios')\n",
    "else:\n",
    "    print('Se rechaza la hipótesis nula sobre la igualdad de las calificaciones promedio de los usuarios')"
   ]
  },
  {
   "cell_type": "code",
   "execution_count": 36,
   "metadata": {},
   "outputs": [
    {
     "name": "stdout",
     "output_type": "stream",
     "text": [
      "Valor p: 0.0762660759192193\n",
      "Se rechaza la hipótesis nula sobre la calificación promedio entre los géneros Acción y Deportes son diferentes\n"
     ]
    }
   ],
   "source": [
    "# Prueba de hipótesis para comprobar las si son diferentes las calificaciones promedio de los usuarios para los géneros \n",
    "#de Acción y Deportes\n",
    "\n",
    "prom_score_action= df_hipotesis.query('genre == \"Action\"')['user_score']\n",
    "prom_score_sports=df_hipotesis.query('genre == \"Sports\"')['user_score']\n",
    "\n",
    "alpha=0.05\n",
    "\n",
    "genre_score_prom = st.ttest_ind(prom_score_action,prom_score_sports, equal_var=False).pvalue\n",
    "print(f'Valor p: {genre_score_prom}')\n",
    "if genre_score_prom < alpha:\n",
    "    print('No se rechaza la hipótesis nula sobre la calificación promedio entre los géneros Acción y Deportes son diferentes')\n",
    "else:\n",
    "    print('Se rechaza la hipótesis nula sobre la calificación promedio entre los géneros Acción y Deportes son diferentes')"
   ]
  },
  {
   "cell_type": "markdown",
   "metadata": {},
   "source": [
    "## Conclusión"
   ]
  },
  {
   "cell_type": "markdown",
   "metadata": {},
   "source": [
    "Mediante el análisis se tuvo conocimiento sobre las ventas de video juegos como tuvieron crecimiento realmente significativo a partir de 1995, cuando realmente se dio el boom de los video juegos que fue cuando empezaron a salir aproximadamente los diferentes tipos de consolas y se podia percibir en aquel entonces que era una tecnología nueva para la sociedad juvenil, sobre todo. También se pudo observar cuales plataformas son las que han liderado el mercado estando entre las principales nintendo, xbos y playstation, que hasta el día de hoy se han estado renovando constantemente para no perder el gusto de la población por ellos. De igual manera nos dimos cuenta como influyen las críticas para ya sea incrementar o decaer el nivel de ventas de los video juegos y que la población decida adquirir algún tipo de juego. Finalmente mediante las preferencias de los videojuegos en las distintas regiones, nos pudimos dar cuenta que son muy similares, y esto es de mucho apoyo para saber a que y como enfocar las estrategias de marketing, también dependiendo del objetivo que tenga la empresa."
   ]
  }
 ],
 "metadata": {
  "ExecuteTimeLog": [
   {
    "duration": 2555,
    "start_time": "2024-11-15T23:09:21.701Z"
   },
   {
    "duration": 98,
    "start_time": "2024-11-15T23:13:19.911Z"
   },
   {
    "duration": 13,
    "start_time": "2024-11-15T23:14:46.594Z"
   },
   {
    "duration": 16,
    "start_time": "2024-11-15T23:16:30.877Z"
   },
   {
    "duration": 4,
    "start_time": "2024-11-15T23:36:45.794Z"
   },
   {
    "duration": 214,
    "start_time": "2024-11-15T23:37:02.933Z"
   },
   {
    "duration": 14,
    "start_time": "2024-11-15T23:37:23.073Z"
   },
   {
    "duration": 6,
    "start_time": "2024-11-15T23:40:57.772Z"
   },
   {
    "duration": 15,
    "start_time": "2024-11-15T23:41:09.247Z"
   },
   {
    "duration": 571,
    "start_time": "2024-11-15T23:44:48.080Z"
   },
   {
    "duration": 5,
    "start_time": "2024-11-15T23:55:58.647Z"
   },
   {
    "duration": 16,
    "start_time": "2024-11-15T23:58:27.610Z"
   },
   {
    "duration": 14,
    "start_time": "2024-11-15T23:58:36.350Z"
   },
   {
    "duration": 4,
    "start_time": "2024-11-16T00:01:30.343Z"
   },
   {
    "duration": 5,
    "start_time": "2024-11-16T00:01:35.095Z"
   },
   {
    "duration": 15,
    "start_time": "2024-11-16T00:04:13.491Z"
   },
   {
    "duration": 3,
    "start_time": "2024-11-16T00:04:19.265Z"
   },
   {
    "duration": 6,
    "start_time": "2024-11-16T00:04:53.003Z"
   },
   {
    "duration": 4,
    "start_time": "2024-11-16T00:05:28.947Z"
   },
   {
    "duration": 14,
    "start_time": "2024-11-16T00:13:10.925Z"
   },
   {
    "duration": 5,
    "start_time": "2024-11-16T00:35:26.155Z"
   },
   {
    "duration": 17,
    "start_time": "2024-11-16T00:35:45.531Z"
   },
   {
    "duration": 4,
    "start_time": "2024-11-16T00:40:12.965Z"
   },
   {
    "duration": 3,
    "start_time": "2024-11-16T00:40:53.608Z"
   },
   {
    "duration": 8,
    "start_time": "2024-11-16T00:41:16.032Z"
   },
   {
    "duration": 5,
    "start_time": "2024-11-16T00:44:05.322Z"
   },
   {
    "duration": 129,
    "start_time": "2024-11-16T00:48:57.600Z"
   },
   {
    "duration": 16,
    "start_time": "2024-11-16T00:49:45.164Z"
   },
   {
    "duration": 16,
    "start_time": "2024-11-16T00:50:40.484Z"
   },
   {
    "duration": 17,
    "start_time": "2024-11-16T00:50:57.121Z"
   },
   {
    "duration": 22,
    "start_time": "2024-11-16T00:52:58.066Z"
   },
   {
    "duration": 1808,
    "start_time": "2024-11-16T01:02:02.559Z"
   },
   {
    "duration": 16,
    "start_time": "2024-11-16T01:02:45.709Z"
   },
   {
    "duration": 7,
    "start_time": "2024-11-16T01:05:14.803Z"
   },
   {
    "duration": 9,
    "start_time": "2024-11-16T01:05:32.400Z"
   },
   {
    "duration": 4,
    "start_time": "2024-11-16T01:05:39.996Z"
   },
   {
    "duration": 13,
    "start_time": "2024-11-16T01:08:28.507Z"
   },
   {
    "duration": 19,
    "start_time": "2024-11-16T01:08:39.426Z"
   },
   {
    "duration": 15,
    "start_time": "2024-11-16T01:08:51.738Z"
   },
   {
    "duration": 18,
    "start_time": "2024-11-16T01:09:06.274Z"
   },
   {
    "duration": 162,
    "start_time": "2024-11-19T21:25:43.296Z"
   },
   {
    "duration": 14,
    "start_time": "2024-11-19T21:26:00.290Z"
   },
   {
    "duration": 2494,
    "start_time": "2024-11-19T21:26:08.946Z"
   },
   {
    "duration": 41,
    "start_time": "2024-11-19T21:26:11.442Z"
   },
   {
    "duration": 12,
    "start_time": "2024-11-19T21:26:11.484Z"
   },
   {
    "duration": 14,
    "start_time": "2024-11-19T21:26:11.499Z"
   },
   {
    "duration": 15,
    "start_time": "2024-11-19T21:26:11.515Z"
   },
   {
    "duration": 33,
    "start_time": "2024-11-19T21:26:11.531Z"
   },
   {
    "duration": 15,
    "start_time": "2024-11-19T21:26:11.565Z"
   },
   {
    "duration": 29,
    "start_time": "2024-11-19T21:26:11.582Z"
   },
   {
    "duration": 7,
    "start_time": "2024-11-19T21:26:11.613Z"
   },
   {
    "duration": 4,
    "start_time": "2024-11-19T21:26:11.622Z"
   },
   {
    "duration": 17,
    "start_time": "2024-11-19T21:26:11.627Z"
   },
   {
    "duration": 4,
    "start_time": "2024-11-19T21:26:11.645Z"
   },
   {
    "duration": 5,
    "start_time": "2024-11-19T21:26:11.651Z"
   },
   {
    "duration": 4,
    "start_time": "2024-11-19T21:26:11.658Z"
   },
   {
    "duration": 57,
    "start_time": "2024-11-19T21:26:11.664Z"
   },
   {
    "duration": 22,
    "start_time": "2024-11-19T21:26:11.722Z"
   },
   {
    "duration": 1865,
    "start_time": "2024-11-19T21:26:11.746Z"
   },
   {
    "duration": 9,
    "start_time": "2024-11-19T21:28:01.555Z"
   },
   {
    "duration": 765,
    "start_time": "2024-11-19T21:28:53.349Z"
   },
   {
    "duration": 26,
    "start_time": "2024-11-19T21:28:56.666Z"
   },
   {
    "duration": 13,
    "start_time": "2024-11-19T21:28:59.077Z"
   },
   {
    "duration": 16,
    "start_time": "2024-11-19T21:29:03.763Z"
   },
   {
    "duration": 16,
    "start_time": "2024-11-19T21:29:10.846Z"
   },
   {
    "duration": 36,
    "start_time": "2024-11-19T21:29:19.301Z"
   },
   {
    "duration": 10,
    "start_time": "2024-11-19T21:29:23.670Z"
   },
   {
    "duration": 12,
    "start_time": "2024-11-19T21:31:16.427Z"
   },
   {
    "duration": 12,
    "start_time": "2024-11-19T21:31:51.638Z"
   },
   {
    "duration": 10,
    "start_time": "2024-11-19T23:32:41.741Z"
   },
   {
    "duration": 728,
    "start_time": "2024-11-19T23:33:04.801Z"
   },
   {
    "duration": 35,
    "start_time": "2024-11-19T23:33:07.190Z"
   },
   {
    "duration": 13,
    "start_time": "2024-11-19T23:33:10.901Z"
   },
   {
    "duration": 16,
    "start_time": "2024-11-19T23:33:14.010Z"
   },
   {
    "duration": 16,
    "start_time": "2024-11-19T23:33:19.567Z"
   },
   {
    "duration": 35,
    "start_time": "2024-11-19T23:33:29.435Z"
   },
   {
    "duration": 11,
    "start_time": "2024-11-19T23:33:33.276Z"
   },
   {
    "duration": 12,
    "start_time": "2024-11-19T23:33:36.650Z"
   },
   {
    "duration": 7,
    "start_time": "2024-11-19T23:38:00.074Z"
   },
   {
    "duration": 21,
    "start_time": "2024-11-19T23:38:30.660Z"
   },
   {
    "duration": 16,
    "start_time": "2024-11-19T23:39:58.037Z"
   },
   {
    "duration": 651,
    "start_time": "2024-11-19T23:41:39.352Z"
   },
   {
    "duration": 51,
    "start_time": "2024-11-19T23:43:49.948Z"
   },
   {
    "duration": 49,
    "start_time": "2024-11-19T23:44:54.078Z"
   },
   {
    "duration": 17,
    "start_time": "2024-11-19T23:45:16.030Z"
   },
   {
    "duration": 142,
    "start_time": "2024-11-19T23:45:19.914Z"
   },
   {
    "duration": 794,
    "start_time": "2024-11-19T23:45:43.026Z"
   },
   {
    "duration": 25,
    "start_time": "2024-11-19T23:45:45.314Z"
   },
   {
    "duration": 13,
    "start_time": "2024-11-19T23:45:49.034Z"
   },
   {
    "duration": 15,
    "start_time": "2024-11-19T23:45:52.415Z"
   },
   {
    "duration": 16,
    "start_time": "2024-11-19T23:45:56.077Z"
   },
   {
    "duration": 41,
    "start_time": "2024-11-19T23:45:59.097Z"
   },
   {
    "duration": 12,
    "start_time": "2024-11-19T23:46:02.645Z"
   },
   {
    "duration": 14,
    "start_time": "2024-11-19T23:46:05.123Z"
   },
   {
    "duration": 27,
    "start_time": "2024-11-19T23:46:10.777Z"
   },
   {
    "duration": 18,
    "start_time": "2024-11-19T23:46:15.318Z"
   },
   {
    "duration": 649,
    "start_time": "2024-11-19T23:46:18.839Z"
   },
   {
    "duration": 5,
    "start_time": "2024-11-19T23:48:35.808Z"
   },
   {
    "duration": 4,
    "start_time": "2024-11-19T23:48:50.943Z"
   },
   {
    "duration": 52,
    "start_time": "2024-11-19T23:52:32.010Z"
   },
   {
    "duration": 51,
    "start_time": "2024-11-19T23:54:25.491Z"
   },
   {
    "duration": 17,
    "start_time": "2024-11-19T23:57:21.883Z"
   },
   {
    "duration": 12,
    "start_time": "2024-11-19T23:58:29.069Z"
   },
   {
    "duration": 4,
    "start_time": "2024-11-20T00:00:58.161Z"
   },
   {
    "duration": 14,
    "start_time": "2024-11-20T00:01:04.164Z"
   },
   {
    "duration": 13,
    "start_time": "2024-11-20T00:02:05.851Z"
   },
   {
    "duration": 14,
    "start_time": "2024-11-20T00:03:01.465Z"
   },
   {
    "duration": 84,
    "start_time": "2024-11-20T00:09:49.634Z"
   },
   {
    "duration": 734,
    "start_time": "2024-11-20T00:11:23.392Z"
   },
   {
    "duration": 24,
    "start_time": "2024-11-20T00:11:24.129Z"
   },
   {
    "duration": 12,
    "start_time": "2024-11-20T00:11:24.155Z"
   },
   {
    "duration": 14,
    "start_time": "2024-11-20T00:11:24.169Z"
   },
   {
    "duration": 38,
    "start_time": "2024-11-20T00:11:24.185Z"
   },
   {
    "duration": 34,
    "start_time": "2024-11-20T00:11:24.224Z"
   },
   {
    "duration": 12,
    "start_time": "2024-11-20T00:11:24.260Z"
   },
   {
    "duration": 11,
    "start_time": "2024-11-20T00:11:24.275Z"
   },
   {
    "duration": 23,
    "start_time": "2024-11-20T00:11:24.309Z"
   },
   {
    "duration": 15,
    "start_time": "2024-11-20T00:11:24.335Z"
   },
   {
    "duration": 10,
    "start_time": "2024-11-20T00:11:24.352Z"
   },
   {
    "duration": 10,
    "start_time": "2024-11-20T00:11:24.364Z"
   },
   {
    "duration": 36,
    "start_time": "2024-11-20T00:11:24.376Z"
   },
   {
    "duration": 11,
    "start_time": "2024-11-20T00:11:24.415Z"
   },
   {
    "duration": 14,
    "start_time": "2024-11-20T00:11:24.428Z"
   },
   {
    "duration": 25,
    "start_time": "2024-11-20T00:11:24.444Z"
   },
   {
    "duration": 1890,
    "start_time": "2024-11-20T00:11:24.471Z"
   },
   {
    "duration": 9,
    "start_time": "2024-11-20T00:12:04.055Z"
   },
   {
    "duration": 12,
    "start_time": "2024-11-20T00:12:23.035Z"
   },
   {
    "duration": 17,
    "start_time": "2024-11-20T00:12:43.082Z"
   },
   {
    "duration": 21,
    "start_time": "2024-11-20T00:24:00.164Z"
   },
   {
    "duration": 22,
    "start_time": "2024-11-20T00:28:39.649Z"
   },
   {
    "duration": 18,
    "start_time": "2024-11-20T00:32:58.304Z"
   },
   {
    "duration": 15,
    "start_time": "2024-11-20T00:36:31.985Z"
   },
   {
    "duration": 762,
    "start_time": "2024-11-20T00:39:21.993Z"
   },
   {
    "duration": 32,
    "start_time": "2024-11-20T00:39:22.757Z"
   },
   {
    "duration": 21,
    "start_time": "2024-11-20T00:39:22.791Z"
   },
   {
    "duration": 19,
    "start_time": "2024-11-20T00:39:22.815Z"
   },
   {
    "duration": 15,
    "start_time": "2024-11-20T00:39:22.837Z"
   },
   {
    "duration": 55,
    "start_time": "2024-11-20T00:39:22.854Z"
   },
   {
    "duration": 10,
    "start_time": "2024-11-20T00:39:22.911Z"
   },
   {
    "duration": 15,
    "start_time": "2024-11-20T00:39:22.923Z"
   },
   {
    "duration": 20,
    "start_time": "2024-11-20T00:39:22.940Z"
   },
   {
    "duration": 48,
    "start_time": "2024-11-20T00:39:22.961Z"
   },
   {
    "duration": 9,
    "start_time": "2024-11-20T00:39:23.011Z"
   },
   {
    "duration": 10,
    "start_time": "2024-11-20T00:39:23.022Z"
   },
   {
    "duration": 13,
    "start_time": "2024-11-20T00:39:23.034Z"
   },
   {
    "duration": 14,
    "start_time": "2024-11-20T00:39:23.050Z"
   },
   {
    "duration": 55,
    "start_time": "2024-11-20T00:39:23.066Z"
   },
   {
    "duration": 16,
    "start_time": "2024-11-20T00:39:23.123Z"
   },
   {
    "duration": 16,
    "start_time": "2024-11-20T00:39:23.141Z"
   },
   {
    "duration": 15,
    "start_time": "2024-11-20T00:39:23.160Z"
   },
   {
    "duration": 16,
    "start_time": "2024-11-20T00:39:52.362Z"
   },
   {
    "duration": 21,
    "start_time": "2024-11-20T00:40:04.483Z"
   },
   {
    "duration": 22,
    "start_time": "2024-11-20T00:40:38.025Z"
   },
   {
    "duration": 19,
    "start_time": "2024-11-20T00:41:01.661Z"
   },
   {
    "duration": 6,
    "start_time": "2024-11-20T00:41:27.469Z"
   },
   {
    "duration": 15,
    "start_time": "2024-11-20T00:41:39.991Z"
   },
   {
    "duration": 2922,
    "start_time": "2024-11-20T16:21:10.836Z"
   },
   {
    "duration": 36,
    "start_time": "2024-11-20T16:21:13.761Z"
   },
   {
    "duration": 12,
    "start_time": "2024-11-20T16:21:13.800Z"
   },
   {
    "duration": 22,
    "start_time": "2024-11-20T16:21:13.814Z"
   },
   {
    "duration": 24,
    "start_time": "2024-11-20T16:21:13.840Z"
   },
   {
    "duration": 39,
    "start_time": "2024-11-20T16:21:13.866Z"
   },
   {
    "duration": 26,
    "start_time": "2024-11-20T16:21:13.907Z"
   },
   {
    "duration": 16,
    "start_time": "2024-11-20T16:21:13.935Z"
   },
   {
    "duration": 30,
    "start_time": "2024-11-20T16:21:13.953Z"
   },
   {
    "duration": 15,
    "start_time": "2024-11-20T16:21:13.987Z"
   },
   {
    "duration": 38,
    "start_time": "2024-11-20T16:21:14.004Z"
   },
   {
    "duration": 15,
    "start_time": "2024-11-20T16:21:14.044Z"
   },
   {
    "duration": 18,
    "start_time": "2024-11-20T16:21:14.061Z"
   },
   {
    "duration": 21,
    "start_time": "2024-11-20T16:21:14.081Z"
   },
   {
    "duration": 55,
    "start_time": "2024-11-20T16:21:14.104Z"
   },
   {
    "duration": 21,
    "start_time": "2024-11-20T16:21:14.160Z"
   },
   {
    "duration": 16,
    "start_time": "2024-11-20T16:21:14.184Z"
   },
   {
    "duration": 41,
    "start_time": "2024-11-20T16:21:14.202Z"
   },
   {
    "duration": 16,
    "start_time": "2024-11-20T16:21:41.877Z"
   },
   {
    "duration": 8,
    "start_time": "2024-11-20T16:23:51.994Z"
   },
   {
    "duration": 171,
    "start_time": "2024-11-20T16:25:52.941Z"
   },
   {
    "duration": 18,
    "start_time": "2024-11-20T16:30:03.294Z"
   },
   {
    "duration": 656,
    "start_time": "2024-11-20T16:57:18.911Z"
   },
   {
    "duration": 23,
    "start_time": "2024-11-20T17:00:45.957Z"
   },
   {
    "duration": 20,
    "start_time": "2024-11-20T17:00:53.934Z"
   },
   {
    "duration": 735,
    "start_time": "2024-11-20T17:01:03.905Z"
   },
   {
    "duration": 26,
    "start_time": "2024-11-20T17:01:04.642Z"
   },
   {
    "duration": 11,
    "start_time": "2024-11-20T17:01:04.670Z"
   },
   {
    "duration": 15,
    "start_time": "2024-11-20T17:01:04.683Z"
   },
   {
    "duration": 37,
    "start_time": "2024-11-20T17:01:04.701Z"
   },
   {
    "duration": 35,
    "start_time": "2024-11-20T17:01:04.740Z"
   },
   {
    "duration": 10,
    "start_time": "2024-11-20T17:01:04.777Z"
   },
   {
    "duration": 11,
    "start_time": "2024-11-20T17:01:04.789Z"
   },
   {
    "duration": 48,
    "start_time": "2024-11-20T17:01:04.802Z"
   },
   {
    "duration": 18,
    "start_time": "2024-11-20T17:01:04.851Z"
   },
   {
    "duration": 11,
    "start_time": "2024-11-20T17:01:04.871Z"
   },
   {
    "duration": 11,
    "start_time": "2024-11-20T17:01:04.884Z"
   },
   {
    "duration": 44,
    "start_time": "2024-11-20T17:01:04.897Z"
   },
   {
    "duration": 21,
    "start_time": "2024-11-20T17:01:04.944Z"
   },
   {
    "duration": 25,
    "start_time": "2024-11-20T17:01:04.967Z"
   },
   {
    "duration": 43,
    "start_time": "2024-11-20T17:01:04.993Z"
   },
   {
    "duration": 19,
    "start_time": "2024-11-20T17:01:05.038Z"
   },
   {
    "duration": 16,
    "start_time": "2024-11-20T17:01:05.059Z"
   },
   {
    "duration": 8,
    "start_time": "2024-11-20T17:01:05.077Z"
   },
   {
    "duration": 161,
    "start_time": "2024-11-20T17:01:05.087Z"
   },
   {
    "duration": 17,
    "start_time": "2024-11-20T17:01:05.250Z"
   },
   {
    "duration": 19,
    "start_time": "2024-11-20T17:01:05.268Z"
   },
   {
    "duration": 12,
    "start_time": "2024-11-20T17:01:05.289Z"
   },
   {
    "duration": 11,
    "start_time": "2024-11-20T17:02:42.849Z"
   },
   {
    "duration": 8,
    "start_time": "2024-11-20T17:03:20.190Z"
   },
   {
    "duration": 754,
    "start_time": "2024-11-20T17:03:52.089Z"
   },
   {
    "duration": 24,
    "start_time": "2024-11-20T17:03:52.846Z"
   },
   {
    "duration": 12,
    "start_time": "2024-11-20T17:03:52.872Z"
   },
   {
    "duration": 14,
    "start_time": "2024-11-20T17:03:52.887Z"
   },
   {
    "duration": 38,
    "start_time": "2024-11-20T17:03:52.904Z"
   },
   {
    "duration": 44,
    "start_time": "2024-11-20T17:03:52.945Z"
   },
   {
    "duration": 12,
    "start_time": "2024-11-20T17:03:52.991Z"
   },
   {
    "duration": 33,
    "start_time": "2024-11-20T17:03:53.005Z"
   },
   {
    "duration": 19,
    "start_time": "2024-11-20T17:03:53.041Z"
   },
   {
    "duration": 17,
    "start_time": "2024-11-20T17:03:53.061Z"
   },
   {
    "duration": 10,
    "start_time": "2024-11-20T17:03:53.080Z"
   },
   {
    "duration": 39,
    "start_time": "2024-11-20T17:03:53.092Z"
   },
   {
    "duration": 12,
    "start_time": "2024-11-20T17:03:53.133Z"
   },
   {
    "duration": 22,
    "start_time": "2024-11-20T17:03:53.149Z"
   },
   {
    "duration": 22,
    "start_time": "2024-11-20T17:03:53.173Z"
   },
   {
    "duration": 49,
    "start_time": "2024-11-20T17:03:53.197Z"
   },
   {
    "duration": 16,
    "start_time": "2024-11-20T17:03:53.248Z"
   },
   {
    "duration": 13,
    "start_time": "2024-11-20T17:03:53.266Z"
   },
   {
    "duration": 6,
    "start_time": "2024-11-20T17:03:53.281Z"
   },
   {
    "duration": 160,
    "start_time": "2024-11-20T17:03:53.288Z"
   },
   {
    "duration": 17,
    "start_time": "2024-11-20T17:03:53.450Z"
   },
   {
    "duration": 17,
    "start_time": "2024-11-20T17:03:53.469Z"
   },
   {
    "duration": 12,
    "start_time": "2024-11-20T17:03:53.488Z"
   },
   {
    "duration": 9,
    "start_time": "2024-11-20T17:04:08.878Z"
   },
   {
    "duration": 774,
    "start_time": "2024-11-20T17:04:43.481Z"
   },
   {
    "duration": 25,
    "start_time": "2024-11-20T17:04:47.048Z"
   },
   {
    "duration": 11,
    "start_time": "2024-11-20T17:04:50.604Z"
   },
   {
    "duration": 15,
    "start_time": "2024-11-20T17:04:54.175Z"
   },
   {
    "duration": 15,
    "start_time": "2024-11-20T17:04:58.623Z"
   },
   {
    "duration": 35,
    "start_time": "2024-11-20T17:05:02.126Z"
   },
   {
    "duration": 10,
    "start_time": "2024-11-20T17:05:05.740Z"
   },
   {
    "duration": 12,
    "start_time": "2024-11-20T17:05:09.318Z"
   },
   {
    "duration": 19,
    "start_time": "2024-11-20T17:05:16.236Z"
   },
   {
    "duration": 16,
    "start_time": "2024-11-20T17:05:19.727Z"
   },
   {
    "duration": 16,
    "start_time": "2024-11-20T17:05:23.374Z"
   },
   {
    "duration": 13,
    "start_time": "2024-11-20T17:05:28.034Z"
   },
   {
    "duration": 13,
    "start_time": "2024-11-20T17:05:32.851Z"
   },
   {
    "duration": 13,
    "start_time": "2024-11-20T17:05:36.687Z"
   },
   {
    "duration": 12,
    "start_time": "2024-11-20T17:05:55.163Z"
   },
   {
    "duration": 20,
    "start_time": "2024-11-20T17:06:02.041Z"
   },
   {
    "duration": 22,
    "start_time": "2024-11-20T17:06:07.495Z"
   },
   {
    "duration": 16,
    "start_time": "2024-11-20T17:06:18.586Z"
   },
   {
    "duration": 16,
    "start_time": "2024-11-20T17:06:23.189Z"
   },
   {
    "duration": 14,
    "start_time": "2024-11-20T17:06:26.479Z"
   },
   {
    "duration": 7,
    "start_time": "2024-11-20T17:06:29.888Z"
   },
   {
    "duration": 122,
    "start_time": "2024-11-20T17:06:34.399Z"
   },
   {
    "duration": 17,
    "start_time": "2024-11-20T17:06:39.657Z"
   },
   {
    "duration": 19,
    "start_time": "2024-11-20T17:06:47.731Z"
   },
   {
    "duration": 12,
    "start_time": "2024-11-20T17:06:53.217Z"
   },
   {
    "duration": 128,
    "start_time": "2024-11-20T17:13:32.095Z"
   },
   {
    "duration": 125,
    "start_time": "2024-11-20T17:13:40.031Z"
   },
   {
    "duration": 6,
    "start_time": "2024-11-20T17:19:13.148Z"
   },
   {
    "duration": 2475,
    "start_time": "2024-11-20T21:07:38.018Z"
   },
   {
    "duration": 36,
    "start_time": "2024-11-20T21:07:40.496Z"
   },
   {
    "duration": 14,
    "start_time": "2024-11-20T21:07:40.533Z"
   },
   {
    "duration": 16,
    "start_time": "2024-11-20T21:07:40.549Z"
   },
   {
    "duration": 17,
    "start_time": "2024-11-20T21:07:40.568Z"
   },
   {
    "duration": 64,
    "start_time": "2024-11-20T21:07:40.587Z"
   },
   {
    "duration": 20,
    "start_time": "2024-11-20T21:07:40.653Z"
   },
   {
    "duration": 16,
    "start_time": "2024-11-20T21:07:40.674Z"
   },
   {
    "duration": 19,
    "start_time": "2024-11-20T21:07:40.692Z"
   },
   {
    "duration": 16,
    "start_time": "2024-11-20T21:07:40.712Z"
   },
   {
    "duration": 22,
    "start_time": "2024-11-20T21:07:40.729Z"
   },
   {
    "duration": 12,
    "start_time": "2024-11-20T21:07:40.752Z"
   },
   {
    "duration": 12,
    "start_time": "2024-11-20T21:07:40.765Z"
   },
   {
    "duration": 20,
    "start_time": "2024-11-20T21:07:40.781Z"
   },
   {
    "duration": 53,
    "start_time": "2024-11-20T21:07:40.803Z"
   },
   {
    "duration": 16,
    "start_time": "2024-11-20T21:07:40.859Z"
   },
   {
    "duration": 15,
    "start_time": "2024-11-20T21:07:40.877Z"
   },
   {
    "duration": 13,
    "start_time": "2024-11-20T21:07:40.894Z"
   },
   {
    "duration": 35,
    "start_time": "2024-11-20T21:07:40.909Z"
   },
   {
    "duration": 147,
    "start_time": "2024-11-20T21:07:40.946Z"
   },
   {
    "duration": 19,
    "start_time": "2024-11-20T21:07:41.096Z"
   },
   {
    "duration": 37,
    "start_time": "2024-11-20T21:07:41.117Z"
   },
   {
    "duration": 137,
    "start_time": "2024-11-20T21:07:41.158Z"
   },
   {
    "duration": 7,
    "start_time": "2024-11-20T21:07:41.297Z"
   },
   {
    "duration": 16,
    "start_time": "2024-11-20T21:09:22.911Z"
   },
   {
    "duration": 17,
    "start_time": "2024-11-20T21:09:39.196Z"
   },
   {
    "duration": 21,
    "start_time": "2024-11-20T21:09:52.897Z"
   },
   {
    "duration": 20,
    "start_time": "2024-11-20T21:09:59.631Z"
   },
   {
    "duration": 10,
    "start_time": "2024-11-20T21:10:06.230Z"
   },
   {
    "duration": 3,
    "start_time": "2024-11-20T21:10:15.961Z"
   },
   {
    "duration": 799,
    "start_time": "2024-11-20T21:10:29.860Z"
   },
   {
    "duration": 25,
    "start_time": "2024-11-20T21:10:32.903Z"
   },
   {
    "duration": 12,
    "start_time": "2024-11-20T21:10:36.610Z"
   },
   {
    "duration": 15,
    "start_time": "2024-11-20T21:10:40.277Z"
   },
   {
    "duration": 15,
    "start_time": "2024-11-20T21:10:43.797Z"
   },
   {
    "duration": 33,
    "start_time": "2024-11-20T21:10:46.974Z"
   },
   {
    "duration": 11,
    "start_time": "2024-11-20T21:10:49.826Z"
   },
   {
    "duration": 13,
    "start_time": "2024-11-20T21:10:54.492Z"
   },
   {
    "duration": 19,
    "start_time": "2024-11-20T21:10:57.298Z"
   },
   {
    "duration": 16,
    "start_time": "2024-11-20T21:11:01.734Z"
   },
   {
    "duration": 10,
    "start_time": "2024-11-20T21:11:05.874Z"
   },
   {
    "duration": 11,
    "start_time": "2024-11-20T21:11:09.909Z"
   },
   {
    "duration": 12,
    "start_time": "2024-11-20T21:11:12.804Z"
   },
   {
    "duration": 14,
    "start_time": "2024-11-20T21:11:22.899Z"
   },
   {
    "duration": 15,
    "start_time": "2024-11-20T21:11:34.018Z"
   },
   {
    "duration": 21,
    "start_time": "2024-11-20T21:11:40.315Z"
   },
   {
    "duration": 13,
    "start_time": "2024-11-20T21:11:45.600Z"
   },
   {
    "duration": 14,
    "start_time": "2024-11-20T21:12:01.249Z"
   },
   {
    "duration": 22,
    "start_time": "2024-11-20T21:12:21.407Z"
   },
   {
    "duration": 246,
    "start_time": "2024-11-20T21:15:01.112Z"
   },
   {
    "duration": 82,
    "start_time": "2024-11-20T21:15:23.040Z"
   },
   {
    "duration": 3,
    "start_time": "2024-11-20T21:15:32.864Z"
   },
   {
    "duration": 14,
    "start_time": "2024-11-20T21:15:39.600Z"
   },
   {
    "duration": 19,
    "start_time": "2024-11-20T21:15:55.331Z"
   },
   {
    "duration": 19,
    "start_time": "2024-11-20T21:16:51.675Z"
   },
   {
    "duration": 23,
    "start_time": "2024-11-20T21:17:10.991Z"
   },
   {
    "duration": 23,
    "start_time": "2024-11-20T21:17:36.386Z"
   },
   {
    "duration": 21,
    "start_time": "2024-11-20T21:17:47.947Z"
   },
   {
    "duration": 16,
    "start_time": "2024-11-20T21:17:52.896Z"
   },
   {
    "duration": 21,
    "start_time": "2024-11-20T21:18:01.099Z"
   },
   {
    "duration": 14,
    "start_time": "2024-11-20T21:18:04.251Z"
   },
   {
    "duration": 7,
    "start_time": "2024-11-20T21:18:07.378Z"
   },
   {
    "duration": 18,
    "start_time": "2024-11-20T21:18:11.171Z"
   },
   {
    "duration": 20,
    "start_time": "2024-11-20T21:18:19.061Z"
   },
   {
    "duration": 144,
    "start_time": "2024-11-20T21:18:22.753Z"
   },
   {
    "duration": 7,
    "start_time": "2024-11-20T21:18:26.564Z"
   },
   {
    "duration": 3,
    "start_time": "2024-11-20T21:21:22.679Z"
   },
   {
    "duration": 21,
    "start_time": "2024-11-20T21:26:01.350Z"
   },
   {
    "duration": 12,
    "start_time": "2024-11-20T21:26:07.267Z"
   },
   {
    "duration": 13,
    "start_time": "2024-11-20T21:26:16.684Z"
   },
   {
    "duration": 758,
    "start_time": "2024-11-20T21:26:24.293Z"
   },
   {
    "duration": 26,
    "start_time": "2024-11-20T21:26:25.053Z"
   },
   {
    "duration": 12,
    "start_time": "2024-11-20T21:26:25.081Z"
   },
   {
    "duration": 15,
    "start_time": "2024-11-20T21:26:25.094Z"
   },
   {
    "duration": 38,
    "start_time": "2024-11-20T21:26:25.112Z"
   },
   {
    "duration": 41,
    "start_time": "2024-11-20T21:26:25.152Z"
   },
   {
    "duration": 10,
    "start_time": "2024-11-20T21:26:25.195Z"
   },
   {
    "duration": 11,
    "start_time": "2024-11-20T21:26:25.207Z"
   },
   {
    "duration": 21,
    "start_time": "2024-11-20T21:26:25.243Z"
   },
   {
    "duration": 17,
    "start_time": "2024-11-20T21:26:25.266Z"
   },
   {
    "duration": 10,
    "start_time": "2024-11-20T21:26:25.285Z"
   },
   {
    "duration": 10,
    "start_time": "2024-11-20T21:26:25.296Z"
   },
   {
    "duration": 45,
    "start_time": "2024-11-20T21:26:25.309Z"
   },
   {
    "duration": 21,
    "start_time": "2024-11-20T21:26:25.358Z"
   },
   {
    "duration": 22,
    "start_time": "2024-11-20T21:26:25.381Z"
   },
   {
    "duration": 42,
    "start_time": "2024-11-20T21:26:25.405Z"
   },
   {
    "duration": 18,
    "start_time": "2024-11-20T21:26:25.448Z"
   },
   {
    "duration": 14,
    "start_time": "2024-11-20T21:26:25.467Z"
   },
   {
    "duration": 7,
    "start_time": "2024-11-20T21:26:25.483Z"
   },
   {
    "duration": 159,
    "start_time": "2024-11-20T21:26:25.491Z"
   },
   {
    "duration": 17,
    "start_time": "2024-11-20T21:26:25.653Z"
   },
   {
    "duration": 18,
    "start_time": "2024-11-20T21:26:25.672Z"
   },
   {
    "duration": 161,
    "start_time": "2024-11-20T21:26:25.692Z"
   },
   {
    "duration": 7,
    "start_time": "2024-11-20T21:26:25.855Z"
   },
   {
    "duration": 3,
    "start_time": "2024-11-20T21:26:25.864Z"
   },
   {
    "duration": 5,
    "start_time": "2024-11-20T21:37:14.420Z"
   },
   {
    "duration": 4,
    "start_time": "2024-11-20T21:43:49.559Z"
   },
   {
    "duration": 17,
    "start_time": "2024-11-20T21:56:08.319Z"
   },
   {
    "duration": 19,
    "start_time": "2024-11-20T22:00:34.812Z"
   },
   {
    "duration": 8,
    "start_time": "2024-11-20T22:02:21.363Z"
   },
   {
    "duration": 7,
    "start_time": "2024-11-20T22:02:34.419Z"
   },
   {
    "duration": 9,
    "start_time": "2024-11-20T22:02:51.580Z"
   },
   {
    "duration": 8,
    "start_time": "2024-11-20T22:03:08.787Z"
   },
   {
    "duration": 9,
    "start_time": "2024-11-20T22:03:21.896Z"
   },
   {
    "duration": 8,
    "start_time": "2024-11-20T22:03:28.371Z"
   },
   {
    "duration": 119,
    "start_time": "2024-11-20T22:09:58.007Z"
   },
   {
    "duration": 10,
    "start_time": "2024-11-20T22:16:18.876Z"
   },
   {
    "duration": 142,
    "start_time": "2024-11-20T22:22:43.243Z"
   },
   {
    "duration": 185,
    "start_time": "2024-11-20T22:27:55.381Z"
   },
   {
    "duration": 142,
    "start_time": "2024-11-20T22:31:21.890Z"
   },
   {
    "duration": 133,
    "start_time": "2024-11-20T22:31:25.874Z"
   },
   {
    "duration": 137,
    "start_time": "2024-11-20T22:31:54.132Z"
   },
   {
    "duration": 139,
    "start_time": "2024-11-20T22:33:36.012Z"
   },
   {
    "duration": 14,
    "start_time": "2024-11-20T22:42:00.381Z"
   },
   {
    "duration": 256,
    "start_time": "2024-11-20T22:57:28.500Z"
   },
   {
    "duration": 314,
    "start_time": "2024-11-20T23:17:42.569Z"
   },
   {
    "duration": 270,
    "start_time": "2024-11-20T23:17:54.393Z"
   },
   {
    "duration": 358,
    "start_time": "2024-11-20T23:18:02.607Z"
   },
   {
    "duration": 301,
    "start_time": "2024-11-20T23:18:32.778Z"
   },
   {
    "duration": 281,
    "start_time": "2024-11-20T23:18:56.207Z"
   },
   {
    "duration": 281,
    "start_time": "2024-11-20T23:19:11.075Z"
   },
   {
    "duration": 5,
    "start_time": "2024-11-20T23:20:38.383Z"
   },
   {
    "duration": 4,
    "start_time": "2024-11-20T23:20:45.197Z"
   },
   {
    "duration": 11,
    "start_time": "2024-11-20T23:32:37.144Z"
   },
   {
    "duration": 887,
    "start_time": "2024-11-20T23:32:53.505Z"
   },
   {
    "duration": 303,
    "start_time": "2024-11-20T23:33:31.285Z"
   },
   {
    "duration": 46,
    "start_time": "2024-11-20T23:34:17.006Z"
   },
   {
    "duration": 48,
    "start_time": "2024-11-20T23:35:04.867Z"
   },
   {
    "duration": 46,
    "start_time": "2024-11-20T23:35:14.360Z"
   },
   {
    "duration": 48,
    "start_time": "2024-11-20T23:36:27.264Z"
   },
   {
    "duration": 19,
    "start_time": "2024-11-20T23:39:54.604Z"
   },
   {
    "duration": 4,
    "start_time": "2024-11-20T23:40:19.925Z"
   },
   {
    "duration": 6,
    "start_time": "2024-11-20T23:40:33.155Z"
   },
   {
    "duration": 6,
    "start_time": "2024-11-20T23:43:24.878Z"
   },
   {
    "duration": 121,
    "start_time": "2024-11-20T23:43:47.781Z"
   },
   {
    "duration": 7,
    "start_time": "2024-11-20T23:44:28.112Z"
   },
   {
    "duration": 6,
    "start_time": "2024-11-20T23:44:44.192Z"
   },
   {
    "duration": 5,
    "start_time": "2024-11-20T23:46:04.940Z"
   },
   {
    "duration": 5,
    "start_time": "2024-11-20T23:46:52.014Z"
   },
   {
    "duration": 6,
    "start_time": "2024-11-20T23:50:22.580Z"
   },
   {
    "duration": 5,
    "start_time": "2024-11-20T23:50:34.037Z"
   },
   {
    "duration": 20,
    "start_time": "2024-11-20T23:51:45.016Z"
   },
   {
    "duration": 18,
    "start_time": "2024-11-20T23:52:11.013Z"
   },
   {
    "duration": 22,
    "start_time": "2024-11-20T23:53:31.417Z"
   },
   {
    "duration": 7,
    "start_time": "2024-11-20T23:54:27.961Z"
   },
   {
    "duration": 8,
    "start_time": "2024-11-20T23:56:47.470Z"
   },
   {
    "duration": 14,
    "start_time": "2024-11-20T23:57:48.496Z"
   },
   {
    "duration": 18,
    "start_time": "2024-11-20T23:58:03.528Z"
   },
   {
    "duration": 20,
    "start_time": "2024-11-21T00:00:59.381Z"
   },
   {
    "duration": 22,
    "start_time": "2024-11-21T00:01:41.456Z"
   },
   {
    "duration": 18,
    "start_time": "2024-11-21T00:01:59.998Z"
   },
   {
    "duration": 21,
    "start_time": "2024-11-21T00:05:01.088Z"
   },
   {
    "duration": 6,
    "start_time": "2024-11-21T00:06:15.696Z"
   },
   {
    "duration": 23,
    "start_time": "2024-11-21T00:06:26.187Z"
   },
   {
    "duration": 154,
    "start_time": "2024-11-21T00:07:06.065Z"
   },
   {
    "duration": 153,
    "start_time": "2024-11-21T00:08:00.248Z"
   },
   {
    "duration": 144,
    "start_time": "2024-11-21T00:09:26.218Z"
   },
   {
    "duration": 6,
    "start_time": "2024-11-21T00:11:13.596Z"
   },
   {
    "duration": 7,
    "start_time": "2024-11-21T00:11:38.790Z"
   },
   {
    "duration": 7,
    "start_time": "2024-11-21T00:11:53.498Z"
   },
   {
    "duration": 8,
    "start_time": "2024-11-21T00:13:14.612Z"
   },
   {
    "duration": 7,
    "start_time": "2024-11-21T00:14:11.864Z"
   },
   {
    "duration": 17,
    "start_time": "2024-11-21T00:14:31.094Z"
   },
   {
    "duration": 391,
    "start_time": "2024-11-21T00:15:38.169Z"
   },
   {
    "duration": 48,
    "start_time": "2024-11-21T00:16:10.213Z"
   },
   {
    "duration": 781,
    "start_time": "2024-11-21T00:16:33.460Z"
   },
   {
    "duration": 25,
    "start_time": "2024-11-21T00:16:34.243Z"
   },
   {
    "duration": 12,
    "start_time": "2024-11-21T00:16:34.269Z"
   },
   {
    "duration": 14,
    "start_time": "2024-11-21T00:16:34.283Z"
   },
   {
    "duration": 16,
    "start_time": "2024-11-21T00:16:34.299Z"
   },
   {
    "duration": 55,
    "start_time": "2024-11-21T00:16:34.318Z"
   },
   {
    "duration": 10,
    "start_time": "2024-11-21T00:16:34.375Z"
   },
   {
    "duration": 12,
    "start_time": "2024-11-21T00:16:34.387Z"
   },
   {
    "duration": 41,
    "start_time": "2024-11-21T00:16:34.401Z"
   },
   {
    "duration": 17,
    "start_time": "2024-11-21T00:16:34.444Z"
   },
   {
    "duration": 10,
    "start_time": "2024-11-21T00:16:34.463Z"
   },
   {
    "duration": 10,
    "start_time": "2024-11-21T00:16:34.474Z"
   },
   {
    "duration": 12,
    "start_time": "2024-11-21T00:16:34.486Z"
   },
   {
    "duration": 48,
    "start_time": "2024-11-21T00:16:34.503Z"
   },
   {
    "duration": 24,
    "start_time": "2024-11-21T00:16:34.552Z"
   },
   {
    "duration": 16,
    "start_time": "2024-11-21T00:16:34.578Z"
   },
   {
    "duration": 16,
    "start_time": "2024-11-21T00:16:34.595Z"
   },
   {
    "duration": 41,
    "start_time": "2024-11-21T00:16:34.612Z"
   },
   {
    "duration": 7,
    "start_time": "2024-11-21T00:16:34.655Z"
   },
   {
    "duration": 143,
    "start_time": "2024-11-21T00:16:34.663Z"
   },
   {
    "duration": 17,
    "start_time": "2024-11-21T00:16:34.808Z"
   },
   {
    "duration": 25,
    "start_time": "2024-11-21T00:16:34.826Z"
   },
   {
    "duration": 147,
    "start_time": "2024-11-21T00:16:34.853Z"
   },
   {
    "duration": 7,
    "start_time": "2024-11-21T00:16:35.002Z"
   },
   {
    "duration": 5,
    "start_time": "2024-11-21T00:16:35.011Z"
   },
   {
    "duration": 4,
    "start_time": "2024-11-21T00:16:35.018Z"
   },
   {
    "duration": 18,
    "start_time": "2024-11-21T00:16:35.042Z"
   },
   {
    "duration": 19,
    "start_time": "2024-11-21T00:16:35.062Z"
   },
   {
    "duration": 9,
    "start_time": "2024-11-21T00:16:35.083Z"
   },
   {
    "duration": 154,
    "start_time": "2024-11-21T00:16:35.094Z"
   },
   {
    "duration": 15,
    "start_time": "2024-11-21T00:16:35.251Z"
   },
   {
    "duration": 367,
    "start_time": "2024-11-21T00:16:35.268Z"
   },
   {
    "duration": 278,
    "start_time": "2024-11-21T00:16:35.637Z"
   },
   {
    "duration": 295,
    "start_time": "2024-11-21T00:16:35.917Z"
   },
   {
    "duration": 134,
    "start_time": "2024-11-21T00:16:36.213Z"
   },
   {
    "duration": 426,
    "start_time": "2024-11-21T00:18:03.249Z"
   },
   {
    "duration": 43,
    "start_time": "2024-11-21T00:19:17.262Z"
   },
   {
    "duration": 42,
    "start_time": "2024-11-21T00:19:51.609Z"
   },
   {
    "duration": 43,
    "start_time": "2024-11-21T00:20:39.859Z"
   },
   {
    "duration": 13,
    "start_time": "2024-11-21T00:21:52.018Z"
   },
   {
    "duration": 44,
    "start_time": "2024-11-21T00:23:26.508Z"
   },
   {
    "duration": 806,
    "start_time": "2024-11-21T00:23:34.959Z"
   },
   {
    "duration": 24,
    "start_time": "2024-11-21T00:23:35.768Z"
   },
   {
    "duration": 11,
    "start_time": "2024-11-21T00:23:35.794Z"
   },
   {
    "duration": 15,
    "start_time": "2024-11-21T00:23:35.808Z"
   },
   {
    "duration": 18,
    "start_time": "2024-11-21T00:23:35.843Z"
   },
   {
    "duration": 38,
    "start_time": "2024-11-21T00:23:35.863Z"
   },
   {
    "duration": 9,
    "start_time": "2024-11-21T00:23:35.903Z"
   },
   {
    "duration": 33,
    "start_time": "2024-11-21T00:23:35.914Z"
   },
   {
    "duration": 19,
    "start_time": "2024-11-21T00:23:35.949Z"
   },
   {
    "duration": 17,
    "start_time": "2024-11-21T00:23:35.972Z"
   },
   {
    "duration": 9,
    "start_time": "2024-11-21T00:23:35.991Z"
   },
   {
    "duration": 10,
    "start_time": "2024-11-21T00:23:36.002Z"
   },
   {
    "duration": 40,
    "start_time": "2024-11-21T00:23:36.013Z"
   },
   {
    "duration": 25,
    "start_time": "2024-11-21T00:23:36.055Z"
   },
   {
    "duration": 23,
    "start_time": "2024-11-21T00:23:36.082Z"
   },
   {
    "duration": 48,
    "start_time": "2024-11-21T00:23:36.106Z"
   },
   {
    "duration": 17,
    "start_time": "2024-11-21T00:23:36.157Z"
   },
   {
    "duration": 14,
    "start_time": "2024-11-21T00:23:36.175Z"
   },
   {
    "duration": 7,
    "start_time": "2024-11-21T00:23:36.191Z"
   },
   {
    "duration": 161,
    "start_time": "2024-11-21T00:23:36.200Z"
   },
   {
    "duration": 20,
    "start_time": "2024-11-21T00:23:36.363Z"
   },
   {
    "duration": 18,
    "start_time": "2024-11-21T00:23:36.384Z"
   },
   {
    "duration": 152,
    "start_time": "2024-11-21T00:23:36.403Z"
   },
   {
    "duration": 7,
    "start_time": "2024-11-21T00:23:36.557Z"
   },
   {
    "duration": 5,
    "start_time": "2024-11-21T00:23:36.566Z"
   },
   {
    "duration": 8,
    "start_time": "2024-11-21T00:23:36.573Z"
   },
   {
    "duration": 23,
    "start_time": "2024-11-21T00:23:36.583Z"
   },
   {
    "duration": 45,
    "start_time": "2024-11-21T00:23:36.610Z"
   },
   {
    "duration": 11,
    "start_time": "2024-11-21T00:23:36.657Z"
   },
   {
    "duration": 142,
    "start_time": "2024-11-21T00:23:36.670Z"
   },
   {
    "duration": 14,
    "start_time": "2024-11-21T00:23:36.814Z"
   },
   {
    "duration": 389,
    "start_time": "2024-11-21T00:23:36.842Z"
   },
   {
    "duration": 290,
    "start_time": "2024-11-21T00:23:37.233Z"
   },
   {
    "duration": 290,
    "start_time": "2024-11-21T00:23:37.526Z"
   },
   {
    "duration": 26,
    "start_time": "2024-11-21T00:23:37.819Z"
   },
   {
    "duration": 8,
    "start_time": "2024-11-21T00:23:37.847Z"
   },
   {
    "duration": 4,
    "start_time": "2024-11-21T00:24:47.460Z"
   },
   {
    "duration": 682,
    "start_time": "2024-11-21T00:25:01.852Z"
   },
   {
    "duration": 753,
    "start_time": "2024-11-21T00:25:20.020Z"
   },
   {
    "duration": 24,
    "start_time": "2024-11-21T00:25:20.776Z"
   },
   {
    "duration": 11,
    "start_time": "2024-11-21T00:25:20.802Z"
   },
   {
    "duration": 33,
    "start_time": "2024-11-21T00:25:20.815Z"
   },
   {
    "duration": 18,
    "start_time": "2024-11-21T00:25:20.851Z"
   },
   {
    "duration": 35,
    "start_time": "2024-11-21T00:25:20.871Z"
   },
   {
    "duration": 12,
    "start_time": "2024-11-21T00:25:20.908Z"
   },
   {
    "duration": 37,
    "start_time": "2024-11-21T00:25:20.921Z"
   },
   {
    "duration": 20,
    "start_time": "2024-11-21T00:25:20.960Z"
   },
   {
    "duration": 16,
    "start_time": "2024-11-21T00:25:20.982Z"
   },
   {
    "duration": 10,
    "start_time": "2024-11-21T00:25:21.000Z"
   },
   {
    "duration": 42,
    "start_time": "2024-11-21T00:25:21.012Z"
   },
   {
    "duration": 14,
    "start_time": "2024-11-21T00:25:21.056Z"
   },
   {
    "duration": 19,
    "start_time": "2024-11-21T00:25:21.074Z"
   },
   {
    "duration": 22,
    "start_time": "2024-11-21T00:25:21.095Z"
   },
   {
    "duration": 20,
    "start_time": "2024-11-21T00:25:21.144Z"
   },
   {
    "duration": 17,
    "start_time": "2024-11-21T00:25:21.166Z"
   },
   {
    "duration": 14,
    "start_time": "2024-11-21T00:25:21.184Z"
   },
   {
    "duration": 7,
    "start_time": "2024-11-21T00:25:21.200Z"
   },
   {
    "duration": 164,
    "start_time": "2024-11-21T00:25:21.208Z"
   },
   {
    "duration": 18,
    "start_time": "2024-11-21T00:25:21.374Z"
   },
   {
    "duration": 18,
    "start_time": "2024-11-21T00:25:21.393Z"
   },
   {
    "duration": 157,
    "start_time": "2024-11-21T00:25:21.413Z"
   },
   {
    "duration": 6,
    "start_time": "2024-11-21T00:25:21.572Z"
   },
   {
    "duration": 6,
    "start_time": "2024-11-21T00:25:21.579Z"
   },
   {
    "duration": 5,
    "start_time": "2024-11-21T00:25:21.586Z"
   },
   {
    "duration": 18,
    "start_time": "2024-11-21T00:25:21.592Z"
   },
   {
    "duration": 44,
    "start_time": "2024-11-21T00:25:21.612Z"
   },
   {
    "duration": 9,
    "start_time": "2024-11-21T00:25:21.658Z"
   },
   {
    "duration": 137,
    "start_time": "2024-11-21T00:25:21.669Z"
   },
   {
    "duration": 14,
    "start_time": "2024-11-21T00:25:21.808Z"
   },
   {
    "duration": 375,
    "start_time": "2024-11-21T00:25:21.824Z"
   },
   {
    "duration": 288,
    "start_time": "2024-11-21T00:25:22.201Z"
   },
   {
    "duration": 305,
    "start_time": "2024-11-21T00:25:22.491Z"
   },
   {
    "duration": 18,
    "start_time": "2024-11-21T00:25:22.798Z"
   },
   {
    "duration": 687,
    "start_time": "2024-11-21T00:25:22.818Z"
   },
   {
    "duration": 0,
    "start_time": "2024-11-21T00:25:23.507Z"
   },
   {
    "duration": 4,
    "start_time": "2024-11-21T00:25:57.567Z"
   },
   {
    "duration": 9,
    "start_time": "2024-11-21T00:26:05.469Z"
   },
   {
    "duration": 7,
    "start_time": "2024-11-21T00:26:17.800Z"
   },
   {
    "duration": 7,
    "start_time": "2024-11-21T00:27:03.640Z"
   },
   {
    "duration": 813,
    "start_time": "2024-11-21T00:27:12.354Z"
   },
   {
    "duration": 24,
    "start_time": "2024-11-21T00:27:13.170Z"
   },
   {
    "duration": 12,
    "start_time": "2024-11-21T00:27:13.196Z"
   },
   {
    "duration": 15,
    "start_time": "2024-11-21T00:27:13.211Z"
   },
   {
    "duration": 17,
    "start_time": "2024-11-21T00:27:13.243Z"
   },
   {
    "duration": 36,
    "start_time": "2024-11-21T00:27:13.262Z"
   },
   {
    "duration": 10,
    "start_time": "2024-11-21T00:27:13.300Z"
   },
   {
    "duration": 32,
    "start_time": "2024-11-21T00:27:13.312Z"
   },
   {
    "duration": 20,
    "start_time": "2024-11-21T00:27:13.346Z"
   },
   {
    "duration": 17,
    "start_time": "2024-11-21T00:27:13.369Z"
   },
   {
    "duration": 10,
    "start_time": "2024-11-21T00:27:13.387Z"
   },
   {
    "duration": 11,
    "start_time": "2024-11-21T00:27:13.399Z"
   },
   {
    "duration": 20,
    "start_time": "2024-11-21T00:27:13.444Z"
   },
   {
    "duration": 21,
    "start_time": "2024-11-21T00:27:13.466Z"
   },
   {
    "duration": 23,
    "start_time": "2024-11-21T00:27:13.489Z"
   },
   {
    "duration": 36,
    "start_time": "2024-11-21T00:27:13.514Z"
   },
   {
    "duration": 17,
    "start_time": "2024-11-21T00:27:13.552Z"
   },
   {
    "duration": 14,
    "start_time": "2024-11-21T00:27:13.570Z"
   },
   {
    "duration": 6,
    "start_time": "2024-11-21T00:27:13.586Z"
   },
   {
    "duration": 159,
    "start_time": "2024-11-21T00:27:13.594Z"
   },
   {
    "duration": 17,
    "start_time": "2024-11-21T00:27:13.755Z"
   },
   {
    "duration": 17,
    "start_time": "2024-11-21T00:27:13.774Z"
   },
   {
    "duration": 149,
    "start_time": "2024-11-21T00:27:13.792Z"
   },
   {
    "duration": 7,
    "start_time": "2024-11-21T00:27:13.943Z"
   },
   {
    "duration": 5,
    "start_time": "2024-11-21T00:27:13.951Z"
   },
   {
    "duration": 4,
    "start_time": "2024-11-21T00:27:13.958Z"
   },
   {
    "duration": 18,
    "start_time": "2024-11-21T00:27:13.964Z"
   },
   {
    "duration": 17,
    "start_time": "2024-11-21T00:27:13.986Z"
   },
   {
    "duration": 46,
    "start_time": "2024-11-21T00:27:14.005Z"
   },
   {
    "duration": 136,
    "start_time": "2024-11-21T00:27:14.053Z"
   },
   {
    "duration": 15,
    "start_time": "2024-11-21T00:27:14.191Z"
   },
   {
    "duration": 375,
    "start_time": "2024-11-21T00:27:14.208Z"
   },
   {
    "duration": 277,
    "start_time": "2024-11-21T00:27:14.585Z"
   },
   {
    "duration": 285,
    "start_time": "2024-11-21T00:27:14.864Z"
   },
   {
    "duration": 23,
    "start_time": "2024-11-21T00:27:15.151Z"
   },
   {
    "duration": 3,
    "start_time": "2024-11-21T00:27:15.177Z"
   },
   {
    "duration": 13,
    "start_time": "2024-11-21T00:27:15.182Z"
   },
   {
    "duration": 8,
    "start_time": "2024-11-21T00:29:30.419Z"
   },
   {
    "duration": 7,
    "start_time": "2024-11-21T00:29:57.842Z"
   },
   {
    "duration": 7,
    "start_time": "2024-11-21T00:33:10.042Z"
   },
   {
    "duration": 7,
    "start_time": "2024-11-21T00:35:16.364Z"
   },
   {
    "duration": 7,
    "start_time": "2024-11-21T00:35:22.968Z"
   },
   {
    "duration": 10,
    "start_time": "2024-11-21T00:45:18.239Z"
   },
   {
    "duration": 8,
    "start_time": "2024-11-21T00:46:12.026Z"
   },
   {
    "duration": 6,
    "start_time": "2024-11-21T00:49:18.948Z"
   },
   {
    "duration": 2545,
    "start_time": "2024-11-21T16:00:49.740Z"
   },
   {
    "duration": 37,
    "start_time": "2024-11-21T16:00:52.287Z"
   },
   {
    "duration": 12,
    "start_time": "2024-11-21T16:00:52.326Z"
   },
   {
    "duration": 15,
    "start_time": "2024-11-21T16:00:52.340Z"
   },
   {
    "duration": 18,
    "start_time": "2024-11-21T16:00:52.358Z"
   },
   {
    "duration": 69,
    "start_time": "2024-11-21T16:00:52.379Z"
   },
   {
    "duration": 11,
    "start_time": "2024-11-21T16:00:52.450Z"
   },
   {
    "duration": 11,
    "start_time": "2024-11-21T16:00:52.464Z"
   },
   {
    "duration": 23,
    "start_time": "2024-11-21T16:00:52.477Z"
   },
   {
    "duration": 39,
    "start_time": "2024-11-21T16:00:52.501Z"
   },
   {
    "duration": 10,
    "start_time": "2024-11-21T16:00:52.541Z"
   },
   {
    "duration": 10,
    "start_time": "2024-11-21T16:00:52.553Z"
   },
   {
    "duration": 12,
    "start_time": "2024-11-21T16:00:52.565Z"
   },
   {
    "duration": 53,
    "start_time": "2024-11-21T16:00:52.581Z"
   },
   {
    "duration": 28,
    "start_time": "2024-11-21T16:00:52.636Z"
   },
   {
    "duration": 17,
    "start_time": "2024-11-21T16:00:52.666Z"
   },
   {
    "duration": 15,
    "start_time": "2024-11-21T16:00:52.685Z"
   },
   {
    "duration": 32,
    "start_time": "2024-11-21T16:00:52.702Z"
   },
   {
    "duration": 6,
    "start_time": "2024-11-21T16:00:52.736Z"
   },
   {
    "duration": 144,
    "start_time": "2024-11-21T16:00:52.744Z"
   },
   {
    "duration": 20,
    "start_time": "2024-11-21T16:00:52.890Z"
   },
   {
    "duration": 27,
    "start_time": "2024-11-21T16:00:52.912Z"
   },
   {
    "duration": 142,
    "start_time": "2024-11-21T16:00:52.941Z"
   },
   {
    "duration": 7,
    "start_time": "2024-11-21T16:00:53.085Z"
   },
   {
    "duration": 4,
    "start_time": "2024-11-21T16:00:53.095Z"
   },
   {
    "duration": 21,
    "start_time": "2024-11-21T16:00:53.102Z"
   },
   {
    "duration": 20,
    "start_time": "2024-11-21T16:00:53.125Z"
   },
   {
    "duration": 19,
    "start_time": "2024-11-21T16:00:53.146Z"
   },
   {
    "duration": 11,
    "start_time": "2024-11-21T16:00:53.166Z"
   },
   {
    "duration": 148,
    "start_time": "2024-11-21T16:00:53.179Z"
   },
   {
    "duration": 13,
    "start_time": "2024-11-21T16:00:53.329Z"
   },
   {
    "duration": 298,
    "start_time": "2024-11-21T16:00:53.346Z"
   },
   {
    "duration": 303,
    "start_time": "2024-11-21T16:00:53.647Z"
   },
   {
    "duration": 358,
    "start_time": "2024-11-21T16:00:53.952Z"
   },
   {
    "duration": 26,
    "start_time": "2024-11-21T16:00:54.312Z"
   },
   {
    "duration": 3,
    "start_time": "2024-11-21T16:00:54.341Z"
   },
   {
    "duration": 231,
    "start_time": "2024-11-21T16:00:54.345Z"
   },
   {
    "duration": 0,
    "start_time": "2024-11-21T16:00:54.578Z"
   },
   {
    "duration": 23,
    "start_time": "2024-11-21T16:01:53.723Z"
   },
   {
    "duration": 7,
    "start_time": "2024-11-21T16:02:07.756Z"
   },
   {
    "duration": 8,
    "start_time": "2024-11-21T16:05:26.270Z"
   },
   {
    "duration": 8,
    "start_time": "2024-11-21T16:06:20.926Z"
   },
   {
    "duration": 18,
    "start_time": "2024-11-21T16:10:24.040Z"
   },
   {
    "duration": 4,
    "start_time": "2024-11-21T16:11:08.585Z"
   },
   {
    "duration": 18,
    "start_time": "2024-11-21T16:11:14.694Z"
   },
   {
    "duration": 7,
    "start_time": "2024-11-21T16:12:01.494Z"
   },
   {
    "duration": 8,
    "start_time": "2024-11-21T16:12:20.201Z"
   },
   {
    "duration": 6,
    "start_time": "2024-11-21T16:15:08.074Z"
   },
   {
    "duration": 5,
    "start_time": "2024-11-21T16:15:53.583Z"
   },
   {
    "duration": 14,
    "start_time": "2024-11-21T16:16:12.912Z"
   },
   {
    "duration": 4,
    "start_time": "2024-11-21T16:16:22.939Z"
   },
   {
    "duration": 18,
    "start_time": "2024-11-21T16:16:34.263Z"
   },
   {
    "duration": 7,
    "start_time": "2024-11-21T16:17:09.080Z"
   },
   {
    "duration": 6,
    "start_time": "2024-11-21T16:17:37.865Z"
   },
   {
    "duration": 7,
    "start_time": "2024-11-21T16:19:28.183Z"
   },
   {
    "duration": 7,
    "start_time": "2024-11-21T16:19:40.014Z"
   },
   {
    "duration": 7,
    "start_time": "2024-11-21T16:20:19.270Z"
   },
   {
    "duration": 7,
    "start_time": "2024-11-21T16:21:02.212Z"
   },
   {
    "duration": 24,
    "start_time": "2024-11-21T16:21:28.117Z"
   },
   {
    "duration": 7,
    "start_time": "2024-11-21T16:21:33.026Z"
   },
   {
    "duration": 773,
    "start_time": "2024-11-21T16:21:55.338Z"
   },
   {
    "duration": 25,
    "start_time": "2024-11-21T16:21:59.713Z"
   },
   {
    "duration": 11,
    "start_time": "2024-11-21T16:22:02.395Z"
   },
   {
    "duration": 18,
    "start_time": "2024-11-21T16:22:07.102Z"
   },
   {
    "duration": 17,
    "start_time": "2024-11-21T16:22:13.457Z"
   },
   {
    "duration": 33,
    "start_time": "2024-11-21T16:22:17.657Z"
   },
   {
    "duration": 10,
    "start_time": "2024-11-21T16:22:46.359Z"
   },
   {
    "duration": 12,
    "start_time": "2024-11-21T16:22:49.936Z"
   },
   {
    "duration": 19,
    "start_time": "2024-11-21T16:22:57.660Z"
   },
   {
    "duration": 16,
    "start_time": "2024-11-21T16:23:24.640Z"
   },
   {
    "duration": 16,
    "start_time": "2024-11-21T16:23:54.649Z"
   },
   {
    "duration": 12,
    "start_time": "2024-11-21T16:23:58.781Z"
   },
   {
    "duration": 12,
    "start_time": "2024-11-21T16:24:01.946Z"
   },
   {
    "duration": 20,
    "start_time": "2024-11-21T16:24:07.849Z"
   },
   {
    "duration": 22,
    "start_time": "2024-11-21T16:24:13.373Z"
   },
   {
    "duration": 15,
    "start_time": "2024-11-21T16:24:18.838Z"
   },
   {
    "duration": 17,
    "start_time": "2024-11-21T16:24:24.408Z"
   },
   {
    "duration": 12,
    "start_time": "2024-11-21T16:24:27.416Z"
   },
   {
    "duration": 7,
    "start_time": "2024-11-21T16:24:32.087Z"
   },
   {
    "duration": 124,
    "start_time": "2024-11-21T16:24:38.313Z"
   },
   {
    "duration": 17,
    "start_time": "2024-11-21T16:24:42.815Z"
   },
   {
    "duration": 17,
    "start_time": "2024-11-21T16:24:52.115Z"
   },
   {
    "duration": 126,
    "start_time": "2024-11-21T16:25:05.202Z"
   },
   {
    "duration": 7,
    "start_time": "2024-11-21T16:25:10.191Z"
   },
   {
    "duration": 4,
    "start_time": "2024-11-21T16:25:15.423Z"
   },
   {
    "duration": 4,
    "start_time": "2024-11-21T16:25:19.443Z"
   },
   {
    "duration": 17,
    "start_time": "2024-11-21T16:25:31.561Z"
   },
   {
    "duration": 17,
    "start_time": "2024-11-21T16:25:37.703Z"
   },
   {
    "duration": 18,
    "start_time": "2024-11-21T16:25:51.086Z"
   },
   {
    "duration": 11,
    "start_time": "2024-11-21T16:25:55.042Z"
   },
   {
    "duration": 124,
    "start_time": "2024-11-21T16:25:58.724Z"
   },
   {
    "duration": 14,
    "start_time": "2024-11-21T16:26:05.061Z"
   },
   {
    "duration": 344,
    "start_time": "2024-11-21T16:26:11.140Z"
   },
   {
    "duration": 275,
    "start_time": "2024-11-21T16:26:15.178Z"
   },
   {
    "duration": 269,
    "start_time": "2024-11-21T16:26:20.078Z"
   },
   {
    "duration": 18,
    "start_time": "2024-11-21T16:26:26.663Z"
   },
   {
    "duration": 19,
    "start_time": "2024-11-21T16:26:31.632Z"
   },
   {
    "duration": 8,
    "start_time": "2024-11-21T16:26:38.276Z"
   },
   {
    "duration": 18,
    "start_time": "2024-11-21T16:27:14.158Z"
   },
   {
    "duration": 18,
    "start_time": "2024-11-21T16:27:20.238Z"
   },
   {
    "duration": 9,
    "start_time": "2024-11-21T16:27:23.667Z"
   },
   {
    "duration": 115,
    "start_time": "2024-11-21T16:27:28.819Z"
   },
   {
    "duration": 13,
    "start_time": "2024-11-21T16:27:33.353Z"
   },
   {
    "duration": 284,
    "start_time": "2024-11-21T16:27:38.272Z"
   },
   {
    "duration": 271,
    "start_time": "2024-11-21T16:27:43.063Z"
   },
   {
    "duration": 325,
    "start_time": "2024-11-21T16:27:47.571Z"
   },
   {
    "duration": 16,
    "start_time": "2024-11-21T16:27:52.540Z"
   },
   {
    "duration": 19,
    "start_time": "2024-11-21T16:27:57.394Z"
   },
   {
    "duration": 7,
    "start_time": "2024-11-21T16:28:02.483Z"
   },
   {
    "duration": 525,
    "start_time": "2024-11-21T16:28:34.072Z"
   },
   {
    "duration": 31,
    "start_time": "2024-11-21T16:28:44.633Z"
   },
   {
    "duration": 8,
    "start_time": "2024-11-21T16:29:04.008Z"
   },
   {
    "duration": 16,
    "start_time": "2024-11-21T16:30:53.152Z"
   },
   {
    "duration": 16,
    "start_time": "2024-11-21T16:33:45.907Z"
   },
   {
    "duration": 111,
    "start_time": "2024-11-21T16:33:51.522Z"
   },
   {
    "duration": 5,
    "start_time": "2024-11-21T16:34:07.970Z"
   },
   {
    "duration": 4,
    "start_time": "2024-11-21T16:34:18.865Z"
   },
   {
    "duration": 3,
    "start_time": "2024-11-21T16:34:31.946Z"
   },
   {
    "duration": 18,
    "start_time": "2024-11-21T16:34:46.913Z"
   },
   {
    "duration": 17,
    "start_time": "2024-11-21T16:34:53.187Z"
   },
   {
    "duration": 9,
    "start_time": "2024-11-21T16:34:58.592Z"
   },
   {
    "duration": 116,
    "start_time": "2024-11-21T16:35:03.092Z"
   },
   {
    "duration": 14,
    "start_time": "2024-11-21T16:35:07.785Z"
   },
   {
    "duration": 269,
    "start_time": "2024-11-21T16:35:13.083Z"
   },
   {
    "duration": 283,
    "start_time": "2024-11-21T16:35:17.410Z"
   },
   {
    "duration": 316,
    "start_time": "2024-11-21T16:35:21.746Z"
   },
   {
    "duration": 21,
    "start_time": "2024-11-21T16:35:28.581Z"
   },
   {
    "duration": 19,
    "start_time": "2024-11-21T16:35:38.351Z"
   },
   {
    "duration": 7,
    "start_time": "2024-11-21T16:35:49.602Z"
   },
   {
    "duration": 7,
    "start_time": "2024-11-21T16:36:41.416Z"
   },
   {
    "duration": 749,
    "start_time": "2024-11-21T16:37:04.765Z"
   },
   {
    "duration": 27,
    "start_time": "2024-11-21T16:37:08.380Z"
   },
   {
    "duration": 12,
    "start_time": "2024-11-21T16:37:11.375Z"
   },
   {
    "duration": 15,
    "start_time": "2024-11-21T16:37:15.248Z"
   },
   {
    "duration": 584,
    "start_time": "2024-11-21T16:37:19.813Z"
   },
   {
    "duration": 17,
    "start_time": "2024-11-21T16:38:04.512Z"
   },
   {
    "duration": 3,
    "start_time": "2024-11-21T16:38:37.335Z"
   },
   {
    "duration": 15,
    "start_time": "2024-11-21T16:38:54.557Z"
   },
   {
    "duration": 18,
    "start_time": "2024-11-21T16:39:17.374Z"
   },
   {
    "duration": 17,
    "start_time": "2024-11-21T16:39:45.078Z"
   },
   {
    "duration": 746,
    "start_time": "2024-11-21T16:40:25.857Z"
   },
   {
    "duration": 28,
    "start_time": "2024-11-21T16:40:26.605Z"
   },
   {
    "duration": 11,
    "start_time": "2024-11-21T16:40:26.635Z"
   },
   {
    "duration": 13,
    "start_time": "2024-11-21T16:40:26.648Z"
   },
   {
    "duration": 17,
    "start_time": "2024-11-21T16:40:26.663Z"
   },
   {
    "duration": 53,
    "start_time": "2024-11-21T16:40:26.681Z"
   },
   {
    "duration": 10,
    "start_time": "2024-11-21T16:40:26.735Z"
   },
   {
    "duration": 11,
    "start_time": "2024-11-21T16:40:26.746Z"
   },
   {
    "duration": 17,
    "start_time": "2024-11-21T16:40:26.759Z"
   },
   {
    "duration": 15,
    "start_time": "2024-11-21T16:40:26.778Z"
   },
   {
    "duration": 36,
    "start_time": "2024-11-21T16:40:26.794Z"
   },
   {
    "duration": 10,
    "start_time": "2024-11-21T16:40:26.831Z"
   },
   {
    "duration": 13,
    "start_time": "2024-11-21T16:40:26.843Z"
   },
   {
    "duration": 19,
    "start_time": "2024-11-21T16:40:26.860Z"
   },
   {
    "duration": 50,
    "start_time": "2024-11-21T16:40:26.881Z"
   },
   {
    "duration": 18,
    "start_time": "2024-11-21T16:40:26.934Z"
   },
   {
    "duration": 15,
    "start_time": "2024-11-21T16:40:26.954Z"
   },
   {
    "duration": 13,
    "start_time": "2024-11-21T16:40:26.971Z"
   },
   {
    "duration": 7,
    "start_time": "2024-11-21T16:40:26.985Z"
   },
   {
    "duration": 154,
    "start_time": "2024-11-21T16:40:26.993Z"
   },
   {
    "duration": 18,
    "start_time": "2024-11-21T16:40:27.148Z"
   },
   {
    "duration": 141,
    "start_time": "2024-11-21T16:40:27.167Z"
   },
   {
    "duration": 7,
    "start_time": "2024-11-21T16:40:27.310Z"
   },
   {
    "duration": 4,
    "start_time": "2024-11-21T16:40:27.324Z"
   },
   {
    "duration": 4,
    "start_time": "2024-11-21T16:40:27.330Z"
   },
   {
    "duration": 18,
    "start_time": "2024-11-21T16:40:27.335Z"
   },
   {
    "duration": 17,
    "start_time": "2024-11-21T16:40:27.355Z"
   },
   {
    "duration": 7,
    "start_time": "2024-11-21T16:40:27.374Z"
   },
   {
    "duration": 151,
    "start_time": "2024-11-21T16:40:27.383Z"
   },
   {
    "duration": 16,
    "start_time": "2024-11-21T16:40:27.536Z"
   },
   {
    "duration": 934,
    "start_time": "2024-11-21T16:40:27.554Z"
   },
   {
    "duration": 778,
    "start_time": "2024-11-21T16:40:28.490Z"
   },
   {
    "duration": 735,
    "start_time": "2024-11-21T16:40:29.270Z"
   },
   {
    "duration": 28,
    "start_time": "2024-11-21T16:40:30.007Z"
   },
   {
    "duration": 19,
    "start_time": "2024-11-21T16:40:30.037Z"
   },
   {
    "duration": 31,
    "start_time": "2024-11-21T16:40:30.058Z"
   },
   {
    "duration": 10,
    "start_time": "2024-11-21T16:40:30.092Z"
   },
   {
    "duration": 25,
    "start_time": "2024-11-21T16:40:30.104Z"
   },
   {
    "duration": 8,
    "start_time": "2024-11-21T16:41:05.534Z"
   },
   {
    "duration": 619,
    "start_time": "2024-11-21T16:42:43.610Z"
   },
   {
    "duration": 8,
    "start_time": "2024-11-21T16:42:53.027Z"
   },
   {
    "duration": 8,
    "start_time": "2024-11-21T16:46:46.751Z"
   },
   {
    "duration": 8,
    "start_time": "2024-11-21T16:47:04.285Z"
   },
   {
    "duration": 7,
    "start_time": "2024-11-21T16:47:48.989Z"
   },
   {
    "duration": 8,
    "start_time": "2024-11-21T16:50:59.324Z"
   },
   {
    "duration": 8,
    "start_time": "2024-11-21T16:51:15.693Z"
   },
   {
    "duration": 8,
    "start_time": "2024-11-21T16:52:10.343Z"
   },
   {
    "duration": 8,
    "start_time": "2024-11-21T16:52:23.602Z"
   },
   {
    "duration": 8,
    "start_time": "2024-11-21T16:52:41.417Z"
   },
   {
    "duration": 719,
    "start_time": "2024-11-21T16:53:06.500Z"
   },
   {
    "duration": 31,
    "start_time": "2024-11-21T16:53:09.103Z"
   },
   {
    "duration": 13,
    "start_time": "2024-11-21T16:53:14.781Z"
   },
   {
    "duration": 15,
    "start_time": "2024-11-21T16:53:18.724Z"
   },
   {
    "duration": 615,
    "start_time": "2024-11-21T16:53:27.849Z"
   },
   {
    "duration": 16,
    "start_time": "2024-11-21T16:53:40.282Z"
   },
   {
    "duration": 49,
    "start_time": "2024-11-21T16:53:46.848Z"
   },
   {
    "duration": 13,
    "start_time": "2024-11-21T16:53:52.300Z"
   },
   {
    "duration": 14,
    "start_time": "2024-11-21T16:53:56.035Z"
   },
   {
    "duration": 18,
    "start_time": "2024-11-21T16:54:08.478Z"
   },
   {
    "duration": 20,
    "start_time": "2024-11-21T16:54:15.948Z"
   },
   {
    "duration": 18,
    "start_time": "2024-11-21T16:54:24.998Z"
   },
   {
    "duration": 16,
    "start_time": "2024-11-21T16:54:33.249Z"
   },
   {
    "duration": 16,
    "start_time": "2024-11-21T16:54:38.939Z"
   },
   {
    "duration": 12,
    "start_time": "2024-11-21T16:54:43.929Z"
   },
   {
    "duration": 15,
    "start_time": "2024-11-21T16:54:48.618Z"
   },
   {
    "duration": 24,
    "start_time": "2024-11-21T16:54:53.772Z"
   },
   {
    "duration": 23,
    "start_time": "2024-11-21T16:55:02.394Z"
   },
   {
    "duration": 21,
    "start_time": "2024-11-21T16:55:08.655Z"
   },
   {
    "duration": 16,
    "start_time": "2024-11-21T16:55:14.306Z"
   },
   {
    "duration": 19,
    "start_time": "2024-11-21T16:55:19.101Z"
   },
   {
    "duration": 14,
    "start_time": "2024-11-21T16:55:26.632Z"
   },
   {
    "duration": 20,
    "start_time": "2024-11-21T16:55:34.857Z"
   },
   {
    "duration": 8,
    "start_time": "2024-11-21T16:55:41.695Z"
   },
   {
    "duration": 126,
    "start_time": "2024-11-21T16:55:45.601Z"
   },
   {
    "duration": 24,
    "start_time": "2024-11-21T16:55:55.536Z"
   },
   {
    "duration": 18,
    "start_time": "2024-11-21T16:56:01.191Z"
   },
   {
    "duration": 20,
    "start_time": "2024-11-21T16:56:09.713Z"
   },
   {
    "duration": 191,
    "start_time": "2024-11-21T16:56:15.793Z"
   },
   {
    "duration": 6,
    "start_time": "2024-11-21T16:56:21.570Z"
   },
   {
    "duration": 9,
    "start_time": "2024-11-21T16:56:31.214Z"
   },
   {
    "duration": 22,
    "start_time": "2024-11-21T16:57:07.532Z"
   },
   {
    "duration": 7,
    "start_time": "2024-11-21T17:02:21.289Z"
   },
   {
    "duration": 23,
    "start_time": "2024-11-21T17:02:38.686Z"
   },
   {
    "duration": 5,
    "start_time": "2024-11-21T17:03:48.991Z"
   },
   {
    "duration": 8,
    "start_time": "2024-11-21T17:03:59.345Z"
   },
   {
    "duration": 9,
    "start_time": "2024-11-21T17:04:03.862Z"
   },
   {
    "duration": 7,
    "start_time": "2024-11-21T17:04:07.571Z"
   },
   {
    "duration": 7,
    "start_time": "2024-11-21T17:04:29.115Z"
   },
   {
    "duration": 20,
    "start_time": "2024-11-21T17:04:45.086Z"
   },
   {
    "duration": 105,
    "start_time": "2024-11-21T17:10:03.974Z"
   },
   {
    "duration": 6,
    "start_time": "2024-11-21T17:11:16.479Z"
   },
   {
    "duration": 67,
    "start_time": "2024-11-21T17:11:44.179Z"
   },
   {
    "duration": 19,
    "start_time": "2024-11-21T17:12:14.369Z"
   },
   {
    "duration": 5,
    "start_time": "2024-11-21T17:12:36.968Z"
   },
   {
    "duration": 20,
    "start_time": "2024-11-21T17:13:05.292Z"
   },
   {
    "duration": 4,
    "start_time": "2024-11-21T17:13:13.242Z"
   },
   {
    "duration": 7,
    "start_time": "2024-11-21T17:13:22.107Z"
   },
   {
    "duration": 4,
    "start_time": "2024-11-21T17:13:47.640Z"
   },
   {
    "duration": 18,
    "start_time": "2024-11-21T17:14:04.387Z"
   },
   {
    "duration": 109,
    "start_time": "2024-11-21T17:14:08.656Z"
   },
   {
    "duration": 6,
    "start_time": "2024-11-21T17:14:11.658Z"
   },
   {
    "duration": 5,
    "start_time": "2024-11-21T17:14:14.313Z"
   },
   {
    "duration": 4,
    "start_time": "2024-11-21T17:14:19.033Z"
   },
   {
    "duration": 20,
    "start_time": "2024-11-21T17:14:22.218Z"
   },
   {
    "duration": 18,
    "start_time": "2024-11-21T17:14:27.655Z"
   },
   {
    "duration": 9,
    "start_time": "2024-11-21T17:15:26.287Z"
   },
   {
    "duration": 114,
    "start_time": "2024-11-21T17:15:37.061Z"
   },
   {
    "duration": 16,
    "start_time": "2024-11-21T17:15:52.640Z"
   },
   {
    "duration": 742,
    "start_time": "2024-11-21T17:15:58.338Z"
   },
   {
    "duration": 687,
    "start_time": "2024-11-21T17:16:04.327Z"
   },
   {
    "duration": 790,
    "start_time": "2024-11-21T17:16:08.739Z"
   },
   {
    "duration": 18,
    "start_time": "2024-11-21T17:16:13.280Z"
   },
   {
    "duration": 8,
    "start_time": "2024-11-21T17:16:20.918Z"
   },
   {
    "duration": 8,
    "start_time": "2024-11-21T17:16:24.975Z"
   },
   {
    "duration": 789,
    "start_time": "2024-11-21T17:16:56.928Z"
   },
   {
    "duration": 30,
    "start_time": "2024-11-21T17:16:57.719Z"
   },
   {
    "duration": 12,
    "start_time": "2024-11-21T17:16:57.750Z"
   },
   {
    "duration": 14,
    "start_time": "2024-11-21T17:16:57.764Z"
   },
   {
    "duration": 16,
    "start_time": "2024-11-21T17:16:57.780Z"
   },
   {
    "duration": 60,
    "start_time": "2024-11-21T17:16:57.798Z"
   },
   {
    "duration": 10,
    "start_time": "2024-11-21T17:16:57.859Z"
   },
   {
    "duration": 12,
    "start_time": "2024-11-21T17:16:57.871Z"
   },
   {
    "duration": 40,
    "start_time": "2024-11-21T17:16:57.884Z"
   },
   {
    "duration": 21,
    "start_time": "2024-11-21T17:16:57.927Z"
   },
   {
    "duration": 9,
    "start_time": "2024-11-21T17:16:57.949Z"
   },
   {
    "duration": 10,
    "start_time": "2024-11-21T17:16:57.960Z"
   },
   {
    "duration": 12,
    "start_time": "2024-11-21T17:16:57.971Z"
   },
   {
    "duration": 45,
    "start_time": "2024-11-21T17:16:57.984Z"
   },
   {
    "duration": 22,
    "start_time": "2024-11-21T17:16:58.030Z"
   },
   {
    "duration": 15,
    "start_time": "2024-11-21T17:16:58.054Z"
   },
   {
    "duration": 15,
    "start_time": "2024-11-21T17:16:58.071Z"
   },
   {
    "duration": 37,
    "start_time": "2024-11-21T17:16:58.087Z"
   },
   {
    "duration": 8,
    "start_time": "2024-11-21T17:16:58.125Z"
   },
   {
    "duration": 138,
    "start_time": "2024-11-21T17:16:58.135Z"
   },
   {
    "duration": 17,
    "start_time": "2024-11-21T17:16:58.274Z"
   },
   {
    "duration": 140,
    "start_time": "2024-11-21T17:16:58.292Z"
   },
   {
    "duration": 7,
    "start_time": "2024-11-21T17:16:58.434Z"
   },
   {
    "duration": 5,
    "start_time": "2024-11-21T17:16:58.442Z"
   },
   {
    "duration": 4,
    "start_time": "2024-11-21T17:16:58.449Z"
   },
   {
    "duration": 16,
    "start_time": "2024-11-21T17:16:58.454Z"
   },
   {
    "duration": 17,
    "start_time": "2024-11-21T17:16:58.472Z"
   },
   {
    "duration": 8,
    "start_time": "2024-11-21T17:16:58.525Z"
   },
   {
    "duration": 120,
    "start_time": "2024-11-21T17:16:58.534Z"
   },
   {
    "duration": 16,
    "start_time": "2024-11-21T17:16:58.655Z"
   },
   {
    "duration": 847,
    "start_time": "2024-11-21T17:16:58.673Z"
   },
   {
    "duration": 782,
    "start_time": "2024-11-21T17:16:59.522Z"
   },
   {
    "duration": 721,
    "start_time": "2024-11-21T17:17:00.305Z"
   },
   {
    "duration": 18,
    "start_time": "2024-11-21T17:17:01.027Z"
   },
   {
    "duration": 19,
    "start_time": "2024-11-21T17:17:01.047Z"
   },
   {
    "duration": 8,
    "start_time": "2024-11-21T17:17:01.067Z"
   },
   {
    "duration": 8,
    "start_time": "2024-11-21T17:17:01.076Z"
   },
   {
    "duration": 7,
    "start_time": "2024-11-21T17:22:46.093Z"
   },
   {
    "duration": 7,
    "start_time": "2024-11-21T17:22:59.537Z"
   },
   {
    "duration": 10,
    "start_time": "2024-11-21T17:23:35.428Z"
   },
   {
    "duration": 18,
    "start_time": "2024-11-21T17:24:07.445Z"
   },
   {
    "duration": 9,
    "start_time": "2024-11-21T17:24:16.726Z"
   },
   {
    "duration": 9,
    "start_time": "2024-11-21T17:24:27.847Z"
   },
   {
    "duration": 8,
    "start_time": "2024-11-21T17:24:52.396Z"
   },
   {
    "duration": 775,
    "start_time": "2024-11-21T17:25:14.829Z"
   },
   {
    "duration": 28,
    "start_time": "2024-11-21T17:25:15.606Z"
   },
   {
    "duration": 11,
    "start_time": "2024-11-21T17:25:15.636Z"
   },
   {
    "duration": 16,
    "start_time": "2024-11-21T17:25:15.651Z"
   },
   {
    "duration": 21,
    "start_time": "2024-11-21T17:25:15.669Z"
   },
   {
    "duration": 54,
    "start_time": "2024-11-21T17:25:15.692Z"
   },
   {
    "duration": 11,
    "start_time": "2024-11-21T17:25:15.748Z"
   },
   {
    "duration": 12,
    "start_time": "2024-11-21T17:25:15.761Z"
   },
   {
    "duration": 19,
    "start_time": "2024-11-21T17:25:15.774Z"
   },
   {
    "duration": 35,
    "start_time": "2024-11-21T17:25:15.797Z"
   },
   {
    "duration": 9,
    "start_time": "2024-11-21T17:25:15.833Z"
   },
   {
    "duration": 10,
    "start_time": "2024-11-21T17:25:15.844Z"
   },
   {
    "duration": 11,
    "start_time": "2024-11-21T17:25:15.856Z"
   },
   {
    "duration": 19,
    "start_time": "2024-11-21T17:25:15.869Z"
   },
   {
    "duration": 50,
    "start_time": "2024-11-21T17:25:15.890Z"
   },
   {
    "duration": 15,
    "start_time": "2024-11-21T17:25:15.941Z"
   },
   {
    "duration": 15,
    "start_time": "2024-11-21T17:25:15.957Z"
   },
   {
    "duration": 12,
    "start_time": "2024-11-21T17:25:15.974Z"
   },
   {
    "duration": 6,
    "start_time": "2024-11-21T17:25:15.988Z"
   },
   {
    "duration": 128,
    "start_time": "2024-11-21T17:25:16.023Z"
   },
   {
    "duration": 17,
    "start_time": "2024-11-21T17:25:16.152Z"
   },
   {
    "duration": 141,
    "start_time": "2024-11-21T17:25:16.171Z"
   },
   {
    "duration": 13,
    "start_time": "2024-11-21T17:25:16.313Z"
   },
   {
    "duration": 4,
    "start_time": "2024-11-21T17:25:16.327Z"
   },
   {
    "duration": 4,
    "start_time": "2024-11-21T17:25:16.333Z"
   },
   {
    "duration": 18,
    "start_time": "2024-11-21T17:25:16.339Z"
   },
   {
    "duration": 17,
    "start_time": "2024-11-21T17:25:16.358Z"
   },
   {
    "duration": 8,
    "start_time": "2024-11-21T17:25:16.378Z"
   },
   {
    "duration": 150,
    "start_time": "2024-11-21T17:25:16.387Z"
   },
   {
    "duration": 16,
    "start_time": "2024-11-21T17:25:16.539Z"
   },
   {
    "duration": 792,
    "start_time": "2024-11-21T17:25:16.556Z"
   },
   {
    "duration": 742,
    "start_time": "2024-11-21T17:25:17.350Z"
   },
   {
    "duration": 717,
    "start_time": "2024-11-21T17:25:18.094Z"
   },
   {
    "duration": 28,
    "start_time": "2024-11-21T17:25:18.813Z"
   },
   {
    "duration": 8,
    "start_time": "2024-11-21T17:25:18.843Z"
   },
   {
    "duration": 8,
    "start_time": "2024-11-21T17:25:18.852Z"
   },
   {
    "duration": 19,
    "start_time": "2024-11-21T17:31:15.669Z"
   },
   {
    "duration": 21,
    "start_time": "2024-11-21T17:31:27.491Z"
   },
   {
    "duration": 17,
    "start_time": "2024-11-21T17:52:27.460Z"
   },
   {
    "duration": 18,
    "start_time": "2024-11-21T17:55:01.280Z"
   },
   {
    "duration": 6,
    "start_time": "2024-11-21T17:56:21.993Z"
   },
   {
    "duration": 4,
    "start_time": "2024-11-21T17:58:17.100Z"
   },
   {
    "duration": 18,
    "start_time": "2024-11-21T18:06:40.997Z"
   },
   {
    "duration": 18,
    "start_time": "2024-11-21T18:07:06.830Z"
   },
   {
    "duration": 17,
    "start_time": "2024-11-21T18:07:21.580Z"
   },
   {
    "duration": 9,
    "start_time": "2024-11-21T18:07:27.833Z"
   },
   {
    "duration": 117,
    "start_time": "2024-11-21T18:07:46.602Z"
   },
   {
    "duration": 18,
    "start_time": "2024-11-21T18:08:27.791Z"
   },
   {
    "duration": 18,
    "start_time": "2024-11-21T18:18:57.114Z"
   },
   {
    "duration": 7,
    "start_time": "2024-11-21T18:19:17.591Z"
   },
   {
    "duration": 8,
    "start_time": "2024-11-21T18:19:27.647Z"
   },
   {
    "duration": 869,
    "start_time": "2024-11-21T18:29:26.649Z"
   },
   {
    "duration": 33,
    "start_time": "2024-11-21T18:29:27.524Z"
   },
   {
    "duration": 14,
    "start_time": "2024-11-21T18:29:27.559Z"
   },
   {
    "duration": 19,
    "start_time": "2024-11-21T18:29:27.575Z"
   },
   {
    "duration": 42,
    "start_time": "2024-11-21T18:29:27.598Z"
   },
   {
    "duration": 40,
    "start_time": "2024-11-21T18:29:27.642Z"
   },
   {
    "duration": 12,
    "start_time": "2024-11-21T18:29:27.684Z"
   },
   {
    "duration": 27,
    "start_time": "2024-11-21T18:29:27.698Z"
   },
   {
    "duration": 28,
    "start_time": "2024-11-21T18:29:27.728Z"
   },
   {
    "duration": 16,
    "start_time": "2024-11-21T18:29:27.758Z"
   },
   {
    "duration": 9,
    "start_time": "2024-11-21T18:29:27.776Z"
   },
   {
    "duration": 51,
    "start_time": "2024-11-21T18:29:27.786Z"
   },
   {
    "duration": 12,
    "start_time": "2024-11-21T18:29:27.839Z"
   },
   {
    "duration": 23,
    "start_time": "2024-11-21T18:29:27.856Z"
   },
   {
    "duration": 26,
    "start_time": "2024-11-21T18:29:27.881Z"
   },
   {
    "duration": 31,
    "start_time": "2024-11-21T18:29:27.909Z"
   },
   {
    "duration": 26,
    "start_time": "2024-11-21T18:29:27.943Z"
   },
   {
    "duration": 15,
    "start_time": "2024-11-21T18:29:27.972Z"
   },
   {
    "duration": 7,
    "start_time": "2024-11-21T18:29:27.988Z"
   },
   {
    "duration": 156,
    "start_time": "2024-11-21T18:29:27.998Z"
   },
   {
    "duration": 17,
    "start_time": "2024-11-21T18:29:28.156Z"
   },
   {
    "duration": 139,
    "start_time": "2024-11-21T18:29:28.175Z"
   },
   {
    "duration": 12,
    "start_time": "2024-11-21T18:29:28.316Z"
   },
   {
    "duration": 5,
    "start_time": "2024-11-21T18:29:28.330Z"
   },
   {
    "duration": 4,
    "start_time": "2024-11-21T18:29:28.337Z"
   },
   {
    "duration": 19,
    "start_time": "2024-11-21T18:29:28.343Z"
   },
   {
    "duration": 18,
    "start_time": "2024-11-21T18:29:28.363Z"
   },
   {
    "duration": 41,
    "start_time": "2024-11-21T18:29:28.383Z"
   },
   {
    "duration": 124,
    "start_time": "2024-11-21T18:29:28.425Z"
   },
   {
    "duration": 16,
    "start_time": "2024-11-21T18:29:28.551Z"
   },
   {
    "duration": 839,
    "start_time": "2024-11-21T18:29:28.569Z"
   },
   {
    "duration": 784,
    "start_time": "2024-11-21T18:29:29.410Z"
   },
   {
    "duration": 723,
    "start_time": "2024-11-21T18:29:30.196Z"
   },
   {
    "duration": 19,
    "start_time": "2024-11-21T18:29:30.921Z"
   },
   {
    "duration": 8,
    "start_time": "2024-11-21T18:29:30.942Z"
   },
   {
    "duration": 8,
    "start_time": "2024-11-21T18:29:30.951Z"
   },
   {
    "duration": 703,
    "start_time": "2024-11-22T15:35:33.584Z"
   },
   {
    "duration": 39,
    "start_time": "2024-11-22T15:35:34.288Z"
   },
   {
    "duration": 10,
    "start_time": "2024-11-22T15:35:34.329Z"
   },
   {
    "duration": 14,
    "start_time": "2024-11-22T15:35:34.340Z"
   },
   {
    "duration": 15,
    "start_time": "2024-11-22T15:35:34.356Z"
   },
   {
    "duration": 48,
    "start_time": "2024-11-22T15:35:34.373Z"
   },
   {
    "duration": 9,
    "start_time": "2024-11-22T15:35:34.423Z"
   },
   {
    "duration": 11,
    "start_time": "2024-11-22T15:35:34.433Z"
   },
   {
    "duration": 18,
    "start_time": "2024-11-22T15:35:34.446Z"
   },
   {
    "duration": 15,
    "start_time": "2024-11-22T15:35:34.465Z"
   },
   {
    "duration": 8,
    "start_time": "2024-11-22T15:35:34.506Z"
   },
   {
    "duration": 10,
    "start_time": "2024-11-22T15:35:34.516Z"
   },
   {
    "duration": 11,
    "start_time": "2024-11-22T15:35:34.527Z"
   },
   {
    "duration": 18,
    "start_time": "2024-11-22T15:35:34.541Z"
   },
   {
    "duration": 48,
    "start_time": "2024-11-22T15:35:34.560Z"
   },
   {
    "duration": 15,
    "start_time": "2024-11-22T15:35:34.610Z"
   },
   {
    "duration": 15,
    "start_time": "2024-11-22T15:35:34.627Z"
   },
   {
    "duration": 12,
    "start_time": "2024-11-22T15:35:34.644Z"
   },
   {
    "duration": 5,
    "start_time": "2024-11-22T15:35:34.658Z"
   },
   {
    "duration": 162,
    "start_time": "2024-11-22T15:35:34.665Z"
   },
   {
    "duration": 17,
    "start_time": "2024-11-22T15:35:34.828Z"
   },
   {
    "duration": 132,
    "start_time": "2024-11-22T15:35:34.847Z"
   },
   {
    "duration": 5,
    "start_time": "2024-11-22T15:35:34.981Z"
   },
   {
    "duration": 4,
    "start_time": "2024-11-22T15:35:34.988Z"
   },
   {
    "duration": 4,
    "start_time": "2024-11-22T15:35:35.006Z"
   },
   {
    "duration": 18,
    "start_time": "2024-11-22T15:35:35.012Z"
   },
   {
    "duration": 16,
    "start_time": "2024-11-22T15:35:35.032Z"
   },
   {
    "duration": 8,
    "start_time": "2024-11-22T15:35:35.050Z"
   },
   {
    "duration": 148,
    "start_time": "2024-11-22T15:35:35.059Z"
   },
   {
    "duration": 16,
    "start_time": "2024-11-22T15:35:35.208Z"
   },
   {
    "duration": 755,
    "start_time": "2024-11-22T15:35:35.225Z"
   },
   {
    "duration": 730,
    "start_time": "2024-11-22T15:35:35.982Z"
   },
   {
    "duration": 706,
    "start_time": "2024-11-22T15:35:36.714Z"
   },
   {
    "duration": 18,
    "start_time": "2024-11-22T15:35:37.422Z"
   },
   {
    "duration": 7,
    "start_time": "2024-11-22T15:35:37.442Z"
   },
   {
    "duration": 7,
    "start_time": "2024-11-22T15:35:37.450Z"
   }
  ],
  "kernelspec": {
   "display_name": "Python 3 (ipykernel)",
   "language": "python",
   "name": "python3"
  },
  "language_info": {
   "codemirror_mode": {
    "name": "ipython",
    "version": 3
   },
   "file_extension": ".py",
   "mimetype": "text/x-python",
   "name": "python",
   "nbconvert_exporter": "python",
   "pygments_lexer": "ipython3",
   "version": "3.9.19"
  },
  "toc": {
   "base_numbering": 1,
   "nav_menu": {},
   "number_sections": true,
   "sideBar": true,
   "skip_h1_title": true,
   "title_cell": "Table of Contents",
   "title_sidebar": "Contents",
   "toc_cell": false,
   "toc_position": {
    "height": "calc(100% - 180px)",
    "left": "10px",
    "top": "150px",
    "width": "244.154px"
   },
   "toc_section_display": true,
   "toc_window_display": false
  }
 },
 "nbformat": 4,
 "nbformat_minor": 2
}
